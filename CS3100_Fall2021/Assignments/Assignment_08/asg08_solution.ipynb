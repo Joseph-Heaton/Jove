{
 "cells": [
  {
   "cell_type": "markdown",
   "metadata": {
    "run_control": {
     "frozen": false,
     "read_only": false
    }
   },
   "source": [
    "# Turing Machines"
   ]
  },
  {
   "cell_type": "code",
   "execution_count": null,
   "metadata": {
    "run_control": {
     "frozen": false,
     "read_only": false
    }
   },
   "outputs": [],
   "source": [
    "#~~~~~~~~~~~~~~~~~~~~~~~~~~~~~~~~~~~~~~~~~~~~~~~~~~~~~~~\n",
    "import sys\n",
    "\n",
    "# -- Detect if in Own Install or in Colab\n",
    "try|:\n",
    "    import google.colab\n",
    "    OWN_INSTALL = False\n",
    "except:\n",
    "    OWN_INSTALL = True\n",
    "    \n",
    "if OWN_INSTALL:\n",
    "    \n",
    "  #---- Leave these definitions ON if running on laptop\n",
    "  #---- Else turn OFF by putting them between ''' ... '''\n",
    "\n",
    "  sys.path[0:0] = ['../../../../..',  '../../../../../3rdparty',  \n",
    "                   '../../../..',  '../../../../3rdparty',  \n",
    "                   '../../..',     '../../../3rdparty', \n",
    "                   '../..',        '../../3rdparty',\n",
    "                   '..',           '../3rdparty' ]\n",
    "\n",
    "else: # In colab\n",
    "  ! if [ ! -d Jove ]; then git clone https://github.com/ganeshutah/Jove Jove; fi\n",
    "  sys.path.append('./Jove')\n",
    "  sys.path.append('./Jove/jove')\n",
    "\n",
    "# -- common imports --\n",
    "from jove.Def_TM     import *\n",
    "from jove.Def_md2mc  import *\n",
    "from jove.DotBashers import *\n",
    "from jove.JoveEditor import *\n",
    "from jove.Def_PDA    import *\n",
    "from jove.AnimateTM import * #-- usage: AnimateTM(whas101DTM, FuseEdges=True)\n",
    "#~~~~~~~~~~~~~~~~~~~~~~~~~~~~~~~~~~~~~~~~~~~~~~~~~~~~~~~"
   ]
  },
  {
   "cell_type": "markdown",
   "metadata": {},
   "source": [
    "## Question 1 (25 points):\n",
    "\n",
    "### Solve the PCP instance given below by hand first (15 points) \n",
    "\n",
    "\n",
    "### TILES = [('110', '1'), ('1', '0'), ('0', '110'),       ('0','1')] \n",
    "\n",
    "### And then by using the tool (10 points)\n",
    "\n",
    "### using the command pcp_solve( TILES  , OWN_INSTALL)  \n",
    "\n",
    "### You may always use help(pcp_solve) for details"
   ]
  },
  {
   "cell_type": "code",
   "execution_count": null,
   "metadata": {},
   "outputs": [],
   "source": [
    "Solution 1\n",
    "[3, 2, 2, 4, 1]\n",
    "0   1   1   0   011 \n",
    "011 0   0   1   1  "
   ]
  },
  {
   "cell_type": "code",
   "execution_count": null,
   "metadata": {},
   "outputs": [],
   "source": []
  },
  {
   "cell_type": "markdown",
   "metadata": {},
   "source": [
    "# Halt_TM proof\n",
    " \n",
    " \n",
    "* Suppose there exists a decider $H$ for $Halt_{TM}$. \n",
    " $H$ expects to be\n",
    " given a \\TM $M$ and a string $w$. Notice that _giving a TM to $H$_\n",
    " means\n",
    " ``giving it a character string representing a TM program.''\n",
    " Hence, in reality, we will be feeding $H$\n",
    "  the pair $\\langle M,w\\rangle$.\n",
    "\n",
    "* Build a program called $D$ as follows: \n",
    "  - $D$ takes a single argument $M$.\n",
    "  - As its first step, $D$ invokes $H$ on $\\langle M,M\\rangle$.\n",
    "  - If $H(\\langle M,M\\rangle)$ rejects, $D(\\langle M\\rangle)$ accepts (hence halts).\n",
    "  - If $H(\\langle M,M\\rangle)$ accepts, $D(\\langle M\\rangle)$ loops.\n",
    "    \n",
    " \n",
    "* Now we can ask what $D(\\langle D\\rangle)$ will \n",
    "  - The $D(\\langle D\\rangle)$ ``call'' turns into an $H(\\langle D,D\\rangle)$ \n",
    "    call.\n",
    " \n",
    "* Suppose $H(\\langle D,D\\rangle)$ rejects. then $D(\\langle D\\rangle)$ halts.\n",
    "\n",
    "* But, according to the advertised behavior of $H$, the\n",
    "   fact that $H(\\langle D,D\\rangle)$\n",
    "   rejects means that $D$ is \n",
    "   a Turing machine that {\\bf does not} halt on $\\langle D\\rangle$, or\n",
    "  that $D(\\langle D\\rangle)$   loops!  \n",
    " \n",
    "* Suppose $H(\\langle D,D\\rangle)$ accepts. \n",
    "  In that case,  \n",
    "  $D(\\langle D\\rangle)$ loops.\n",
    "\n",
    "* But, according to the advertised behavior of $H$, the\n",
    "  fact that $H(\\langle D,D\\rangle)$\n",
    "  accepts means that $D$ {\\em is} \n",
    "   a Turing machine that {\\em halts on} $\\langle D\\rangle$, or\n",
    "   that \n",
    "   $D(\\langle D\\rangle)$ halts!}   This is\n",
    "  the second part of a two-part contradiction that we\n",
    "  have obtained.\n",
    "\n",
    "\n",
    "* Therefore, we obtain a contradiction under\n",
    "  all cases. \n",
    "  \n",
    "* Thus, $Halt_{TM}$ is undecidable.\n",
    "\n",
    " \n",
    " "
   ]
  },
  {
   "cell_type": "code",
   "execution_count": null,
   "metadata": {},
   "outputs": [],
   "source": []
  },
  {
   "cell_type": "code",
   "execution_count": null,
   "metadata": {},
   "outputs": [],
   "source": []
  },
  {
   "cell_type": "markdown",
   "metadata": {},
   "source": [
    "## CFL_TM Mapping Reduction\n",
    "\n",
    "\n",
    "* The mapping reduction from $A_{TM}$ to $CFL_{TM}$ is to emit this machine M' \n",
    " \n",
    "\n",
    "      M'(x) {\n",
    "        if x is of the form 0^n 1^n 2^n then goto accept_M' ;  // Could also be a \"ww\" pattern which is non-CFL\n",
    "        Run M on w ;\n",
    "        If M accepts w, goto accept_M' ;\n",
    "        If M rejects w, goto reject_M' ; }\n",
    " \n",
    "\n",
    "* Suppose M' has a CFL\n",
    "  - but this is possible only if the language of M' is 0^n 1^n 2^n UNION all remaining strings, i.e. Sigma*\n",
    "  - This is possible if M accepts w\n",
    "  \n",
    "* Suppose M' does not have a CFL\n",
    "  - this is possible only if  M does not accept w (in that case, strings 0^n 1^n 2^n will be in M's language)\n",
    "  \n",
    "* Thus we have achieved our mapping reduction \n",
    "  - that is, M' has a CFL if and only if M accepts w."
   ]
  },
  {
   "cell_type": "code",
   "execution_count": null,
   "metadata": {},
   "outputs": [],
   "source": []
  },
  {
   "cell_type": "code",
   "execution_count": null,
   "metadata": {},
   "outputs": [],
   "source": []
  },
  {
   "cell_type": "code",
   "execution_count": null,
   "metadata": {},
   "outputs": [],
   "source": []
  },
  {
   "cell_type": "code",
   "execution_count": null,
   "metadata": {},
   "outputs": [],
   "source": []
  },
  {
   "cell_type": "code",
   "execution_count": null,
   "metadata": {},
   "outputs": [],
   "source": []
  },
  {
   "cell_type": "markdown",
   "metadata": {
    "run_control": {
     "frozen": false,
     "read_only": false
    }
   },
   "source": [
    "# Asg9 DTM for w#x where w is a substring of x"
   ]
  },
  {
   "cell_type": "code",
   "execution_count": null,
   "metadata": {},
   "outputs": [],
   "source": [
    "Asg9DTM = md2mc('''\n",
    "TM \n",
    "I : #; #, R  -> F       !! Done since no w or x\n",
    "I : a; A, R -> LCa      !! found a; change to mark as read (A), seek # left of #, then a\n",
    "I : b; B, R -> LCb      !! ditto except a->b\n",
    "\n",
    "LCa: a; a, R | b; b, R -> LCa !! keep skipping seek #\n",
    "LCb: a; a, R | b; b, R -> LCb !! ditto - seek #\n",
    "\n",
    "LCa: #; #, R -> RCa  !! Seek a to right of #\n",
    "LCb: #; #, R -> RCb  !! ditto, but b\n",
    "\n",
    "RCa: X; X, R | Y; Y, R -> RCa !! Keep looking for a \n",
    "RCb: X; X, R | Y; Y, R -> RCb !! .. for b\n",
    "\n",
    "RCa: a; X, L -> MoreL#  !! found first a; enter more loop, but first get #\n",
    "RCb: b; Y, L -> MoreL#  !! found first b; enter more loop, but first get #\n",
    "\n",
    "RCa: b; Y, L -> ClrI !! Failed finding a; found b instead; enter clear loop\n",
    "RCb: a; X, L -> ClrI !! ditto : a->b\n",
    "\n",
    "ClrI: X; X, L | Y; Y, L | #; #, L | a; a, L | b; b, L | A; a, L | B; b, L -> ClrI !! clear loop\n",
    "\n",
    "ClrI: .; ., R -> I !! Clear loop over, back to pristine \"I\" state\n",
    "\n",
    "\n",
    "MoreL#: X; X, L | Y; Y, L | a; a, L | b; b, L | A; A, L | B; B, L -> MoreL# !! More loop, first get #\n",
    "\n",
    "MoreL#: #; #, L -> MoreL !! More loop; Found #; now plain more Loop\n",
    "\n",
    "MoreL:  a; a, L | b; b, L -> MoreL !! More loop for left end\n",
    "\n",
    "MoreL: A; A, R -> J !! Successful More loop fini ; next iteration begins at J (not I)\n",
    "MoreL: B; B, R -> J !! ditto (A->B)\n",
    "\n",
    "J: #; #, R -> F !! at J, if see #, no more; success\n",
    "\n",
    "J: a; A, R -> LCa2  !! J loop imitates I\n",
    "J: b; B, R -> LCb2  !! ditto a->b\n",
    "\n",
    "LCa2: a; a, R | b; b, R -> LCa2 !! In J loop, LCa2 imitates LCa\n",
    "LCb2: a; a, R | b; b, R -> LCb2 !! ditto a->b\n",
    "\n",
    "LCa2: #; #, R -> RCa2 !! In J loop, RCa2 imitates RCa\n",
    "LCb2: #; #, R -> RCb2 !! ditto a->b\n",
    "\n",
    "RCa2: X; X, R | Y; Y, R | A; A, R | B; B, R -> RCa2 !! Imitation of RCa\n",
    "RCb2: X; X, R | Y; Y, R | A; A, R | B; B, R -> RCb2 !! Imitation of RCb\n",
    "\n",
    "RCa2: a; A, L -> MoreL# !! Imitation of RCa\n",
    "RCb2: b; B, L -> MoreL# !! Imitation of RCb\n",
    "\n",
    "RCa2: b; b, L -> ClrI !! Imitation of RCa\n",
    "RCb2: a; a, L -> ClrI !! Imitation of RCb\n",
    " \n",
    "RCa: .; ., R -> Stuck !! If x shorter, stuck\n",
    "RCb: .; ., R -> Stuck !! ditto\n",
    "''')\n"
   ]
  },
  {
   "cell_type": "markdown",
   "metadata": {},
   "source": [
    "# Tests for the DTM\n",
    "\n",
    "### (a) aba#aba – pass \n",
    "### (b) aba#ab – fail\n",
    "### (c) aba#baba – pass \n",
    "### (d) aba#babba –fail\n",
    "### (e) bba#bbabba – pass\n",
    "\n",
    "\n",
    "## Please include five more tests of your own"
   ]
  },
  {
   "cell_type": "code",
   "execution_count": null,
   "metadata": {},
   "outputs": [],
   "source": [
    "help(explore_tm)"
   ]
  },
  {
   "cell_type": "code",
   "execution_count": null,
   "metadata": {},
   "outputs": [],
   "source": [
    "#Pass\n",
    "explore_tm(Asg9DTM, \"aba#aba\",50)"
   ]
  },
  {
   "cell_type": "code",
   "execution_count": null,
   "metadata": {},
   "outputs": [],
   "source": [
    "#Fail\n",
    "explore_tm(Asg9DTM, \"aba#ab\",500)"
   ]
  },
  {
   "cell_type": "code",
   "execution_count": null,
   "metadata": {},
   "outputs": [],
   "source": [
    "#Pass\n",
    "explore_tm(Asg9DTM, \"aba#baba\",50)"
   ]
  },
  {
   "cell_type": "code",
   "execution_count": null,
   "metadata": {},
   "outputs": [],
   "source": [
    "#Fail\n",
    "explore_tm(Asg9DTM, \"aba#babba\",500)"
   ]
  },
  {
   "cell_type": "code",
   "execution_count": null,
   "metadata": {},
   "outputs": [],
   "source": [
    "#Pass\n",
    "explore_tm(Asg9DTM, \"bba#bbabba\",50)"
   ]
  },
  {
   "cell_type": "code",
   "execution_count": null,
   "metadata": {},
   "outputs": [],
   "source": [
    "# Test submitted by student - PASS\n",
    "explore_tm(Asg9DTM, \"ababba#bbabababba\",296)"
   ]
  },
  {
   "cell_type": "code",
   "execution_count": null,
   "metadata": {},
   "outputs": [],
   "source": [
    "#Fail\n",
    "explore_tm(Asg9DTM, \"ababba#bbabababa\",596)"
   ]
  },
  {
   "cell_type": "code",
   "execution_count": null,
   "metadata": {},
   "outputs": [],
   "source": [
    "#Pass\n",
    "explore_tm(Asg9DTM, \"bbabababa#bbabababa\",596)"
   ]
  },
  {
   "cell_type": "code",
   "execution_count": null,
   "metadata": {},
   "outputs": [],
   "source": [
    "#Pass\n",
    "explore_tm(Asg9DTM, \"bbabababa#ababababbbabababa\",1096)"
   ]
  },
  {
   "cell_type": "code",
   "execution_count": null,
   "metadata": {},
   "outputs": [],
   "source": [
    "#Pass\n",
    "explore_tm(Asg9DTM, \"bbabababa#abbbbabababaabababbbabababa\",1096)"
   ]
  },
  {
   "cell_type": "markdown",
   "metadata": {},
   "source": [
    "# Asg9 NDTM for w#x where w is a substring of x"
   ]
  },
  {
   "cell_type": "code",
   "execution_count": null,
   "metadata": {
    "run_control": {
     "frozen": false,
     "read_only": false
    }
   },
   "outputs": [],
   "source": [
    "# w#x NDTM\n",
    "#\n",
    "# An NDTM in which we need to locate whether w is a substring of x\n",
    "# Once a match is found at an arbitrary location, we accept\n",
    "#\n",
    "#\n",
    "'''\n",
    "The alphabet is {a,b}\n",
    "\n",
    "The steps are as follows.\n",
    "\n",
    "1) Locate the #\n",
    "\n",
    "2) Then go past the # and locate some cell and capitalize it\n",
    "  a) if it is a a, change it to an A\n",
    "  b) if it is a b, change it to a B\n",
    " \n",
    "3) Then sweep back and compare w cell by cell with what's beyond #\n",
    "    beginning with the capitalized letter.\n",
    "   \n",
    "4) We could use some cleverness in that the first capitalization\n",
    "   itself could be for a possible match. Else it is a failure!\n",
    "   This may not pay off and bloat the code 2x\n",
    "   \n",
    "So the pseudo-code is as follows\n",
    "\n",
    "init:\n",
    " Simply go seek an ND location after #,\n",
    " change it to '1' to mark it as 'a'\n",
    " change it to '2' to mark it as 'b'\n",
    " Then return to compare w with where things are 1 or 2\n",
    " change back to A or B and compare then on\n",
    "\n",
    "'''\n",
    "\n",
    "Asg9NDTM = md2mc('''TM\n",
    "I : #; #,S -> F\n",
    "I : a; a,R | b; b,R -> Sk#\n",
    "\n",
    "Sk# : a; a,R | b; b, R -> Sk#\n",
    "Sk# : #; #,R -> Mark1\n",
    "\n",
    "Mark1: a; 1,L | b; 2,L -> LSk#\n",
    "Mark1: a; a,R | b; b,R -> Mark1\n",
    "Mark1: .; .,S -> BH !! ran off end; that ND path can crash too\n",
    "\n",
    "LSk# : a; a,L | b; b,L | 1; 1,L | 2; 2,L | A; A,L | B; B,L -> LSk#\n",
    "LSk# : #; #,L -> Sklend\n",
    "\n",
    "Sklend: a; a,L | b; b,L -> Sklend\n",
    "Sklend: .; .,R | A; A,R | B; B, R -> Comp\n",
    "\n",
    "Comp: A; A,R | B; B,R -> Comp\n",
    "\n",
    "Comp : a; A,R -> Mtcha\n",
    "Comp : b; B,R -> Mtchb\n",
    "\n",
    "Comp : #; #,S -> Fini\n",
    "\n",
    "Mtcha : a; a,R | b; b,R -> Mtcha\n",
    "Mtchb : a; a,R | b; b,R -> Mtchb\n",
    "\n",
    "Mtcha : #; #,R -> Nowa\n",
    "Mtchb : #; #,R -> Nowb\n",
    "\n",
    "Nowa : a; a,R | b; b,R -> Nowa\n",
    "Nowa : A; A,R | B; B,R -> NowRa\n",
    "\n",
    "Nowb : a; a,R | b; b,R -> Nowb\n",
    "Nowb : A; A,R | B; B,R -> NowRb\n",
    "\n",
    "Nowa : 1; A,L  -> LSk#\n",
    "Nowb : 2; B,L  -> LSk#\n",
    "\n",
    "NowRa : A; A,R | B; B,R -> NowRa\n",
    "NowRb : A; A,R | B; B,R -> NowRb\n",
    "\n",
    "NowRa : a; A,L -> LSk#\n",
    "NowRb : b; B,L -> LSk#\n",
    "\n",
    "''')\n",
    "\n"
   ]
  },
  {
   "cell_type": "code",
   "execution_count": null,
   "metadata": {},
   "outputs": [],
   "source": [
    "explore_tm(Asg9NDTM, \"aba#aba\",50)"
   ]
  },
  {
   "cell_type": "code",
   "execution_count": null,
   "metadata": {},
   "outputs": [],
   "source": [
    "explore_tm(Asg9NDTM, \"aba#ab\",50)"
   ]
  },
  {
   "cell_type": "code",
   "execution_count": null,
   "metadata": {},
   "outputs": [],
   "source": [
    "explore_tm(Asg9NDTM, \"aba#baba\",50)"
   ]
  },
  {
   "cell_type": "code",
   "execution_count": null,
   "metadata": {},
   "outputs": [],
   "source": [
    "explore_tm(Asg9NDTM, \"aba#babba\",50)"
   ]
  },
  {
   "cell_type": "code",
   "execution_count": null,
   "metadata": {},
   "outputs": [],
   "source": [
    "explore_tm(Asg9NDTM, \"bba#bbabba\",50)"
   ]
  },
  {
   "cell_type": "markdown",
   "metadata": {},
   "source": [
    "# END"
   ]
  }
 ],
 "metadata": {
  "kernelspec": {
   "display_name": "Python 3",
   "language": "python",
   "name": "python3"
  },
  "language_info": {
   "codemirror_mode": {
    "name": "ipython",
    "version": 3
   },
   "file_extension": ".py",
   "mimetype": "text/x-python",
   "name": "python",
   "nbconvert_exporter": "python",
   "pygments_lexer": "ipython3",
   "version": "3.8.5"
  },
  "toc": {
   "colors": {
    "hover_highlight": "#DAA520",
    "running_highlight": "#FF0000",
    "selected_highlight": "#FFD700"
   },
   "moveMenuLeft": true,
   "nav_menu": {
    "height": "318px",
    "width": "252px"
   },
   "navigate_menu": true,
   "number_sections": true,
   "sideBar": true,
   "threshold": 4,
   "toc_cell": false,
   "toc_section_display": "block",
   "toc_window_display": false,
   "widenNotebook": false
  }
 },
 "nbformat": 4,
 "nbformat_minor": 1
}

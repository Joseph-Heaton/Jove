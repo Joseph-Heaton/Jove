{
 "cells": [
  {
   "cell_type": "markdown",
   "metadata": {
    "run_control": {
     "frozen": false,
     "read_only": false
    }
   },
   "source": [
    " # This notebook will cover \n",
    " \n",
    " ## 1) Linear grammars, illustrated by defining a fresh NFA and converting it into a CFG, and simulating it via a PDA\n",
    " \n",
    " ## 2) Ambiguity and inherent ambiguity, again illustrated via a PDA that encodes such a language\n",
    " \n",
    " # These exercises will be featured in the Quiz-7"
   ]
  },
  {
   "cell_type": "code",
   "execution_count": 1,
   "metadata": {
    "run_control": {
     "frozen": false,
     "read_only": false
    }
   },
   "outputs": [
    {
     "name": "stdout",
     "output_type": "stream",
     "text": [
      "You may use any of these help commands:\n",
      "help(ResetStNum)\n",
      "help(NxtStateStr)\n",
      "\n",
      "You may use any of these help commands:\n",
      "help(mkp_dfa)\n",
      "help(mk_dfa)\n",
      "help(totalize_dfa)\n",
      "help(addtosigma_delta)\n",
      "help(step_dfa)\n",
      "help(run_dfa)\n",
      "help(accepts_dfa)\n",
      "help(comp_dfa)\n",
      "help(union_dfa)\n",
      "help(intersect_dfa)\n",
      "help(pruneUnreach)\n",
      "help(iso_dfa)\n",
      "help(langeq_dfa)\n",
      "help(same_status)\n",
      "help(h_langeq_dfa)\n",
      "help(fixptDist)\n",
      "help(min_dfa)\n",
      "help(pairFR)\n",
      "help(state_combos)\n",
      "help(sepFinNonFin)\n",
      "help(bash_eql_classes)\n",
      "help(listminus)\n",
      "help(bash_1)\n",
      "help(mk_rep_eqc)\n",
      "help(F_of)\n",
      "help(rep_of_s)\n",
      "help(q0_of)\n",
      "help(Delta_of)\n",
      "help(mk_state_eqc_name)\n",
      "\n",
      "You may use any of these help commands:\n",
      "help(mk_nfa)\n",
      "help(totalize_nfa)\n",
      "help(step_nfa)\n",
      "help(run_nfa)\n",
      "help(ec_step_nfa)\n",
      "help(Eclosure)\n",
      "help(Echelp)\n",
      "help(accepts_nfa)\n",
      "help(nfa2dfa)\n",
      "help(n2d)\n",
      "help(inSets)\n",
      "help(rev_dfa)\n",
      "help(min_dfa_brz)\n",
      "\n",
      "You may use any of these help commands:\n",
      "help(re2nfa)\n",
      "\n",
      "You may use any of these help commands:\n",
      "help(md2mc)\n",
      ".. and if you want to dig more, then ..\n",
      "help(default_line_attr)\n",
      "help(length_ok_input_items)\n",
      "help(union_line_attr_list_fld)\n",
      "help(extend_rsltdict)\n",
      "help(form_delta)\n",
      "help(get_machine_components)\n",
      "\n",
      "You may use any of these help commands:\n",
      "help(explore_pda)\n",
      "help(run_pda)\n",
      "help(classify_l_id_path)\n",
      "help(h_run_pda)\n",
      "help(interpret_w_eps)\n",
      "help(step_pda)\n",
      "help(suvivor_id)\n",
      "help(term_id)\n",
      "help(final_id)\n",
      "help(cvt_str_to_sym)\n",
      "help(is_surv_id)\n",
      "help(subsumed)\n",
      "help(is_term_id)\n",
      "help(is_final_id)\n",
      "\n",
      " \"help(AnimatePDA)\" gives you info on how to use animations with PDA \n"
     ]
    }
   ],
   "source": [
    "#~~~~~~~~~~~~~~~~~~~~~~~~~~~~~~~~~~~~~~~~~~~~~~~~~~~~~~~\n",
    "import sys\n",
    "\n",
    "# -- Detect if in Own Install or in Colab\n",
    "try:\n",
    "    import google.colab\n",
    "    OWN_INSTALL = False\n",
    "except:\n",
    "    OWN_INSTALL = True\n",
    "    \n",
    "if OWN_INSTALL:\n",
    "    \n",
    "  #---- Leave these definitions ON if running on laptop\n",
    "  #---- Else turn OFF by putting them between ''' ... '''\n",
    "\n",
    "  sys.path[0:0] = ['../../../../..',  '../../../../../3rdparty',  \n",
    "                   '../../../..',  '../../../../3rdparty',  \n",
    "                   '../../..',     '../../../3rdparty', \n",
    "                   '../..',        '../../3rdparty',\n",
    "                   '..',           '../3rdparty' ]\n",
    "\n",
    "else: # In colab\n",
    "  ! if [ ! -d Jove ]; then git clone https://github.com/ganeshutah/Jove Jove; fi\n",
    "  sys.path.append('./Jove')\n",
    "  sys.path.append('./Jove/jove')\n",
    "\n",
    "# -- common imports --\n",
    "\n",
    "from jove.SystemImports import *\n",
    "from jove.DotBashers    import *\n",
    "\n",
    "from jove.Def_NFA       import *\n",
    "from jove.Def_DFA       import *\n",
    "from jove.Def_RE2NFA    import *\n",
    "\n",
    "from jove.Def_md2mc     import *\n",
    "from jove.Def_PDA       import *\n",
    "from jove.AnimatePDA    import *\n",
    "#~~~~~~~~~~~~~~~~~~~~~~~~~~~~~~~~~~~~~~~~~~~~~~~~~~~~~~~"
   ]
  },
  {
   "cell_type": "markdown",
   "metadata": {},
   "source": [
    "# A CFG with purely right-linear productions is equivalent to an NFA\n",
    "\n",
    "### Let us illustrate this by converting an NFA to a CFG that has a linear grammar. To make things more interesting, we pick a slight variant of a language seen before: ``IF there is a second-last position THEN that must be a 1``\n",
    "\n",
    "## For practice, I'll let you write a compact RE for it below; I'll just provide the NFA"
   ]
  },
  {
   "cell_type": "code",
   "execution_count": 2,
   "metadata": {},
   "outputs": [
    {
     "data": {
      "image/svg+xml": [
       "<?xml version=\"1.0\" encoding=\"UTF-8\" standalone=\"no\"?>\n",
       "<!DOCTYPE svg PUBLIC \"-//W3C//DTD SVG 1.1//EN\"\n",
       " \"http://www.w3.org/Graphics/SVG/1.1/DTD/svg11.dtd\">\n",
       "<!-- Generated by graphviz version 2.40.1 (20161225.0304)\n",
       " -->\n",
       "<!-- Title: %3 Pages: 1 -->\n",
       "<svg width=\"432pt\" height=\"158pt\"\n",
       " viewBox=\"0.00 0.00 431.89 158.15\" xmlns=\"http://www.w3.org/2000/svg\" xmlns:xlink=\"http://www.w3.org/1999/xlink\">\n",
       "<g id=\"graph0\" class=\"graph\" transform=\"scale(1 1) rotate(0) translate(4 154.1482)\">\n",
       "<title>%3</title>\n",
       "<polygon fill=\"#ffffff\" stroke=\"transparent\" points=\"-4,4 -4,-154.1482 427.8858,-154.1482 427.8858,4 -4,4\"/>\n",
       "<!-- EMPTY -->\n",
       "<g id=\"node1\" class=\"node\">\n",
       "<title>EMPTY</title>\n",
       "</g>\n",
       "<!-- IF -->\n",
       "<g id=\"node4\" class=\"node\">\n",
       "<title>IF</title>\n",
       "<ellipse fill=\"none\" stroke=\"#000000\" cx=\"113.8483\" cy=\"-50.1482\" rx=\"18.724\" ry=\"18.724\"/>\n",
       "<ellipse fill=\"none\" stroke=\"#000000\" cx=\"113.8483\" cy=\"-50.1482\" rx=\"22.6977\" ry=\"22.6977\"/>\n",
       "<text text-anchor=\"middle\" x=\"113.8483\" y=\"-46.4482\" font-family=\"Times,serif\" font-size=\"14.00\" fill=\"#000000\">IF</text>\n",
       "</g>\n",
       "<!-- EMPTY&#45;&gt;IF -->\n",
       "<g id=\"edge1\" class=\"edge\">\n",
       "<title>EMPTY&#45;&gt;IF</title>\n",
       "<path fill=\"none\" stroke=\"#000000\" d=\"M54.0033,-50.1482C62.5212,-50.1482 72.0276,-50.1482 80.9112,-50.1482\"/>\n",
       "<polygon fill=\"#000000\" stroke=\"#000000\" points=\"80.9572,-53.6483 90.9572,-50.1482 80.9572,-46.6483 80.9572,-53.6483\"/>\n",
       "</g>\n",
       "<!-- T -->\n",
       "<g id=\"node2\" class=\"node\">\n",
       "<title>T</title>\n",
       "<ellipse fill=\"none\" stroke=\"#000000\" cx=\"211.8449\" cy=\"-84.1482\" rx=\"18\" ry=\"18\"/>\n",
       "<text text-anchor=\"middle\" x=\"211.8449\" y=\"-80.4482\" font-family=\"Times,serif\" font-size=\"14.00\" fill=\"#000000\">T</text>\n",
       "</g>\n",
       "<!-- T&#45;&gt;T -->\n",
       "<g id=\"edge4\" class=\"edge\">\n",
       "<title>T&#45;&gt;T</title>\n",
       "<path fill=\"none\" stroke=\"#000000\" d=\"M203.8284,-100.4385C201.8954,-110.5374 204.5675,-120.1482 211.8449,-120.1482 216.5069,-120.1482 219.279,-116.2039 220.1611,-110.7138\"/>\n",
       "<polygon fill=\"#000000\" stroke=\"#000000\" points=\"223.6515,-110.3321 219.8613,-100.4385 216.6545,-110.5363 223.6515,-110.3321\"/>\n",
       "<text text-anchor=\"middle\" x=\"211.8449\" y=\"-138.9482\" font-family=\"Times,serif\" font-size=\"14.00\" fill=\"#000000\">0 </text>\n",
       "<text text-anchor=\"middle\" x=\"211.8449\" y=\"-123.9482\" font-family=\"Times,serif\" font-size=\"14.00\" fill=\"#000000\"> 1 </text>\n",
       "</g>\n",
       "<!-- T1 -->\n",
       "<g id=\"node3\" class=\"node\">\n",
       "<title>T1</title>\n",
       "<ellipse fill=\"none\" stroke=\"#000000\" cx=\"303.7912\" cy=\"-84.1482\" rx=\"20.5982\" ry=\"20.5982\"/>\n",
       "<text text-anchor=\"middle\" x=\"303.7912\" y=\"-80.4482\" font-family=\"Times,serif\" font-size=\"14.00\" fill=\"#000000\">T1</text>\n",
       "</g>\n",
       "<!-- T&#45;&gt;T1 -->\n",
       "<g id=\"edge5\" class=\"edge\">\n",
       "<title>T&#45;&gt;T1</title>\n",
       "<path fill=\"none\" stroke=\"#000000\" d=\"M230.0105,-84.1482C242.105,-84.1482 258.3124,-84.1482 272.456,-84.1482\"/>\n",
       "<polygon fill=\"#000000\" stroke=\"#000000\" points=\"272.7672,-87.6483 282.7671,-84.1482 272.7671,-80.6483 272.7672,-87.6483\"/>\n",
       "<text text-anchor=\"middle\" x=\"259.4931\" y=\"-87.9482\" font-family=\"Times,serif\" font-size=\"14.00\" fill=\"#000000\">1 </text>\n",
       "</g>\n",
       "<!-- F2 -->\n",
       "<g id=\"node6\" class=\"node\">\n",
       "<title>F2</title>\n",
       "<ellipse fill=\"none\" stroke=\"#000000\" cx=\"399.7376\" cy=\"-84.1482\" rx=\"20.2726\" ry=\"20.2726\"/>\n",
       "<ellipse fill=\"none\" stroke=\"#000000\" cx=\"399.7376\" cy=\"-84.1482\" rx=\"24.2973\" ry=\"24.2973\"/>\n",
       "<text text-anchor=\"middle\" x=\"399.7376\" y=\"-80.4482\" font-family=\"Times,serif\" font-size=\"14.00\" fill=\"#000000\">F2</text>\n",
       "</g>\n",
       "<!-- T1&#45;&gt;F2 -->\n",
       "<g id=\"edge6\" class=\"edge\">\n",
       "<title>T1&#45;&gt;F2</title>\n",
       "<path fill=\"none\" stroke=\"#000000\" d=\"M324.6102,-84.1482C336.5562,-84.1482 351.8519,-84.1482 365.5202,-84.1482\"/>\n",
       "<polygon fill=\"#000000\" stroke=\"#000000\" points=\"365.5728,-87.6483 375.5727,-84.1482 365.5727,-80.6483 365.5728,-87.6483\"/>\n",
       "<text text-anchor=\"middle\" x=\"350.0894\" y=\"-102.9482\" font-family=\"Times,serif\" font-size=\"14.00\" fill=\"#000000\">0 </text>\n",
       "<text text-anchor=\"middle\" x=\"350.0894\" y=\"-87.9482\" font-family=\"Times,serif\" font-size=\"14.00\" fill=\"#000000\"> 1 </text>\n",
       "</g>\n",
       "<!-- IF&#45;&gt;T -->\n",
       "<g id=\"edge3\" class=\"edge\">\n",
       "<title>IF&#45;&gt;T</title>\n",
       "<path fill=\"none\" stroke=\"#000000\" d=\"M135.5969,-57.6939C150.2137,-62.7652 169.5743,-69.4824 185.1285,-74.879\"/>\n",
       "<polygon fill=\"#000000\" stroke=\"#000000\" points=\"184.1173,-78.2327 194.7121,-78.204 186.4119,-71.6195 184.1173,-78.2327\"/>\n",
       "<text text-anchor=\"middle\" x=\"162.1967\" y=\"-73.9482\" font-family=\"Times,serif\" font-size=\"14.00\" fill=\"#000000\">&#39;&#39; </text>\n",
       "</g>\n",
       "<!-- F1 -->\n",
       "<g id=\"node5\" class=\"node\">\n",
       "<title>F1</title>\n",
       "<ellipse fill=\"none\" stroke=\"#000000\" cx=\"211.8449\" cy=\"-24.1482\" rx=\"20.2726\" ry=\"20.2726\"/>\n",
       "<ellipse fill=\"none\" stroke=\"#000000\" cx=\"211.8449\" cy=\"-24.1482\" rx=\"24.2973\" ry=\"24.2973\"/>\n",
       "<text text-anchor=\"middle\" x=\"211.8449\" y=\"-20.4482\" font-family=\"Times,serif\" font-size=\"14.00\" fill=\"#000000\">F1</text>\n",
       "</g>\n",
       "<!-- IF&#45;&gt;F1 -->\n",
       "<g id=\"edge2\" class=\"edge\">\n",
       "<title>IF&#45;&gt;F1</title>\n",
       "<path fill=\"none\" stroke=\"#000000\" d=\"M133.0681,-37.6304C139.6682,-33.9313 147.2693,-30.2997 154.6967,-28.1482 161.9212,-26.0555 169.8645,-24.8501 177.4714,-24.1904\"/>\n",
       "<polygon fill=\"#000000\" stroke=\"#000000\" points=\"177.7603,-27.6796 187.5369,-23.5971 177.3483,-20.6917 177.7603,-27.6796\"/>\n",
       "<text text-anchor=\"middle\" x=\"162.1967\" y=\"-46.9482\" font-family=\"Times,serif\" font-size=\"14.00\" fill=\"#000000\">0 </text>\n",
       "<text text-anchor=\"middle\" x=\"162.1967\" y=\"-31.9482\" font-family=\"Times,serif\" font-size=\"14.00\" fill=\"#000000\"> 1 </text>\n",
       "</g>\n",
       "</g>\n",
       "</svg>\n"
      ],
      "text/plain": [
       "<graphviz.dot.Digraph at 0x108f40208>"
      ]
     },
     "execution_count": 2,
     "metadata": {},
     "output_type": "execute_result"
    }
   ],
   "source": [
    "nfa_if_sndlast_then_1 = md2mc('''\n",
    "NFA\n",
    "!! Read the name of the NFA as\n",
    "!! \"IF there is a second-last position THEN that must be a 1\"\n",
    " \n",
    "IF : 0|1    -> F1\n",
    "IF : ''     -> T\n",
    "T  : 1      -> T1\n",
    "T  : 0|1    -> T\n",
    "T1 : 0|1    -> F2\n",
    "''')\n",
    "\n",
    "dotObj_nfa(nfa_if_sndlast_then_1, FuseEdges=True)"
   ]
  },
  {
   "cell_type": "code",
   "execution_count": 3,
   "metadata": {},
   "outputs": [
    {
     "data": {
      "image/svg+xml": [
       "<?xml version=\"1.0\" encoding=\"UTF-8\" standalone=\"no\"?>\n",
       "<!DOCTYPE svg PUBLIC \"-//W3C//DTD SVG 1.1//EN\"\n",
       " \"http://www.w3.org/Graphics/SVG/1.1/DTD/svg11.dtd\">\n",
       "<!-- Generated by graphviz version 2.40.1 (20161225.0304)\n",
       " -->\n",
       "<!-- Title: %3 Pages: 1 -->\n",
       "<svg width=\"474pt\" height=\"242pt\"\n",
       " viewBox=\"0.00 0.00 473.98 242.25\" xmlns=\"http://www.w3.org/2000/svg\" xmlns:xlink=\"http://www.w3.org/1999/xlink\">\n",
       "<g id=\"graph0\" class=\"graph\" transform=\"scale(1 1) rotate(0) translate(4 238.2474)\">\n",
       "<title>%3</title>\n",
       "<polygon fill=\"#ffffff\" stroke=\"transparent\" points=\"-4,4 -4,-238.2474 469.9839,-238.2474 469.9839,4 -4,4\"/>\n",
       "<!-- EMPTY -->\n",
       "<g id=\"node1\" class=\"node\">\n",
       "<title>EMPTY</title>\n",
       "</g>\n",
       "<!-- IF_T -->\n",
       "<g id=\"node5\" class=\"node\">\n",
       "<title>IF_T</title>\n",
       "<ellipse fill=\"none\" stroke=\"#000000\" cx=\"124.2474\" cy=\"-168\" rx=\"29.4667\" ry=\"29.4667\"/>\n",
       "<ellipse fill=\"none\" stroke=\"#000000\" cx=\"124.2474\" cy=\"-168\" rx=\"33.4967\" ry=\"33.4967\"/>\n",
       "<text text-anchor=\"middle\" x=\"124.2474\" y=\"-164.3\" font-family=\"Times,serif\" font-size=\"14.00\" fill=\"#000000\">IF_T</text>\n",
       "</g>\n",
       "<!-- EMPTY&#45;&gt;IF_T -->\n",
       "<g id=\"edge1\" class=\"edge\">\n",
       "<title>EMPTY&#45;&gt;IF_T</title>\n",
       "<path fill=\"none\" stroke=\"#000000\" d=\"M54.0888,-168C62.3371,-168 71.6215,-168 80.6703,-168\"/>\n",
       "<polygon fill=\"#000000\" stroke=\"#000000\" points=\"80.7187,-171.5001 90.7187,-168 80.7186,-164.5001 80.7187,-171.5001\"/>\n",
       "</g>\n",
       "<!-- T -->\n",
       "<g id=\"node2\" class=\"node\">\n",
       "<title>T</title>\n",
       "<ellipse fill=\"none\" stroke=\"#000000\" cx=\"338.5894\" cy=\"-18\" rx=\"18\" ry=\"18\"/>\n",
       "<text text-anchor=\"middle\" x=\"338.5894\" y=\"-14.3\" font-family=\"Times,serif\" font-size=\"14.00\" fill=\"#000000\">T</text>\n",
       "</g>\n",
       "<!-- T&#45;&gt;T -->\n",
       "<g id=\"edge6\" class=\"edge\">\n",
       "<title>T&#45;&gt;T</title>\n",
       "<path fill=\"none\" stroke=\"#000000\" d=\"M331.5581,-34.6641C329.9956,-44.625 332.3394,-54 338.5894,-54 342.5933,-54 344.9941,-50.1525 345.7917,-44.7682\"/>\n",
       "<polygon fill=\"#000000\" stroke=\"#000000\" points=\"349.2895,-44.6033 345.6206,-34.6641 342.2905,-44.7219 349.2895,-44.6033\"/>\n",
       "<text text-anchor=\"middle\" x=\"338.5894\" y=\"-57.8\" font-family=\"Times,serif\" font-size=\"14.00\" fill=\"#000000\">0 </text>\n",
       "</g>\n",
       "<!-- T_T1 -->\n",
       "<g id=\"node3\" class=\"node\">\n",
       "<title>T_T1</title>\n",
       "<ellipse fill=\"none\" stroke=\"#000000\" cx=\"434.7866\" cy=\"-130\" rx=\"31.3957\" ry=\"31.3957\"/>\n",
       "<text text-anchor=\"middle\" x=\"434.7866\" y=\"-126.3\" font-family=\"Times,serif\" font-size=\"14.00\" fill=\"#000000\">T_T1</text>\n",
       "</g>\n",
       "<!-- T&#45;&gt;T_T1 -->\n",
       "<g id=\"edge7\" class=\"edge\">\n",
       "<title>T&#45;&gt;T_T1</title>\n",
       "<path fill=\"none\" stroke=\"#000000\" d=\"M350.3851,-31.7334C364.505,-48.1729 388.604,-76.2307 407.445,-98.1669\"/>\n",
       "<polygon fill=\"#000000\" stroke=\"#000000\" points=\"404.9496,-100.6333 414.1204,-105.9388 410.2598,-96.0723 404.9496,-100.6333\"/>\n",
       "<text text-anchor=\"middle\" x=\"380.0894\" y=\"-74.8\" font-family=\"Times,serif\" font-size=\"14.00\" fill=\"#000000\">1 </text>\n",
       "</g>\n",
       "<!-- F2_T -->\n",
       "<g id=\"node4\" class=\"node\">\n",
       "<title>F2_T</title>\n",
       "<ellipse fill=\"none\" stroke=\"#000000\" cx=\"239.0421\" cy=\"-121\" rx=\"30.5892\" ry=\"30.5892\"/>\n",
       "<ellipse fill=\"none\" stroke=\"#000000\" cx=\"239.0421\" cy=\"-121\" rx=\"34.5946\" ry=\"34.5946\"/>\n",
       "<text text-anchor=\"middle\" x=\"239.0421\" y=\"-117.3\" font-family=\"Times,serif\" font-size=\"14.00\" fill=\"#000000\">F2_T</text>\n",
       "</g>\n",
       "<!-- T_T1&#45;&gt;F2_T -->\n",
       "<g id=\"edge8\" class=\"edge\">\n",
       "<title>T_T1&#45;&gt;F2_T</title>\n",
       "<path fill=\"none\" stroke=\"#000000\" d=\"M405.5621,-118.7637C391.0698,-113.7792 373.1611,-108.4858 356.5894,-106 332.0653,-102.3213 304.575,-105.4324 282.3489,-109.7549\"/>\n",
       "<polygon fill=\"#000000\" stroke=\"#000000\" points=\"281.6091,-106.3338 272.5369,-111.8061 283.0415,-113.1857 281.6091,-106.3338\"/>\n",
       "<text text-anchor=\"middle\" x=\"338.5894\" y=\"-109.8\" font-family=\"Times,serif\" font-size=\"14.00\" fill=\"#000000\">0 </text>\n",
       "</g>\n",
       "<!-- T_T1&#45;&gt;IF_T -->\n",
       "<g id=\"edge9\" class=\"edge\">\n",
       "<title>T_T1&#45;&gt;IF_T</title>\n",
       "<path fill=\"none\" stroke=\"#000000\" d=\"M404.3848,-137.6002C398.1761,-139.1003 391.6798,-140.6324 385.5894,-142 336.0076,-153.134 324.0914,-159.3551 273.5894,-165 238.0862,-168.9684 197.5479,-169.5346 167.674,-169.211\"/>\n",
       "<polygon fill=\"#000000\" stroke=\"#000000\" points=\"167.6278,-165.71 157.5777,-169.0636 167.5255,-172.7093 167.6278,-165.71\"/>\n",
       "<text text-anchor=\"middle\" x=\"297.0894\" y=\"-165.8\" font-family=\"Times,serif\" font-size=\"14.00\" fill=\"#000000\">1 </text>\n",
       "</g>\n",
       "<!-- F2_T&#45;&gt;T -->\n",
       "<g id=\"edge4\" class=\"edge\">\n",
       "<title>F2_T&#45;&gt;T</title>\n",
       "<path fill=\"none\" stroke=\"#000000\" d=\"M263.1397,-96.0666C280.1505,-78.4658 302.671,-55.1642 318.6677,-38.6127\"/>\n",
       "<polygon fill=\"#000000\" stroke=\"#000000\" points=\"321.5109,-40.7071 325.9438,-31.0842 316.4775,-35.8425 321.5109,-40.7071\"/>\n",
       "<text text-anchor=\"middle\" x=\"297.0894\" y=\"-70.8\" font-family=\"Times,serif\" font-size=\"14.00\" fill=\"#000000\">0 </text>\n",
       "</g>\n",
       "<!-- F2_T&#45;&gt;T_T1 -->\n",
       "<g id=\"edge5\" class=\"edge\">\n",
       "<title>F2_T&#45;&gt;T_T1</title>\n",
       "<path fill=\"none\" stroke=\"#000000\" d=\"M273.5867,-122.5883C307.0511,-124.1269 357.8257,-126.4615 393.426,-128.0983\"/>\n",
       "<polygon fill=\"#000000\" stroke=\"#000000\" points=\"393.3435,-131.5981 403.4937,-128.5612 393.6651,-124.6055 393.3435,-131.5981\"/>\n",
       "<text text-anchor=\"middle\" x=\"338.5894\" y=\"-130.8\" font-family=\"Times,serif\" font-size=\"14.00\" fill=\"#000000\">1 </text>\n",
       "</g>\n",
       "<!-- IF_T&#45;&gt;F2_T -->\n",
       "<g id=\"edge2\" class=\"edge\">\n",
       "<title>IF_T&#45;&gt;F2_T</title>\n",
       "<path fill=\"none\" stroke=\"#000000\" d=\"M155.3125,-155.2811C168.2606,-149.9798 183.4911,-143.744 197.3874,-138.0545\"/>\n",
       "<polygon fill=\"#000000\" stroke=\"#000000\" points=\"198.8221,-141.2492 206.7503,-134.2211 196.1698,-134.7711 198.8221,-141.2492\"/>\n",
       "<text text-anchor=\"middle\" x=\"180.9948\" y=\"-149.8\" font-family=\"Times,serif\" font-size=\"14.00\" fill=\"#000000\">0 </text>\n",
       "</g>\n",
       "<!-- IF_T&#45;&gt;IF_T -->\n",
       "<g id=\"edge3\" class=\"edge\">\n",
       "<title>IF_T&#45;&gt;IF_T</title>\n",
       "<path fill=\"none\" stroke=\"#000000\" d=\"M114.8724,-200.0296C114.8724,-210.7062 117.9974,-219.2474 124.2474,-219.2474 128.349,-219.2474 131.1047,-215.569 132.5146,-210.0227\"/>\n",
       "<polygon fill=\"#000000\" stroke=\"#000000\" points=\"135.9992,-210.3544 133.6224,-200.0296 129.0418,-209.5831 135.9992,-210.3544\"/>\n",
       "<text text-anchor=\"middle\" x=\"124.2474\" y=\"-223.0474\" font-family=\"Times,serif\" font-size=\"14.00\" fill=\"#000000\">1 </text>\n",
       "</g>\n",
       "</g>\n",
       "</svg>\n"
      ],
      "text/plain": [
       "<graphviz.dot.Digraph at 0x108ff9048>"
      ]
     },
     "execution_count": 3,
     "metadata": {},
     "output_type": "execute_result"
    }
   ],
   "source": [
    "dfa_if_sndlast_then_1 = min_dfa(nfa2dfa(nfa_if_sndlast_then_1))\n",
    "dotObj_dfa(dfa_if_sndlast_then_1, FuseEdges=True)"
   ]
  },
  {
   "cell_type": "markdown",
   "metadata": {},
   "source": [
    " # Write an RE and make sure that agrees!\n",
    " \n",
    " # **GIVEN TO YOU FOR EXTRA PRACTICE WRITING RE**\n",
    " \n",
    " ## Will be a quiz question"
   ]
  },
  {
   "cell_type": "code",
   "execution_count": null,
   "metadata": {},
   "outputs": [],
   "source": [
    "# Let's be absolutely sure we got the right DFA\n",
    "\n",
    "RE_for_this_nfa = \" ... YOUR RE HERE ... \"   # <<====== WRITE THIS RE !!!!\n",
    "\n",
    "dfaRE_if_sndlast_then_1 = min_dfa(nfa2dfa(re2nfa(RE_for_this_nfa)))\n",
    "dotObj_dfa(dfaRE_if_sndlast_then_1, FuseEdges=True)"
   ]
  },
  {
   "cell_type": "code",
   "execution_count": null,
   "metadata": {},
   "outputs": [],
   "source": [
    "iso_dfa(dfa_if_sndlast_then_1, dfaRE_if_sndlast_then_1)"
   ]
  },
  {
   "cell_type": "markdown",
   "metadata": {},
   "source": [
    "## Repeat the NFA to be \"closer\" to the CFG/PDA"
   ]
  },
  {
   "cell_type": "code",
   "execution_count": null,
   "metadata": {},
   "outputs": [],
   "source": [
    "nfa_if_sndlast_then_1 = md2mc('''\n",
    "NFA\n",
    "!! Read the name of the NFA as\n",
    "!! \"IF there is a second-last position THEN that must be a 1\"\n",
    "\n",
    "IF : 0|1    -> F1\n",
    "IF : ''     -> T\n",
    "T  : 1      -> T1\n",
    "T  : 0|1    -> T\n",
    "T1 : 0|1    -> F2\n",
    "''')\n",
    " \n",
    "dotObj_nfa(nfa_if_sndlast_then_1, FuseEdges=True)"
   ]
  },
  {
   "cell_type": "markdown",
   "metadata": {},
   "source": [
    "# Let's obtain a CFG directly from nfa_if_sndlast_then_1 and render as a PDA"
   ]
  },
  {
   "cell_type": "code",
   "execution_count": null,
   "metadata": {},
   "outputs": [],
   "source": [
    "pda_if_sndlast_then_1 = md2mc('''\n",
    "PDA\n",
    "\n",
    "!! WE NOW DERIVE THE LINEAR GRAMMAR\n",
    "!! ============================================================================\n",
    "!! First we will convert directly, by taking NFA states to be nonterminal names\n",
    "!! Then we will convert it over to one-letter nonterminals \n",
    "\n",
    "!! IF -> ''           -- because \"IF\" is an initial and final\n",
    "!! IF -> 1 F1 | 0 F1  -- because IF jumps to F1 upon 0 or 1\n",
    "!! F1 -> ''           -- because F1 is also a final\n",
    "\n",
    "!! IF ->  T           -- because of IF jumping to T upon ''\n",
    "!! T  -> 0 T | 1 T    -- because of T's self-loop\n",
    "\n",
    "!! T  -> 1 T1         -- because of T's transition to T1\n",
    "\n",
    "!! T1 -> 0 F2 | 1 F2  -- because of T1's transitions\n",
    "\n",
    "!! F2 -> ''           -- because F2 is final\n",
    "\n",
    "!! =============================================================================\n",
    "\n",
    "!! REMEMBER THAT JOVE's grammar simulation via PDA needs one-letter non-terminals\n",
    "!! IF => S ; F1 => F ; F2 -> G ; T => T ; T1 => U\n",
    "!! So we apply these renamings to obtain the grammar below:\n",
    "\n",
    "!! S -> ''            \n",
    "!! S -> 1 F | 0 F    \n",
    "!! F -> ''            \n",
    "\n",
    "!! S ->  T          \n",
    "!! T  -> 0 T | 1 T     \n",
    "\n",
    "!! T  -> 1 U\n",
    "\n",
    "!! U -> 0 G | 1 G   \n",
    "\n",
    "!! G -> ''            \n",
    " \n",
    "!! =============================================================================\n",
    "!! Now a PDA based on the above\n",
    "\n",
    "!!-- standard transitions!\n",
    "I : '',#; S# -> W\n",
    "W : '',#; #  -> F\n",
    "!!-- Sigma-based transitions\n",
    "W : 0,0; '' -> W\n",
    "W : 1,1; '' -> W\n",
    "\n",
    "!!==== Now, CFG rules translated below to PDA rules, one by one ====\n",
    "\n",
    "!! S -> ''  \n",
    "W : '',S; '' -> W\n",
    "\n",
    "!! S -> 1 F \n",
    "W : '',S ; 1F -> W\n",
    "\n",
    "!! S -> 0 F\n",
    "W : '',S ; 0F -> W\n",
    "\n",
    "!! F -> ''         \n",
    "W : '',F; '' -> W\n",
    "\n",
    "!! S  -> T      \n",
    "W : '',S; T  -> W\n",
    "\n",
    "!! T  -> 0 T   \n",
    "W : '',T; 0T -> W\n",
    "\n",
    "!! T  -> 1 T\n",
    "W : '',T; 1T -> W\n",
    "\n",
    "!! T  -> 1 U\n",
    "W : '',T; 1U -> W\n",
    "\n",
    "!! U -> 0 G \n",
    "W : '',U; 0G -> W\n",
    "\n",
    "!! U -> 1 G   \n",
    "W : '',U; 1G -> W\n",
    "\n",
    "!! G -> ''  \n",
    "W : '',G; '' -> W\n",
    " \n",
    "\n",
    "''')\n",
    "\n",
    "dotObj_pda(pda_if_sndlast_then_1, FuseEdges=True)"
   ]
  },
  {
   "cell_type": "code",
   "execution_count": null,
   "metadata": {},
   "outputs": [],
   "source": [
    "help(explore_pda)"
   ]
  },
  {
   "cell_type": "code",
   "execution_count": null,
   "metadata": {},
   "outputs": [],
   "source": [
    "explore_pda('', pda_if_sndlast_then_1)"
   ]
  },
  {
   "cell_type": "code",
   "execution_count": null,
   "metadata": {},
   "outputs": [],
   "source": [
    "explore_pda('0', pda_if_sndlast_then_1)"
   ]
  },
  {
   "cell_type": "code",
   "execution_count": null,
   "metadata": {},
   "outputs": [],
   "source": [
    "explore_pda('1', pda_if_sndlast_then_1)"
   ]
  },
  {
   "cell_type": "code",
   "execution_count": null,
   "metadata": {},
   "outputs": [],
   "source": [
    "explore_pda('10', pda_if_sndlast_then_1)"
   ]
  },
  {
   "cell_type": "code",
   "execution_count": null,
   "metadata": {},
   "outputs": [],
   "source": [
    "explore_pda('01', pda_if_sndlast_then_1)"
   ]
  },
  {
   "cell_type": "code",
   "execution_count": null,
   "metadata": {},
   "outputs": [],
   "source": []
  },
  {
   "cell_type": "code",
   "execution_count": null,
   "metadata": {},
   "outputs": [],
   "source": [
    "explore_pda('1001010', pda_if_sndlast_then_1)"
   ]
  },
  {
   "cell_type": "code",
   "execution_count": null,
   "metadata": {},
   "outputs": [],
   "source": [
    "explore_pda('100100', pda_if_sndlast_then_1)"
   ]
  },
  {
   "cell_type": "code",
   "execution_count": null,
   "metadata": {},
   "outputs": [],
   "source": [
    "AnimatePDA(pda_if_sndlast_then_1, FuseEdges=True)\n",
    "display(HTML('<link rel=\"stylesheet\" href=\"//stackpath.bootstrapcdn.com/font-awesome/4.7.0/css/font-awesome.min.css\"/>'))"
   ]
  },
  {
   "cell_type": "markdown",
   "metadata": {},
   "source": [
    "# Reverse the CFG to obtain a purely left-linear grammar\n",
    "## Then express the CFG as a PDA"
   ]
  },
  {
   "cell_type": "code",
   "execution_count": null,
   "metadata": {},
   "outputs": [],
   "source": [
    "pda_rev = md2mc('''\n",
    "\n",
    "PDA     \n",
    "\n",
    "!! =============================================================================\n",
    "!! We will reverse production-by-production, keeping the same name for the nonterminals!\n",
    "\n",
    "I : '',#; S# -> W\n",
    "W : '',#; #  -> F\n",
    "\n",
    "!!-- Sigma-based transitions\n",
    "W : 0,0; '' -> W\n",
    "W : 1,1; '' -> W\n",
    "\n",
    "!!==== Now, CFG rules for reversed productions ====\n",
    "\n",
    "!! S -> ''  \n",
    "W : '',S; '' -> W\n",
    "\n",
    "!! S -> 1 F ===REVERSED===> S -> F 1\n",
    "W : '',S ; F1 -> W\n",
    "\n",
    "!! S -> 0 F ===REVERSED===> S -> F 0\n",
    "W : '',S ; F0 -> W\n",
    "\n",
    "!! F -> '' ===REVERSED===> F -> ''        \n",
    "W : '',F; '' -> W\n",
    "\n",
    "!! S  -> T ===REVERSED===> S -> T   \n",
    "W : '',S; T  -> W\n",
    "\n",
    "!! T  -> 0 T ===REVERSED===> T -> T 0  \n",
    "W : '',T; T0 -> W\n",
    " \n",
    "!! T  -> 1 T ===REVERSED===> T -> T 1\n",
    "W : '',T; T1 -> W\n",
    "\n",
    "!! T  -> 1 U ===REVERSED===> T -> U 1\n",
    "W : '',T; U1 -> W\n",
    "\n",
    "!! U -> 0 G ===REVERSED===> U -> G 0\n",
    "W : '',U; G0 -> W\n",
    "\n",
    "!! U -> 1 G ===REVERSED===> U -> G 1   \n",
    "W : '',U; G1 -> W\n",
    "\n",
    "!! G -> ''  ===REVERSED===> G -> ''\n",
    "W : '',G; '' -> W\n",
    " \n",
    "\n",
    "''')\n",
    "\n",
    "dotObj_pda(pda_rev, FuseEdges=True)"
   ]
  },
  {
   "cell_type": "code",
   "execution_count": null,
   "metadata": {},
   "outputs": [],
   "source": [
    "explore_pda('', pda_rev)"
   ]
  },
  {
   "cell_type": "code",
   "execution_count": null,
   "metadata": {},
   "outputs": [],
   "source": [
    "explore_pda('0', pda_rev)"
   ]
  },
  {
   "cell_type": "code",
   "execution_count": null,
   "metadata": {},
   "outputs": [],
   "source": [
    "explore_pda('1', pda_rev)"
   ]
  },
  {
   "cell_type": "markdown",
   "metadata": {},
   "source": [
    "# Reversed PDA works but needs STKMAX = 9"
   ]
  },
  {
   "cell_type": "code",
   "execution_count": null,
   "metadata": {
    "scrolled": true
   },
   "outputs": [],
   "source": [
    "# REVERSE THIS TEST:  explore_pda('1001010', pda_if_sndlast_then_1)\n",
    "\n",
    "explore_pda('0101001', pda_rev, STKMAX=9)"
   ]
  },
  {
   "cell_type": "markdown",
   "metadata": {},
   "source": [
    "# Rejects up to stack depth of 12"
   ]
  },
  {
   "cell_type": "code",
   "execution_count": null,
   "metadata": {},
   "outputs": [],
   "source": [
    "# REVERSE THIS TEST:  explore_pda('1001000', pda_if_sndlast_then_1)\n",
    "\n",
    "explore_pda('0001001', pda_rev, STKMAX=12)"
   ]
  },
  {
   "cell_type": "code",
   "execution_count": null,
   "metadata": {},
   "outputs": [],
   "source": [
    "AnimatePDA(pda_rev, FuseEdges=True)\n",
    "display(HTML('<link rel=\"stylesheet\" href=\"//stackpath.bootstrapcdn.com/font-awesome/4.7.0/css/font-awesome.min.css\"/>'))"
   ]
  },
  {
   "cell_type": "markdown",
   "metadata": {},
   "source": [
    "# Now for an inherently ambiguous language\n",
    "\n",
    "## $\\{ a^i b^j c^k \\; : \\; (i=j)\\; \\vee \\; (j=k) \\}$\n",
    "\n",
    "## No CFG can avoid ambiguity! \n",
    "\n",
    "## Let's try a CFG just for illustration\n"
   ]
  },
  {
   "cell_type": "code",
   "execution_count": null,
   "metadata": {
    "run_control": {
     "frozen": false,
     "read_only": false
    }
   },
   "outputs": [],
   "source": [
    "pda_inh_amb = md2mc('''PDA\n",
    "\n",
    "!!---\n",
    "!! \n",
    "!!   where M is \"match a/b\" and N is \"match b/c\"\n",
    "!!   and C means any number of Cs, and A means any number of As\n",
    "!!\n",
    "!! S -> M C |  A N    \n",
    "!!\n",
    "!! M -> a M b | ''\n",
    "!! C -> c C   | ''\n",
    "\n",
    "!! N -> b N c | ''\n",
    "!! A -> a A   | ''\n",
    "!!\n",
    "!!---\n",
    "\n",
    "!!-- Transitions for the CFG rules\n",
    "\n",
    "\n",
    "!! S -> M C |  A N \n",
    "\n",
    "W : '',S; MC -> W\n",
    "W : '',S; AN -> W\n",
    "\n",
    "\n",
    "!! M -> a M b | ''\n",
    "W : '',M; aMb -> W\n",
    "W : '',M; ''  -> W\n",
    "\n",
    "\n",
    "!! C -> c C   | ''\n",
    "W : '',C; cC  -> W\n",
    "W : '',C; ''  -> W\n",
    "\n",
    "!! N -> b N C | ''\n",
    "W : '',N; bNc -> W\n",
    "W : '',N; ''  -> W\n",
    "\n",
    "!! A -> a A   | ''\n",
    "W : '',A; aA  -> W\n",
    "W : '',A; ''  -> W\n",
    "\n",
    "\n",
    "!!-- Standard transitions for CFG 2 PDA\n",
    "I : '',#; S# -> W\n",
    "W : '',#; #  -> F\n",
    "\n",
    "!!-- Transitions for Sigma\n",
    "W : a,a; '' -> W\n",
    "W : b,b; '' -> W\n",
    "W : c,c; '' -> W\n",
    "\n",
    " \n",
    "\n",
    "\n",
    "''')\n",
    "\n",
    "DO_pda_inh_amb = dotObj_pda(pda_inh_amb, FuseEdges=True)\n",
    "DO_pda_inh_amb"
   ]
  },
  {
   "cell_type": "code",
   "execution_count": null,
   "metadata": {},
   "outputs": [],
   "source": [
    "explore_pda('abc', pda_inh_amb)"
   ]
  },
  {
   "cell_type": "code",
   "execution_count": null,
   "metadata": {},
   "outputs": [],
   "source": [
    "AnimatePDA(pda_inh_amb, FuseEdges=True)\n",
    "display(HTML('<link rel=\"stylesheet\" href=\"//stackpath.bootstrapcdn.com/font-awesome/4.7.0/css/font-awesome.min.css\"/>'))"
   ]
  },
  {
   "cell_type": "code",
   "execution_count": null,
   "metadata": {},
   "outputs": [],
   "source": []
  }
 ],
 "metadata": {
  "kernelspec": {
   "display_name": "Python 3",
   "language": "python",
   "name": "python3"
  },
  "language_info": {
   "codemirror_mode": {
    "name": "ipython",
    "version": 3
   },
   "file_extension": ".py",
   "mimetype": "text/x-python",
   "name": "python",
   "nbconvert_exporter": "python",
   "pygments_lexer": "ipython3",
   "version": "3.7.3"
  },
  "toc": {
   "colors": {
    "hover_highlight": "#DAA520",
    "running_highlight": "#FF0000",
    "selected_highlight": "#FFD700"
   },
   "moveMenuLeft": true,
   "nav_menu": {
    "height": "318px",
    "width": "252px"
   },
   "navigate_menu": true,
   "number_sections": true,
   "sideBar": true,
   "threshold": 4,
   "toc_cell": false,
   "toc_section_display": "block",
   "toc_window_display": false,
   "widenNotebook": false
  }
 },
 "nbformat": 4,
 "nbformat_minor": 1
}

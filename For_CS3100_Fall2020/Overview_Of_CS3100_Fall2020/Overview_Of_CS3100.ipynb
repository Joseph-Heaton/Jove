{
 "cells": [
  {
   "cell_type": "markdown",
   "metadata": {},
   "source": [
    "# Overview of CS 3100\n",
    "\n",
    "The main class that uses Jove is CS 3100, Models of Computation. \n",
    "\n",
    "The Fall 2020 version of this class will heavily depend on Jove because\n",
    "we believe strongly in __active learning__. Take a tour through this \n",
    "Jove User Manual and get a sense of where we will be going with the\n",
    "hands-on part of this class. The theory part of this class will soon\n",
    "unfold in front of you!"
   ]
  },
  {
   "cell_type": "markdown",
   "metadata": {},
   "source": [
    "# A 5-minute Tour of Jove\n",
    "\n",
    "We will assume that you are working on Google's Colab (for your own installation, kindly follow the instructions in Jove_Installation_Guide.pdf). \n",
    "\n",
    "We now provide a 5-minute tour that exposes you to the essential aspects of Jove and the \"import\" statements you need to accomplish these.\n",
    "\n",
    "## Workflow: Write Markdown, Convert to Machine, Draw, Run or Explore\n",
    "\n",
    "This basic workflow of Jove consists of \n",
    "\n",
    "* including the minimal set of imports,\n",
    "* writing a markdown and converting it to a machine,\n",
    "* drawing the machine in a notebook cell, and\n",
    "* running/exploring the machine."
   ]
  },
  {
   "cell_type": "markdown",
   "metadata": {},
   "source": [
    "### Minimal Imports\n",
    "\n",
    "The import header in specific ipynb files vary; here is a minimal one that gets us going"
   ]
  },
  {
   "cell_type": "code",
   "execution_count": 1,
   "metadata": {},
   "outputs": [
    {
     "name": "stdout",
     "output_type": "stream",
     "text": [
      "Running on own machine. Include # sys.path[0:0] = [ '..', '../3rdparty' ] .. as needed\n",
      "You may use any of these help commands:\n",
      "help(md2mc)\n",
      ".. and if you want to dig more, then ..\n",
      "help(default_line_attr)\n",
      "help(length_ok_input_items)\n",
      "help(union_line_attr_list_fld)\n",
      "help(extend_rsltdict)\n",
      "help(form_delta)\n",
      "help(get_machine_components)\n",
      "\n",
      "You may use any of these help commands:\n",
      "help(ResetStNum)\n",
      "help(NxtStateStr)\n",
      "\n"
     ]
    }
   ],
   "source": [
    "import sys\n",
    "try:\n",
    "    import google.colab\n",
    "    OWN_INSTALL = False\n",
    "except:\n",
    "    OWN_INSTALL = True  \n",
    "if OWN_INSTALL:\n",
    "    print(\"Running on own machine. Include # sys.path[0:0] = [ '..', '../3rdparty' ] .. as needed\")\n",
    "else:\n",
    "    ! if [ ! -d Jove ]; then git clone https://github.com/ganeshutah/Jove Jove; fi\n",
    "    sys.path.append('./Jove')       # Set paths for Colab\n",
    "    sys.path.append('./Jove/jove')\n",
    "# -- Now include common imports - either here, or just before when needed --\n",
    "\n",
    "# -- these are almost always needed  \n",
    "from jove.Def_md2mc  import * # -- to convert markdowns to machines\n",
    "from jove.DotBashers import * # -- to draw machines"
   ]
  },
  {
   "cell_type": "markdown",
   "metadata": {},
   "source": [
    "# The Full Animation Panel\n",
    "\n",
    "This is the dandiest part of Jove IMHO. This was written by Paul C.J. Carlson who\n",
    "took my class and was TA for me in CS 3100. You may even begin with this full \n",
    "animation panel and then get into the specifics discussed below, later. \n",
    "\n",
    "As soon as you execute the lines below, you will see tabs with legend \"Edit\", \"Animate\", and \"Help\". The \"Edit\" tab comes with ready machines to edit and run! You don't need to learn any syntax. The \"Animate\" tab helps you animate what you edited and created. Finally the \"Help\" tab tells you all the details, including the markdown syntax and the menu functions. The \"Options\" tab at the bottom allows you to select various properties.\n",
    "\n",
    "This UI is one of the coolest designs within Jove. It directly ties into the core functions of Jove."
   ]
  },
  {
   "cell_type": "code",
   "execution_count": 2,
   "metadata": {
    "scrolled": true
   },
   "outputs": [
    {
     "data": {
      "text/html": [
       "<style>textarea, input { font-family: monospace; }</style>"
      ],
      "text/plain": [
       "<IPython.core.display.HTML object>"
      ]
     },
     "metadata": {},
     "output_type": "display_data"
    },
    {
     "data": {
      "application/vnd.jupyter.widget-view+json": {
       "model_id": "1a33e0fae7724adcb9f75834137d419e",
       "version_major": 2,
       "version_minor": 0
      },
      "text/plain": [
       "Tab(children=(VBox(children=(HBox(children=(Accordion(children=(VBox(children=(HBox(children=(Text(value='', p…"
      ]
     },
     "metadata": {},
     "output_type": "display_data"
    },
    {
     "data": {
      "text/plain": [
       "<jove.JoveEditor.JoveEditor at 0x107038b00>"
      ]
     },
     "execution_count": 2,
     "metadata": {},
     "output_type": "execute_result"
    }
   ],
   "source": [
    "from jove.JoveEditor import *\n",
    "JoveEditor(examples=True)"
   ]
  },
  {
   "cell_type": "markdown",
   "metadata": {},
   "source": [
    "# Approach without using the full animation panel\n",
    "\n",
    "It is important to use Jove without the full animation panel also. This way,\n",
    "you will learn more about its interactive exploration facilities. You will\n",
    "also learn how to introduce animation selectively. That is described below."
   ]
  },
  {
   "cell_type": "markdown",
   "metadata": {},
   "source": [
    "## Define and Draw Machines\n",
    "\n",
    "Define and draw machines. \n",
    "\n",
    "When defining machines, please employ the __Literate Programming__ style\n",
    "espoused by Prof. Donald Knuth:\n",
    "\n",
    "* describe your design plans in clear English in comments; and\n",
    "* embed your DFA code amidst these comments\n",
    "\n",
    "We define a DFA that accepts strings that contain a 010 in this manner, below.\n",
    "\n",
    "Note that we are overdoing the comments below, being our first illustration.\n",
    "In general, you must put \"just the right amount\" of comments -- not excessive, not scanty."
   ]
  },
  {
   "cell_type": "code",
   "execution_count": 3,
   "metadata": {},
   "outputs": [],
   "source": [
    "DFA010 = md2mc('''\n",
    "DFA\n",
    "\n",
    "!! Overall plans: Name states to reflect information being recorded\n",
    "\n",
    "!! The initial state is not final, since a 010 has not been seen.\n",
    "!! Thus the initial state name is \"I\" and not \"IF\"\n",
    "\n",
    "!! Below, with each state such as I or S0, we provide both the moves out of it\n",
    "!! For larger alphabets, provide all the moves in a bunch. \n",
    "\n",
    "!! We prefer to first list moves that are not too interesting; this way you can \n",
    "!! forget those cases and move on.\n",
    "\n",
    "I : 1 -> I  !! Upon a '1', no progress toward 010, so throw '1' away\n",
    "I : 0 -> S0 !! '0' is interesting, as it is progressing toward 010; record it in the state\n",
    "\n",
    "S0 : 0 -> S0  !! No further progress, but progress so far is not lost either; stay at S0\n",
    "S0 : 1 -> S01 !! Now progress toward 010\n",
    "\n",
    "S01 : 1 -> I !! A \"spoiler\" of a '1' is seen. We revert back to I and start all over.\n",
    "S01 : 0 -> F !! Seen a 010. No more work to do!\n",
    "\n",
    "F : 0|1 -> F  !! Remain at F, having seen a 010\n",
    "''')"
   ]
  },
  {
   "cell_type": "code",
   "execution_count": 4,
   "metadata": {},
   "outputs": [
    {
     "data": {
      "image/svg+xml": [
       "<?xml version=\"1.0\" encoding=\"UTF-8\" standalone=\"no\"?>\n",
       "<!DOCTYPE svg PUBLIC \"-//W3C//DTD SVG 1.1//EN\"\n",
       " \"http://www.w3.org/Graphics/SVG/1.1/DTD/svg11.dtd\">\n",
       "<!-- Generated by graphviz version 2.40.1 (20161225.0304)\n",
       " -->\n",
       "<!-- Title: %3 Pages: 1 -->\n",
       "<svg width=\"410pt\" height=\"123pt\"\n",
       " viewBox=\"0.00 0.00 409.69 122.85\" xmlns=\"http://www.w3.org/2000/svg\" xmlns:xlink=\"http://www.w3.org/1999/xlink\">\n",
       "<g id=\"graph0\" class=\"graph\" transform=\"scale(1 1) rotate(0) translate(4 118.846)\">\n",
       "<title>%3</title>\n",
       "<polygon fill=\"#ffffff\" stroke=\"transparent\" points=\"-4,4 -4,-118.846 405.692,-118.846 405.692,4 -4,4\"/>\n",
       "<!-- EMPTY -->\n",
       "<g id=\"node1\" class=\"node\">\n",
       "<title>EMPTY</title>\n",
       "</g>\n",
       "<!-- I -->\n",
       "<g id=\"node2\" class=\"node\">\n",
       "<title>I</title>\n",
       "<ellipse fill=\"none\" stroke=\"#000000\" cx=\"109\" cy=\"-24.6978\" rx=\"18\" ry=\"18\"/>\n",
       "<text text-anchor=\"middle\" x=\"109\" y=\"-20.9978\" font-family=\"Times,serif\" font-size=\"14.00\" fill=\"#000000\">I</text>\n",
       "</g>\n",
       "<!-- EMPTY&#45;&gt;I -->\n",
       "<g id=\"edge1\" class=\"edge\">\n",
       "<title>EMPTY&#45;&gt;I</title>\n",
       "<path fill=\"none\" stroke=\"#000000\" d=\"M54.3048,-24.6978C62.6909,-24.6978 71.9407,-24.6978 80.4103,-24.6978\"/>\n",
       "<polygon fill=\"#000000\" stroke=\"#000000\" points=\"80.5976,-28.1979 90.5976,-24.6978 80.5976,-21.1979 80.5976,-28.1979\"/>\n",
       "</g>\n",
       "<!-- I&#45;&gt;I -->\n",
       "<g id=\"edge2\" class=\"edge\">\n",
       "<title>I&#45;&gt;I</title>\n",
       "<path fill=\"none\" stroke=\"#000000\" d=\"M102.6208,-41.7351C101.3189,-51.5557 103.4453,-60.6978 109,-60.6978 112.4717,-60.6978 114.6042,-57.1267 115.3975,-52.0507\"/>\n",
       "<polygon fill=\"#000000\" stroke=\"#000000\" points=\"118.8971,-51.7289 115.3792,-41.7351 111.8971,-51.7413 118.8971,-51.7289\"/>\n",
       "<text text-anchor=\"middle\" x=\"109\" y=\"-64.4978\" font-family=\"Times,serif\" font-size=\"14.00\" fill=\"#000000\">1 </text>\n",
       "</g>\n",
       "<!-- S0 -->\n",
       "<g id=\"node3\" class=\"node\">\n",
       "<title>S0</title>\n",
       "<ellipse fill=\"none\" stroke=\"#000000\" cx=\"194.1482\" cy=\"-61.6978\" rx=\"20.2975\" ry=\"20.2975\"/>\n",
       "<text text-anchor=\"middle\" x=\"194.1482\" y=\"-57.9978\" font-family=\"Times,serif\" font-size=\"14.00\" fill=\"#000000\">S0</text>\n",
       "</g>\n",
       "<!-- I&#45;&gt;S0 -->\n",
       "<g id=\"edge3\" class=\"edge\">\n",
       "<title>I&#45;&gt;S0</title>\n",
       "<path fill=\"none\" stroke=\"#000000\" d=\"M125.8225,-32.0078C137.3666,-37.0241 152.9569,-43.7987 166.3304,-49.61\"/>\n",
       "<polygon fill=\"#000000\" stroke=\"#000000\" points=\"165.0206,-52.8569 175.587,-53.6323 167.8104,-46.4368 165.0206,-52.8569\"/>\n",
       "<text text-anchor=\"middle\" x=\"150.5\" y=\"-47.4978\" font-family=\"Times,serif\" font-size=\"14.00\" fill=\"#000000\">0 </text>\n",
       "</g>\n",
       "<!-- S0&#45;&gt;S0 -->\n",
       "<g id=\"edge4\" class=\"edge\">\n",
       "<title>S0&#45;&gt;S0</title>\n",
       "<path fill=\"none\" stroke=\"#000000\" d=\"M186.5981,-80.5406C185.3151,-90.6427 187.8318,-99.846 194.1482,-99.846 198.1947,-99.846 200.6817,-96.069 201.6093,-90.6983\"/>\n",
       "<polygon fill=\"#000000\" stroke=\"#000000\" points=\"205.1105,-90.5709 201.6983,-80.5406 198.1108,-90.5096 205.1105,-90.5709\"/>\n",
       "<text text-anchor=\"middle\" x=\"194.1482\" y=\"-103.646\" font-family=\"Times,serif\" font-size=\"14.00\" fill=\"#000000\">0 </text>\n",
       "</g>\n",
       "<!-- S01 -->\n",
       "<g id=\"node4\" class=\"node\">\n",
       "<title>S01</title>\n",
       "<ellipse fill=\"none\" stroke=\"#000000\" cx=\"285.9942\" cy=\"-24.6978\" rx=\"24.8972\" ry=\"24.8972\"/>\n",
       "<text text-anchor=\"middle\" x=\"285.9942\" y=\"-20.9978\" font-family=\"Times,serif\" font-size=\"14.00\" fill=\"#000000\">S01</text>\n",
       "</g>\n",
       "<!-- S0&#45;&gt;S01 -->\n",
       "<g id=\"edge5\" class=\"edge\">\n",
       "<title>S0&#45;&gt;S01</title>\n",
       "<path fill=\"none\" stroke=\"#000000\" d=\"M213.1788,-54.0314C224.7638,-49.3644 239.8743,-43.2771 253.3255,-37.8583\"/>\n",
       "<polygon fill=\"#000000\" stroke=\"#000000\" points=\"254.7849,-41.0438 262.7527,-34.0606 252.1692,-34.5509 254.7849,-41.0438\"/>\n",
       "<text text-anchor=\"middle\" x=\"237.7964\" y=\"-48.4978\" font-family=\"Times,serif\" font-size=\"14.00\" fill=\"#000000\">1 </text>\n",
       "</g>\n",
       "<!-- S01&#45;&gt;I -->\n",
       "<g id=\"edge6\" class=\"edge\">\n",
       "<title>S01&#45;&gt;I</title>\n",
       "<path fill=\"none\" stroke=\"#000000\" d=\"M261.1518,-21.6722C247.3714,-20.145 229.9113,-18.4583 214.2964,-17.6978 196.4081,-16.8266 191.8838,-16.7376 174,-17.6978 161.8898,-18.348 148.5651,-19.6749 137.1494,-21.0004\"/>\n",
       "<polygon fill=\"#000000\" stroke=\"#000000\" points=\"136.3954,-17.5662 126.8914,-22.2486 137.241,-24.515 136.3954,-17.5662\"/>\n",
       "<text text-anchor=\"middle\" x=\"194.1482\" y=\"-21.4978\" font-family=\"Times,serif\" font-size=\"14.00\" fill=\"#000000\">1 </text>\n",
       "</g>\n",
       "<!-- F -->\n",
       "<g id=\"node5\" class=\"node\">\n",
       "<title>F</title>\n",
       "<ellipse fill=\"none\" stroke=\"#000000\" cx=\"379.692\" cy=\"-24.6978\" rx=\"18\" ry=\"18\"/>\n",
       "<ellipse fill=\"none\" stroke=\"#000000\" cx=\"379.692\" cy=\"-24.6978\" rx=\"22\" ry=\"22\"/>\n",
       "<text text-anchor=\"middle\" x=\"379.692\" y=\"-20.9978\" font-family=\"Times,serif\" font-size=\"14.00\" fill=\"#000000\">F</text>\n",
       "</g>\n",
       "<!-- S01&#45;&gt;F -->\n",
       "<g id=\"edge7\" class=\"edge\">\n",
       "<title>S01&#45;&gt;F</title>\n",
       "<path fill=\"none\" stroke=\"#000000\" d=\"M311.1035,-24.6978C322.1433,-24.6978 335.2525,-24.6978 347.0382,-24.6978\"/>\n",
       "<polygon fill=\"#000000\" stroke=\"#000000\" points=\"347.3923,-28.1979 357.3923,-24.6978 347.3922,-21.1979 347.3923,-28.1979\"/>\n",
       "<text text-anchor=\"middle\" x=\"334.192\" y=\"-28.4978\" font-family=\"Times,serif\" font-size=\"14.00\" fill=\"#000000\">0 </text>\n",
       "</g>\n",
       "<!-- F&#45;&gt;F -->\n",
       "<g id=\"edge8\" class=\"edge\">\n",
       "<title>F&#45;&gt;F</title>\n",
       "<path fill=\"none\" stroke=\"#000000\" d=\"M375.6315,-46.5044C375.2448,-56.2603 376.5983,-64.6978 379.692,-64.6978 381.6256,-64.6978 382.8795,-61.4019 383.4535,-56.5482\"/>\n",
       "<polygon fill=\"#000000\" stroke=\"#000000\" points=\"386.9533,-56.6042 383.7526,-46.5044 379.9564,-56.3958 386.9533,-56.6042\"/>\n",
       "<text text-anchor=\"middle\" x=\"379.692\" y=\"-68.4978\" font-family=\"Times,serif\" font-size=\"14.00\" fill=\"#000000\">0 </text>\n",
       "</g>\n",
       "<!-- F&#45;&gt;F -->\n",
       "<g id=\"edge9\" class=\"edge\">\n",
       "<title>F&#45;&gt;F</title>\n",
       "<path fill=\"none\" stroke=\"#000000\" d=\"M372.7517,-45.8121C369.6872,-63.7934 372.0006,-82.6978 379.692,-82.6978 385.9413,-82.6978 388.6403,-70.218 387.7889,-55.8932\"/>\n",
       "<polygon fill=\"#000000\" stroke=\"#000000\" points=\"391.2494,-55.3479 386.6323,-45.8121 384.295,-56.1459 391.2494,-55.3479\"/>\n",
       "<text text-anchor=\"middle\" x=\"379.692\" y=\"-86.4978\" font-family=\"Times,serif\" font-size=\"14.00\" fill=\"#000000\">1 </text>\n",
       "</g>\n",
       "</g>\n",
       "</svg>\n"
      ],
      "text/plain": [
       "<graphviz.dot.Digraph at 0x107b1ba20>"
      ]
     },
     "execution_count": 4,
     "metadata": {},
     "output_type": "execute_result"
    }
   ],
   "source": [
    "dotObj_dfa(DFA010)"
   ]
  },
  {
   "cell_type": "markdown",
   "metadata": {},
   "source": [
    "### Fuse the Edges for Neatness\n",
    "\n",
    "We like to see all the edges separately to see \"it is all there\". \n",
    "After that, we want to fuse multiple edges between states. The\n",
    "\"FuseEdges=True\" below accomplishes that."
   ]
  },
  {
   "cell_type": "code",
   "execution_count": 5,
   "metadata": {},
   "outputs": [
    {
     "data": {
      "image/svg+xml": [
       "<?xml version=\"1.0\" encoding=\"UTF-8\" standalone=\"no\"?>\n",
       "<!DOCTYPE svg PUBLIC \"-//W3C//DTD SVG 1.1//EN\"\n",
       " \"http://www.w3.org/Graphics/SVG/1.1/DTD/svg11.dtd\">\n",
       "<!-- Generated by graphviz version 2.40.1 (20161225.0304)\n",
       " -->\n",
       "<!-- Title: %3 Pages: 1 -->\n",
       "<svg width=\"410pt\" height=\"123pt\"\n",
       " viewBox=\"0.00 0.00 409.69 122.85\" xmlns=\"http://www.w3.org/2000/svg\" xmlns:xlink=\"http://www.w3.org/1999/xlink\">\n",
       "<g id=\"graph0\" class=\"graph\" transform=\"scale(1 1) rotate(0) translate(4 118.846)\">\n",
       "<title>%3</title>\n",
       "<polygon fill=\"#ffffff\" stroke=\"transparent\" points=\"-4,4 -4,-118.846 405.692,-118.846 405.692,4 -4,4\"/>\n",
       "<!-- EMPTY -->\n",
       "<g id=\"node1\" class=\"node\">\n",
       "<title>EMPTY</title>\n",
       "</g>\n",
       "<!-- I -->\n",
       "<g id=\"node2\" class=\"node\">\n",
       "<title>I</title>\n",
       "<ellipse fill=\"none\" stroke=\"#000000\" cx=\"109\" cy=\"-24.6978\" rx=\"18\" ry=\"18\"/>\n",
       "<text text-anchor=\"middle\" x=\"109\" y=\"-20.9978\" font-family=\"Times,serif\" font-size=\"14.00\" fill=\"#000000\">I</text>\n",
       "</g>\n",
       "<!-- EMPTY&#45;&gt;I -->\n",
       "<g id=\"edge1\" class=\"edge\">\n",
       "<title>EMPTY&#45;&gt;I</title>\n",
       "<path fill=\"none\" stroke=\"#000000\" d=\"M54.3048,-24.6978C62.6909,-24.6978 71.9407,-24.6978 80.4103,-24.6978\"/>\n",
       "<polygon fill=\"#000000\" stroke=\"#000000\" points=\"80.5976,-28.1979 90.5976,-24.6978 80.5976,-21.1979 80.5976,-28.1979\"/>\n",
       "</g>\n",
       "<!-- I&#45;&gt;I -->\n",
       "<g id=\"edge2\" class=\"edge\">\n",
       "<title>I&#45;&gt;I</title>\n",
       "<path fill=\"none\" stroke=\"#000000\" d=\"M102.6208,-41.7351C101.3189,-51.5557 103.4453,-60.6978 109,-60.6978 112.4717,-60.6978 114.6042,-57.1267 115.3975,-52.0507\"/>\n",
       "<polygon fill=\"#000000\" stroke=\"#000000\" points=\"118.8971,-51.7289 115.3792,-41.7351 111.8971,-51.7413 118.8971,-51.7289\"/>\n",
       "<text text-anchor=\"middle\" x=\"109\" y=\"-64.4978\" font-family=\"Times,serif\" font-size=\"14.00\" fill=\"#000000\">1 </text>\n",
       "</g>\n",
       "<!-- S0 -->\n",
       "<g id=\"node3\" class=\"node\">\n",
       "<title>S0</title>\n",
       "<ellipse fill=\"none\" stroke=\"#000000\" cx=\"194.1482\" cy=\"-61.6978\" rx=\"20.2975\" ry=\"20.2975\"/>\n",
       "<text text-anchor=\"middle\" x=\"194.1482\" y=\"-57.9978\" font-family=\"Times,serif\" font-size=\"14.00\" fill=\"#000000\">S0</text>\n",
       "</g>\n",
       "<!-- I&#45;&gt;S0 -->\n",
       "<g id=\"edge3\" class=\"edge\">\n",
       "<title>I&#45;&gt;S0</title>\n",
       "<path fill=\"none\" stroke=\"#000000\" d=\"M125.8225,-32.0078C137.3666,-37.0241 152.9569,-43.7987 166.3304,-49.61\"/>\n",
       "<polygon fill=\"#000000\" stroke=\"#000000\" points=\"165.0206,-52.8569 175.587,-53.6323 167.8104,-46.4368 165.0206,-52.8569\"/>\n",
       "<text text-anchor=\"middle\" x=\"150.5\" y=\"-47.4978\" font-family=\"Times,serif\" font-size=\"14.00\" fill=\"#000000\">0 </text>\n",
       "</g>\n",
       "<!-- S0&#45;&gt;S0 -->\n",
       "<g id=\"edge4\" class=\"edge\">\n",
       "<title>S0&#45;&gt;S0</title>\n",
       "<path fill=\"none\" stroke=\"#000000\" d=\"M186.5981,-80.5406C185.3151,-90.6427 187.8318,-99.846 194.1482,-99.846 198.1947,-99.846 200.6817,-96.069 201.6093,-90.6983\"/>\n",
       "<polygon fill=\"#000000\" stroke=\"#000000\" points=\"205.1105,-90.5709 201.6983,-80.5406 198.1108,-90.5096 205.1105,-90.5709\"/>\n",
       "<text text-anchor=\"middle\" x=\"194.1482\" y=\"-103.646\" font-family=\"Times,serif\" font-size=\"14.00\" fill=\"#000000\">0 </text>\n",
       "</g>\n",
       "<!-- S01 -->\n",
       "<g id=\"node4\" class=\"node\">\n",
       "<title>S01</title>\n",
       "<ellipse fill=\"none\" stroke=\"#000000\" cx=\"285.9942\" cy=\"-24.6978\" rx=\"24.8972\" ry=\"24.8972\"/>\n",
       "<text text-anchor=\"middle\" x=\"285.9942\" y=\"-20.9978\" font-family=\"Times,serif\" font-size=\"14.00\" fill=\"#000000\">S01</text>\n",
       "</g>\n",
       "<!-- S0&#45;&gt;S01 -->\n",
       "<g id=\"edge5\" class=\"edge\">\n",
       "<title>S0&#45;&gt;S01</title>\n",
       "<path fill=\"none\" stroke=\"#000000\" d=\"M213.1788,-54.0314C224.7638,-49.3644 239.8743,-43.2771 253.3255,-37.8583\"/>\n",
       "<polygon fill=\"#000000\" stroke=\"#000000\" points=\"254.7849,-41.0438 262.7527,-34.0606 252.1692,-34.5509 254.7849,-41.0438\"/>\n",
       "<text text-anchor=\"middle\" x=\"237.7964\" y=\"-48.4978\" font-family=\"Times,serif\" font-size=\"14.00\" fill=\"#000000\">1 </text>\n",
       "</g>\n",
       "<!-- S01&#45;&gt;I -->\n",
       "<g id=\"edge6\" class=\"edge\">\n",
       "<title>S01&#45;&gt;I</title>\n",
       "<path fill=\"none\" stroke=\"#000000\" d=\"M261.1518,-21.6722C247.3714,-20.145 229.9113,-18.4583 214.2964,-17.6978 196.4081,-16.8266 191.8838,-16.7376 174,-17.6978 161.8898,-18.348 148.5651,-19.6749 137.1494,-21.0004\"/>\n",
       "<polygon fill=\"#000000\" stroke=\"#000000\" points=\"136.3954,-17.5662 126.8914,-22.2486 137.241,-24.515 136.3954,-17.5662\"/>\n",
       "<text text-anchor=\"middle\" x=\"194.1482\" y=\"-21.4978\" font-family=\"Times,serif\" font-size=\"14.00\" fill=\"#000000\">1 </text>\n",
       "</g>\n",
       "<!-- F -->\n",
       "<g id=\"node5\" class=\"node\">\n",
       "<title>F</title>\n",
       "<ellipse fill=\"none\" stroke=\"#000000\" cx=\"379.692\" cy=\"-24.6978\" rx=\"18\" ry=\"18\"/>\n",
       "<ellipse fill=\"none\" stroke=\"#000000\" cx=\"379.692\" cy=\"-24.6978\" rx=\"22\" ry=\"22\"/>\n",
       "<text text-anchor=\"middle\" x=\"379.692\" y=\"-20.9978\" font-family=\"Times,serif\" font-size=\"14.00\" fill=\"#000000\">F</text>\n",
       "</g>\n",
       "<!-- S01&#45;&gt;F -->\n",
       "<g id=\"edge7\" class=\"edge\">\n",
       "<title>S01&#45;&gt;F</title>\n",
       "<path fill=\"none\" stroke=\"#000000\" d=\"M311.1035,-24.6978C322.1433,-24.6978 335.2525,-24.6978 347.0382,-24.6978\"/>\n",
       "<polygon fill=\"#000000\" stroke=\"#000000\" points=\"347.3923,-28.1979 357.3923,-24.6978 347.3922,-21.1979 347.3923,-28.1979\"/>\n",
       "<text text-anchor=\"middle\" x=\"334.192\" y=\"-28.4978\" font-family=\"Times,serif\" font-size=\"14.00\" fill=\"#000000\">0 </text>\n",
       "</g>\n",
       "<!-- F&#45;&gt;F -->\n",
       "<g id=\"edge8\" class=\"edge\">\n",
       "<title>F&#45;&gt;F</title>\n",
       "<path fill=\"none\" stroke=\"#000000\" d=\"M371.6858,-45.2786C370.578,-55.5425 373.2467,-64.6978 379.692,-64.6978 383.8211,-64.6978 386.4002,-60.9405 387.4294,-55.5414\"/>\n",
       "<polygon fill=\"#000000\" stroke=\"#000000\" points=\"390.9351,-55.3669 387.6983,-45.2786 383.9375,-55.1835 390.9351,-55.3669\"/>\n",
       "<text text-anchor=\"middle\" x=\"379.692\" y=\"-83.4978\" font-family=\"Times,serif\" font-size=\"14.00\" fill=\"#000000\">0 </text>\n",
       "<text text-anchor=\"middle\" x=\"379.692\" y=\"-68.4978\" font-family=\"Times,serif\" font-size=\"14.00\" fill=\"#000000\"> 1 </text>\n",
       "</g>\n",
       "</g>\n",
       "</svg>\n"
      ],
      "text/plain": [
       "<graphviz.dot.Digraph at 0x107b1bfd0>"
      ]
     },
     "execution_count": 5,
     "metadata": {},
     "output_type": "execute_result"
    }
   ],
   "source": [
    "dotObj_dfa(DFA010, FuseEdges=True)"
   ]
  },
  {
   "cell_type": "markdown",
   "metadata": {},
   "source": [
    "### Running DFA\n",
    "\n",
    "Now, we can step_dfa, run_dfa, and check for acceptance."
   ]
  },
  {
   "cell_type": "code",
   "execution_count": 6,
   "metadata": {},
   "outputs": [],
   "source": [
    "from jove.Def_DFA import *"
   ]
  },
  {
   "cell_type": "code",
   "execution_count": 7,
   "metadata": {},
   "outputs": [
    {
     "data": {
      "text/plain": [
       "True"
      ]
     },
     "execution_count": 7,
     "metadata": {},
     "output_type": "execute_result"
    }
   ],
   "source": [
    "accepts_dfa(DFA010, \"0110010\")"
   ]
  },
  {
   "cell_type": "markdown",
   "metadata": {},
   "source": [
    "### Testing the DFA in Numeric Order\n",
    "\n",
    "Testing a DFA according to strings in numeric order is a good idea,\n",
    "as it ekes out bugs with respect to short strings. Usually DFAs are\n",
    "\"good\" if they work for \"all short strings\" (or almost all). For this,\n",
    "we include LangDefs that defines \"nthnumeric\""
   ]
  },
  {
   "cell_type": "code",
   "execution_count": 8,
   "metadata": {},
   "outputs": [
    {
     "name": "stdout",
     "output_type": "stream",
     "text": [
      "You may use any of these help commands:\n",
      "help(lphi)\n",
      "help(lunit)\n",
      "help(lcat)\n",
      "help(lexp)\n",
      "help(lunion)\n",
      "help(lstar)\n",
      "help(srev)\n",
      "help(lrev)\n",
      "help(shomo)\n",
      "help(lhomo)\n",
      "help(powset)\n",
      "help(lint)\n",
      "help(lsymdiff)\n",
      "help(lminus)\n",
      "help(lissubset)\n",
      "help(lissuperset)\n",
      "help(lcomplem)\n",
      "help(product)\n",
      "help(nthnumeric)\n",
      "\n"
     ]
    }
   ],
   "source": [
    "from jove.LangDef import *"
   ]
  },
  {
   "cell_type": "code",
   "execution_count": 9,
   "metadata": {},
   "outputs": [
    {
     "name": "stdout",
     "output_type": "stream",
     "text": [
      "Help on function nthnumeric in module jove.LangDef:\n",
      "\n",
      "nthnumeric(N, S=['a', 'b'])\n",
      "    Assume S ('Sigma') is a 2-sized list of chars (default ['a','b']). \n",
      "    Produce the Nth string in numeric order, where N >= 0.\n",
      "    Idea : Given N, get b = floor(log_2(N+1)) - need that \n",
      "    many places; what to fill in the places is the binary \n",
      "    code for N - (2^b - 1) with 0 as S[0] and 1 as S[1].\n",
      "\n"
     ]
    }
   ],
   "source": [
    "help(nthnumeric)"
   ]
  },
  {
   "cell_type": "code",
   "execution_count": 10,
   "metadata": {},
   "outputs": [],
   "source": [
    "TestStrings = [nthnumeric(i, ['0','1']) for i in range(32)]"
   ]
  },
  {
   "cell_type": "code",
   "execution_count": 11,
   "metadata": {},
   "outputs": [
    {
     "name": "stdout",
     "output_type": "stream",
     "text": [
      "DFA010 rejects  \n",
      "DFA010 rejects  0\n",
      "DFA010 rejects  1\n",
      "DFA010 rejects  00\n",
      "DFA010 rejects  01\n",
      "DFA010 rejects  10\n",
      "DFA010 rejects  11\n",
      "DFA010 rejects  000\n",
      "DFA010 rejects  001\n",
      "DFA010 accepts  010\n",
      "DFA010 rejects  011\n",
      "DFA010 rejects  100\n",
      "DFA010 rejects  101\n",
      "DFA010 rejects  110\n",
      "DFA010 rejects  111\n",
      "DFA010 rejects  0000\n",
      "DFA010 rejects  0001\n",
      "DFA010 accepts  0010\n",
      "DFA010 rejects  0011\n",
      "DFA010 accepts  0100\n",
      "DFA010 accepts  0101\n",
      "DFA010 rejects  0110\n",
      "DFA010 rejects  0111\n",
      "DFA010 rejects  1000\n",
      "DFA010 rejects  1001\n",
      "DFA010 accepts  1010\n",
      "DFA010 rejects  1011\n",
      "DFA010 rejects  1100\n",
      "DFA010 rejects  1101\n",
      "DFA010 rejects  1110\n",
      "DFA010 rejects  1111\n",
      "DFA010 rejects  00000\n"
     ]
    }
   ],
   "source": [
    "for test in TestStrings:\n",
    "    if accepts_dfa(DFA010, test):\n",
    "        print(\"DFA010 accepts \", test)\n",
    "    else:\n",
    "        print(\"DFA010 rejects \", test)    "
   ]
  },
  {
   "cell_type": "markdown",
   "metadata": {},
   "source": [
    "### Use of Filter to Pick Out All Strings Accepted\n",
    "\n",
    "While testing as above is reassuring, it is often a good idea to pick out\n",
    "the essence of a machine using the Python 'filter' command. See an example\n",
    "below. You can learn about Python functions and features \n",
    "from [a good Python tutorial](https://www.python-course.eu)"
   ]
  },
  {
   "cell_type": "code",
   "execution_count": 12,
   "metadata": {},
   "outputs": [
    {
     "data": {
      "text/plain": [
       "['010', '0010', '0100', '0101', '1010']"
      ]
     },
     "execution_count": 12,
     "metadata": {},
     "output_type": "execute_result"
    }
   ],
   "source": [
    "list(filter(lambda x: accepts_dfa(DFA010, x), TestStrings))"
   ]
  },
  {
   "cell_type": "markdown",
   "metadata": {},
   "source": [
    "## Animate Individual Machines\n",
    "\n",
    "This is how you can individually animate DFA created thus far"
   ]
  },
  {
   "cell_type": "code",
   "execution_count": 13,
   "metadata": {},
   "outputs": [
    {
     "data": {
      "application/vnd.jupyter.widget-view+json": {
       "model_id": "bb93eb9327894cd086f2ee5c8686d744",
       "version_major": 2,
       "version_minor": 0
      },
      "text/plain": [
       "VBox(children=(HBox(children=(Text(value='', description='Input:', layout=Layout(width='500px'), placeholder='…"
      ]
     },
     "metadata": {},
     "output_type": "display_data"
    },
    {
     "data": {
      "text/html": [
       "<link rel=\"stylesheet\" href=\"//stackpath.bootstrapcdn.com/font-awesome/4.7.0/css/font-awesome.min.css\"/>"
      ],
      "text/plain": [
       "<IPython.core.display.HTML object>"
      ]
     },
     "metadata": {},
     "output_type": "display_data"
    }
   ],
   "source": [
    "from jove.AnimateDFA import *\n",
    "AnimateDFA(DFA010, FuseEdges=False)\n",
    "display(HTML('<link rel=\"stylesheet\" href=\"//stackpath.bootstrapcdn.com/font-awesome/4.7.0/css/font-awesome.min.css\"/>'))"
   ]
  },
  {
   "cell_type": "markdown",
   "metadata": {},
   "source": [
    "### Why the \"display(HTML...)\" line?\n",
    "\n",
    "The line \"display(HTML...)\" used in the above cell is required to make\n",
    "the play/pause/stop buttons show up properly when run on Colab. \n",
    "This is based on a \n",
    "[suggestion I received from Stackoverflow](https://stackoverflow.com/questions/59595489/googles-colab-does-not-seem-to-show-the-icon-shapes-within-widgets-play)\n",
    "\n",
    "\n"
   ]
  },
  {
   "cell_type": "markdown",
   "metadata": {},
   "source": [
    "# Details of Jove\n",
    "\n",
    "Jove is a collection of Jupyter notebooks that includes functions to create and manipulate automata, \n",
    "including Deterministic Finite Automata (DFA), Nondeterministic Finite State Automata (NFA), Pushdown\n",
    "Automata (PDA) and Turing Machines (TM). Jove also includes many features covering Derivative-based \n",
    "Pattern Matching, a Post Correspondence Problem (PCP) solution generator, a Binary Decision Diagram\n",
    "tool (BDD), and facilities to experiment with Lambda Calculus.\n",
    "\n",
    "\n",
    "This user manual is aimed at a beginner of Jove, and we will focus on its facilities to manipulate automata and allied notions such as regular expressions. We organize this user manual by first presenting the overall organization and philosophy of Jove. Following that, we will walk through some of the most common paths a beginner may traverse. With that in place, we believe that a more experienced user will be able to figure out the details of things we do not get into. In other words, we aim for brevity and readability of this documentation --- not encyclopaedic perfection at every juncture.\n",
    "\n"
   ]
  },
  {
   "cell_type": "markdown",
   "metadata": {},
   "source": [
    "## Basics\n",
    "\n",
    "Jove has text-based commands that can be invoked in its Read-Eval-Print Loop (REPL). We will describe those first. We will then describe animation facilities included within Jove."
   ]
  },
  {
   "cell_type": "markdown",
   "metadata": {},
   "source": [
    "###  Jove Notebook Organization\n",
    "\n",
    "Each Jove notebook has a collection of path settings and a collection of file includes. We set it up so that Jove notebooks can run on Colab or on one's own laptop. These methods are subject to change; for now, we use these methods quite uniformly across all notebooks. The \"Common Imports\" area below is where we include files specific to the things we want to get done. These imports will be explained as we illustrate various examples."
   ]
  },
  {
   "cell_type": "markdown",
   "metadata": {},
   "source": [
    "### The how and why of importing\n",
    "We import just what is necessary. When we import a Jove file such as \"jove.LangDef\" above, \n",
    "a bunch of \"help(fn)\" commands are advertised. This is to encourage the user to seek help\n",
    "with respect to any of the functions that now become \"available.\""
   ]
  },
  {
   "cell_type": "markdown",
   "metadata": {},
   "source": [
    "# Detailed Function Summary and Usage via Examples\n",
    "\n",
    "We will present examples that illustrate the cool features within Jove. We will leave it to the reader to read our forthcoming paper sigcse21jove.pdf for fuller explanations (available upon request later in Fall 2020). First we walk through some cool usages of Jove features put together to achieve interesting end goals. We then list all the interesting functions one by one."
   ]
  },
  {
   "cell_type": "markdown",
   "metadata": {},
   "source": [
    "## Functions through examples\n",
    "\n",
    "Please follow along the examples within SIGCSE.ipynb (available upon request later in Fall 2020; selective details to be included in our lessons) to understand many of Jove's functions and how they are put together. In here, you'll see how the state names tell you what Jove did in order to arrive at that state. For example, if you performed intersection or union, you'll see the compound states being separated by underscores.\n"
   ]
  },
  {
   "cell_type": "markdown",
   "metadata": {},
   "source": [
    "## What About All the Machine Types?\n",
    "\n",
    "The best place to study all of Jove's functions and machine types is from Appendix B of our book. This lists functions per chapter.\n",
    "\n",
    "Another place from which to learn Jove's per-chapter functions is to go visit\n",
    "\n",
    "For_The_Public/Recommended/ and do things in the following order:\n",
    "\n",
    "* GentleTour\n",
    "  - A really good overview of Jove's features\n",
    "  \n",
    "* FollowsBook\n",
    "  - A really good overview of Jove per chapter\n",
    "  \n",
    "* Advanced\n",
    "  - \"The works\" -- shows you many advanced constructions"
   ]
  }
 ],
 "metadata": {
  "kernelspec": {
   "display_name": "Python 3",
   "language": "python",
   "name": "python3"
  },
  "language_info": {
   "codemirror_mode": {
    "name": "ipython",
    "version": 3
   },
   "file_extension": ".py",
   "mimetype": "text/x-python",
   "name": "python",
   "nbconvert_exporter": "python",
   "pygments_lexer": "ipython3",
   "version": "3.7.3"
  }
 },
 "nbformat": 4,
 "nbformat_minor": 2
}

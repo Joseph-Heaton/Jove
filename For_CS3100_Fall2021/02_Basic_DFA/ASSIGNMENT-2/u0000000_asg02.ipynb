{
 "cells": [
  {
   "cell_type": "code",
   "execution_count": null,
   "metadata": {
    "id": "2mGV-Aw3qw8I"
   },
   "outputs": [],
   "source": [
    "#~~~~~~~~~~~~~~~~~~~~~~~~~~~~~~~~~~~~~~~~~~~~~~~~~~~~~~~\n",
    "import sys\n",
    "\n",
    "# -- Detect if in Own Install or in Colab\n",
    "try:\n",
    "    import google.colab\n",
    "    OWN_INSTALL = False\n",
    "except:\n",
    "    OWN_INSTALL = True\n",
    "    \n",
    "if OWN_INSTALL:\n",
    "    \n",
    "  #---- Leave these definitions ON if running on laptop\n",
    "  #---- Else turn OFF by putting them between ''' ... '''\n",
    "\n",
    "  sys.path[0:0] = ['../../../../..',  '../../../../../3rdparty',  \n",
    "                   '../../../..',  '../../../../3rdparty',  \n",
    "                   '../../..',     '../../../3rdparty', \n",
    "                   '../..',        '../../3rdparty',\n",
    "                   '..',           '../3rdparty' ]\n",
    "\n",
    "else: # In colab\n",
    "  ! if [ ! -d Jove ]; then git clone https://github.com/ganeshutah/Jove Jove; fi\n",
    "  sys.path.append('./Jove')\n",
    "  sys.path.append('./Jove/jove')\n",
    "\n",
    "# -- common imports --\n",
    " \n",
    "from jove.LangDef   import *  #-- mainly for nthnumeric\n",
    "from jove.Def_md2mc import *  #-- for md2mc\n",
    "from jove.Def_DFA   import *  #-- for all DFA functions\n",
    "from jove.DotBashers import * #-- for dotObj_dfa\n",
    "\n",
    "from jove.Def_NFA import *\n",
    "from jove.Def_RE2NFA import *\n",
    "#~~~~~~~~~~~~~~~~~~~~~~~~~~~~~~~~~~~~~~~~~~~~~~~~~~~~~~~"
   ]
  },
  {
   "cell_type": "code",
   "execution_count": null,
   "metadata": {},
   "outputs": [],
   "source": [
    "min_dfa\n"
   ]
  },
  {
   "cell_type": "markdown",
   "metadata": {
    "id": "IDgJe_AQcEbe"
   },
   "source": [
    "## Question 1:"
   ]
  },
  {
   "cell_type": "markdown",
   "metadata": {
    "id": "lcubR90fcPyi"
   },
   "source": [
    "This problem is based on Problem 7, Page 26 of our textbook.\n",
    "    \n",
    "A language called $L_6$ is defined as follows:\n",
    "    \n",
    "$$ L_6 = \\{ 0^i 1^j \\;:\\; i==j \\}$$  \n",
    "    \n",
    "Consider a language $L_8$ \n",
    "    \n",
    "$$ L_8 = \\{ 0^i 1^j \\;:\\; i \\neq j \\}$$\n",
    "\n",
    "Question: Is $L_8$ the complement of $L_6$?"
   ]
  },
  {
   "cell_type": "markdown",
   "metadata": {
    "id": "F40n0MopcVbD"
   },
   "source": [
    "###Part a: \n",
    "Define $L_6$ in Jove for $\\Sigma=\\{0,1\\}$ and the universe being star(\\{0,1\\}, 6). This universe immediately helps you compute the length of the longest strings in it. (What is it?). Use this information in defining $L_6$ below."
   ]
  },
  {
   "cell_type": "code",
   "execution_count": null,
   "metadata": {
    "id": "636WgSYmqw8J"
   },
   "outputs": [],
   "source": [
    "Sigma = {'0','1'}\n",
    "\n",
    "# Define L6 as follows: \n",
    "# L6 = { \"0\"* i + \"1\" * j for i in range(...fill...) for j in range(...) if ...as necessary ... }\n",
    "\n",
    "L6 =  ...\n",
    "\n",
    "L6 # to print L6"
   ]
  },
  {
   "cell_type": "markdown",
   "metadata": {
    "id": "uwZnm8CJqw8J"
   },
   "source": [
    "\n",
    "###Part b: \n",
    "In the same manner, define $L_8$ below.\n"
   ]
  },
  {
   "cell_type": "code",
   "execution_count": null,
   "metadata": {
    "id": "dm7ANwbxqw8K"
   },
   "outputs": [],
   "source": [
    "L8 = \"Your Definition Here, as above\"\n",
    "\n",
    "\n",
    "L8"
   ]
  },
  {
   "cell_type": "markdown",
   "metadata": {
    "id": "XMvHrYUfqw8K"
   },
   "source": [
    "\n",
    "###Part c: \n",
    "We know that if indeed $L_8$ is $L_6$'s complement, then $L_6 \\cup L_8$ must equal star(\\{0,1\\}, 6). Write Python3 code that calls the suitable set of Jove functions to check whether this is true. The list of Jove functions you can call were printed in the \"help(fnname)\" lines when you loaded this file.\n"
   ]
  },
  {
   "cell_type": "code",
   "execution_count": null,
   "metadata": {},
   "outputs": [],
   "source": [
    "help(lstar)"
   ]
  },
  {
   "cell_type": "code",
   "execution_count": null,
   "metadata": {
    "id": "2K0NXgefqw8K"
   },
   "outputs": [],
   "source": [
    "# \"YOUR CODE TO CHECK WHETHER THE ABOVE IDENTITY HOLDS.\"\n",
    "\n",
    "# Universe = lstar({'0','1'}, 6)\n",
    "\n",
    "Universe = lstar({'0','1'}, 6)\n",
    "\n",
    "Union = ...Perform the union of L6 and L8...\n",
    "\n",
    "Union == Universe # Check this"
   ]
  },
  {
   "cell_type": "markdown",
   "metadata": {},
   "source": [
    "**ANSWER:** \n",
    "\n",
    "My observation is that the equality \n",
    "\n",
    "* Holds (keep one)\n",
    "\n",
    "* Does not hold (keep one)"
   ]
  },
  {
   "cell_type": "markdown",
   "metadata": {
    "id": "GF56-gSpqw8K"
   },
   "source": [
    "\n",
    "\n",
    "###Part d: \n",
    "If the above identity is not true, we are interested in finding out which strings are missing. (This is similar to what Question 7(d) of Page 26 is asking you.) Compute the missing strings and print them out. A template for your answers is given below. Fill that template in your solution. Define LangMissed as the set of all strings missed. Then print that.\n",
    "    \n"
   ]
  },
  {
   "cell_type": "code",
   "execution_count": null,
   "metadata": {
    "id": "r2fUrdTMqw8L"
   },
   "outputs": [],
   "source": [
    "\"YOUR PYTHON-3 CODE CALLING JOVE FUNCTIONS HERE. USE MULTIPLE LINES.\"\n",
    "\n",
    "# LangMissed = \"THE SET OF ALL STRINGS MISSED.\"\n",
    "\n",
    "LangMissed = ...express it suitably ...\n",
    "\n",
    "print(\"The strings missed are: \", LangMissed)"
   ]
  },
  {
   "cell_type": "markdown",
   "metadata": {
    "id": "x6981FH-qw8L"
   },
   "source": [
    "###Part e: \n",
    "Provide a fully mathematical expression (not Jove code) that defines a language which captures **ALL** the missing strings. Use the Jupyter markdown syntax. \n",
    "\n",
    "You may use $\\Sigma$ in your definition, knowing that $\\Sigma = \\{0,1\\}$\n",
    "\n",
    "Hint: You will have to think of a general pattern of strings that are missed.\n",
    "\n",
    "Express this general pattern using \n",
    "\n",
    " a multi-way concatenation, i.e. something of the form $(L_1\\; L_2 \\; L_3 \\; L_4 \\; L_5)$\n",
    "\n",
    "in which star, i.e. $\\Sigma^*$ and simple languages such as \\{0\\) and \\{1\\} are employed\n"
   ]
  },
  {
   "cell_type": "markdown",
   "metadata": {
    "id": "KxFf9BUNcxAV"
   },
   "source": [
    "- Answer:\n",
    "  \n",
    "...  A mathematical expression here...\n",
    "\n",
    "\n",
    "Answer = \"A LATEX EXPRESSION THAT MARKDOWN TYPE-SETS NICELY AS A MATH EQUATION \""
   ]
  },
  {
   "cell_type": "markdown",
   "metadata": {
    "id": "p-yLCjKKdX4v"
   },
   "source": [
    "## Question 2:"
   ]
  },
  {
   "cell_type": "markdown",
   "metadata": {
    "id": "pTPlSX1Xeu2_"
   },
   "source": [
    "Using Jove's markdown, define a DFA for the language of strings over alphabet $\\{0,1\\}$ that accepts all strings w such that\n",
    "\n",
    "* w is either $\\varepsilon$\n",
    "\n",
    "OR\n",
    "\n",
    "* w has one pair of non-overlapping occurrencs of $010$s. This is the English description which (by nature) is not precise-enough; tbus go by the mathematical description below:\n",
    "\n",
    "More precisely:\n",
    "\n",
    "w  = $ \\{\\varepsilon\\} \\cup \\; (\\{0,1\\}^* \\{010\\} \\{0,1\\}^* \\{010\\} \\{0,1\\}^* )$\n",
    "\n",
    "The second part of $w$ is\n",
    "\n",
    "[...something arbitrary...] [first-010] [...something arbitrary...] [second-010] [...something arbitary...]\n",
    "\n",
    "* Example: 01010 does not qualify because even though it has an even number of 010's in it, they are not non-overlapping occurrences (the second '0' is shared between the first 010 and the later 010.\n",
    "\n",
    "* You must THOROUGHLY documnt your construction. See how to do this, as illustrated below, and also see 00_Overview_Of_CS3100 where you are told how to document (and test) DFA.\n",
    "\n",
    "Call this DFA by the name \"Even010\""
   ]
  },
  {
   "cell_type": "code",
   "execution_count": null,
   "metadata": {
    "id": "wFevIiOMewRD"
   },
   "outputs": [],
   "source": [
    "Even010 = md2mc('''\n",
    "DFA \n",
    "\n",
    "!! Put comments describing overall plan here. Look at 00_Overview_Of_CS3100 for commenting conventions\n",
    "\n",
    "!!  \n",
    " \n",
    "!! ... After key lines of the DFA, put short comments specific to the line ...\n",
    "!! ... Also, group lines for each state in nice bunches ...\n",
    " \n",
    " \n",
    "''')"
   ]
  },
  {
   "cell_type": "code",
   "execution_count": null,
   "metadata": {
    "id": "nUj_VMZgey7f"
   },
   "outputs": [],
   "source": [
    "dotObj_dfa(Even010)"
   ]
  },
  {
   "cell_type": "markdown",
   "metadata": {
    "id": "EIz5YWXVh3bh"
   },
   "source": [
    "## Question 3:"
   ]
  },
  {
   "cell_type": "markdown",
   "metadata": {
    "id": "DFpG_TxDiDnn"
   },
   "source": [
    "Using Jove's markdown, define a DFA for the language of strings over alphabet $\\{0,1\\}$ that ends in a $010$, calling it Ends010. Then obtain the intersection of Even010 and Ends010 DFA using intersect_dfa\n",
    "\n",
    "* Use the call intersect_dfa(Even010, Ends010) (not the arguments listed the other way)"
   ]
  },
  {
   "cell_type": "code",
   "execution_count": null,
   "metadata": {
    "id": "hGmeVbJ-jv4N"
   },
   "outputs": [],
   "source": [
    "Ends010 =  md2mc('''\n",
    "DFA\n",
    "\n",
    "!! Again, follow the commenting plans and write the \"DFA code\" in neat bunches\n",
    " \n",
    "\n",
    "''')"
   ]
  },
  {
   "cell_type": "code",
   "execution_count": null,
   "metadata": {
    "id": "NfaJEGwKjx3Q"
   },
   "outputs": [],
   "source": [
    "# Let's see the \"Ends010\" machine\n",
    "dotObj_dfa(Ends010, FuseEdges=True)"
   ]
  },
  {
   "cell_type": "markdown",
   "metadata": {},
   "source": [
    "Now, obtain the intersection of Even010 (the DFA obtained in Question 2) and Ends010 using the function *intersect_dfa*. Obtain a description of this algorithm first."
   ]
  },
  {
   "cell_type": "code",
   "execution_count": null,
   "metadata": {
    "id": "-wPCk85IkBkS"
   },
   "outputs": [],
   "source": [
    "# Use this method to get the intersection of the two DFAs\n",
    "help(intersect_dfa)"
   ]
  },
  {
   "cell_type": "markdown",
   "metadata": {},
   "source": [
    "Now, go ahead and obtain the intersection"
   ]
  },
  {
   "cell_type": "code",
   "execution_count": null,
   "metadata": {},
   "outputs": [],
   "source": [
    "# FEED Even010 as the first argument and Ends010 as the second argument\n",
    "\n",
    "Even010_Ends010 = ...obtain the intersection asked ... \n",
    "\n",
    "dotObj_dfa(Even010_Ends010) # Let's look at the resulting DFA"
   ]
  },
  {
   "cell_type": "markdown",
   "metadata": {},
   "source": [
    "Now, minimize the intersection machine using another Jove function called *min_dfa*. Obtain its documentation first. "
   ]
  },
  {
   "cell_type": "code",
   "execution_count": null,
   "metadata": {},
   "outputs": [],
   "source": [
    "help(min_dfa)"
   ]
  },
  {
   "cell_type": "markdown",
   "metadata": {},
   "source": [
    "Now minimize Even010_Ends010, calling it min_Even010_Ends010 and look at the DFA also"
   ]
  },
  {
   "cell_type": "code",
   "execution_count": null,
   "metadata": {},
   "outputs": [],
   "source": [
    "min_Even010_Ends010 =  ... # ... Use min_dfa - help(min_dfa) for guidance ...\n",
    "dotObj_dfa(min_Even010_Ends010)"
   ]
  },
  {
   "cell_type": "markdown",
   "metadata": {},
   "source": [
    "This is the end of this question. You'll be analyzing min_Even010_Ends010 in the following question."
   ]
  },
  {
   "cell_type": "markdown",
   "metadata": {
    "id": "EUqUhge-kM4A"
   },
   "source": [
    "## Question 4:"
   ]
  },
  {
   "cell_type": "markdown",
   "metadata": {
    "id": "pTh3xAdTlDlX"
   },
   "source": [
    "Find out which states were eliminated in the Minimization Process. Explain why it was OK to leave these states out. Test the constructed machine using the template given to you. Finally use the Python \"filter\" function that filters out the accepted strings.\n",
    "    "
   ]
  },
  {
   "cell_type": "markdown",
   "metadata": {
    "id": "GbC9BfoHlI9h"
   },
   "source": [
    "### Write Python code to find out which states were eliminated:"
   ]
  },
  {
   "cell_type": "markdown",
   "metadata": {
    "id": "a8fbUtbzlMf-"
   },
   "source": [
    "Hint: You can obtain the components of a DFA D by using the notation D[\"Q\"] where\n",
    "\n",
    "D is a DFA created using the md2mc command. Basically, \"D\" is a dictionary and D[\"Q\"] obtains the value of the key at \"Q\". \n",
    "\n",
    "Just try running a cell containing Even010_Ends010[\"Q\"] \n",
    "and you will see the states of this DFA being listed. Then you\n",
    "can do this for min_Even010_Ends010 also"
   ]
  },
  {
   "cell_type": "markdown",
   "metadata": {
    "id": "VCr5BDfulhiV"
   },
   "source": [
    "### Explain why it is OK to leave these states out. \n",
    "\n",
    "Here is how you must form your answer in the \"Answer\"\" field below that you must submit:\n",
    "\n",
    "* Find one state (say S1) in Even010_Ends010 that is found missing in min_Even010_Ends010.\n",
    "\n",
    "* Now you want to argue that min_Even010_Ends010 is still correct. Proceed as follows.\n",
    "\n",
    "* Find the shortest string, w,  in numeric order that reached S1\n",
    "\n",
    "* Find the state that w reaches in min_Even010_Ends010. Call that S2\n",
    "\n",
    "* Then it must be the case that S1 and S2 are equivalent. \n",
    "\n",
    "* Confirm that S1, upon some symbol c in Sigma, reaches state S1prime and S2, upon the same symbol c in Sigma, reaches state S2prime\n",
    "\n",
    "* Now, it must be the case that S1prime is an accepting state if and only if S2 prime is\n",
    "\n",
    "* Do this for every c in Sigma"
   ]
  },
  {
   "cell_type": "markdown",
   "metadata": {
    "id": "TWSgWzxDlrU7"
   },
   "source": [
    "**Answer:**  Answer by editing these lines as per your machine:\n",
    "\n",
    "* I find that S1 is in Even010_Ends010 but is missing in min_Even010_Ends010 (edit as necessary)\n",
    "\n",
    "* I find that the shortest string, w, reaching S1 is this: ...edit...\n",
    "\n",
    "* Now I find that w reaches state S2 in min_Even010_Ends010 : ...edit...\n",
    "\n",
    "* Now upon 0, S1 goes to state S1prime0 while S2 goes to S2prime0, and they are both accepting/non-accepting: ...edit...\n",
    "\n",
    "* Upon a 1, S1 goes to S1prime1 while S2 goes to S2prime1 and they are both accepting/non-accepting: ...edit...\n",
    "\n",
    "* Thus I have checked to some degree that the minimized machine is OK\n",
    "\n"
   ]
  },
  {
   "cell_type": "markdown",
   "metadata": {
    "id": "mSfJPMBVl3bt"
   },
   "source": [
    "### Testing the machine\n",
    "\n",
    "As the final part of this question, test your machine min_Even010_Ends010 and learn how to list strings accepted / rejected, and summarize that it looks OK in \"Answer\" beow"
   ]
  },
  {
   "cell_type": "code",
   "execution_count": null,
   "metadata": {
    "id": "o2y9VAMal6sQ"
   },
   "outputs": [],
   "source": [
    "help(nthnumeric)"
   ]
  },
  {
   "cell_type": "markdown",
   "metadata": {
    "id": "8vfvgLCvl_8z"
   },
   "source": [
    "### Test the constructed machine the \"direct\" way"
   ]
  },
  {
   "cell_type": "code",
   "execution_count": null,
   "metadata": {
    "id": "Eie3zLNXmF0f"
   },
   "outputs": [],
   "source": [
    "TestList = [ nthnumeric(i, ['0','1']) for i in range(256) ]"
   ]
  },
  {
   "cell_type": "code",
   "execution_count": null,
   "metadata": {
    "id": "IC4u_cJimGWt"
   },
   "outputs": [],
   "source": [
    "TestList"
   ]
  },
  {
   "cell_type": "code",
   "execution_count": null,
   "metadata": {
    "id": "y282vPEQmHll"
   },
   "outputs": [],
   "source": [
    "help(accepts_dfa)"
   ]
  },
  {
   "cell_type": "code",
   "execution_count": null,
   "metadata": {
    "id": "11MOQc65mHnt"
   },
   "outputs": [],
   "source": [
    "for test in TestList:\n",
    "    if accepts_dfa(min_Even010_Ends010, test):\n",
    "        print(\" min_Even010_Ends010 : accepts \", test)\n",
    "    else:\n",
    "        print(\" min_Even010_Ends010 : does not accept \", test)"
   ]
  },
  {
   "cell_type": "markdown",
   "metadata": {
    "id": "D7sH_dkkmNFG"
   },
   "source": [
    "### Use Python's \"filter\" function to filter out the accepted strings directly"
   ]
  },
  {
   "cell_type": "code",
   "execution_count": null,
   "metadata": {
    "id": "jaMJARoNmQgU"
   },
   "outputs": [],
   "source": [
    "list(filter(lambda x: accepts_dfa(min_Even010_Ends010, x), TestList))"
   ]
  },
  {
   "cell_type": "markdown",
   "metadata": {},
   "source": [
    "**Write a clear description of how the above command works, in neat bullets**"
   ]
  },
  {
   "cell_type": "markdown",
   "metadata": {},
   "source": [
    "The above \"filter lambda\" construct works as follows\n",
    "\n",
    "* The accepts_dfa call does this ... explain in one sentence or two ..\n",
    "\n",
    "* The lambda x does this ... explain the role of the lambda ...\n",
    "\n",
    "* The filter call does this ... explain what filter does ..."
   ]
  },
  {
   "cell_type": "markdown",
   "metadata": {
    "id": "8prIaiclmUN0"
   },
   "source": [
    "### Doubled the testing range; now finding at least ten strings !!"
   ]
  },
  {
   "cell_type": "code",
   "execution_count": null,
   "metadata": {
    "id": "CXhOiwGvmYmX"
   },
   "outputs": [],
   "source": [
    "# ...Your doubled list of filtered items here...\n",
    "\n",
    "TestList = ...redefine to double the range of testing ...\n",
    "\n",
    "list(filter(lambda x: accepts_dfa(min_Even010_Ends010, x), TestList))"
   ]
  },
  {
   "cell_type": "markdown",
   "metadata": {},
   "source": [
    "**Answer:**\n",
    "\n",
    "By looking at the test results, I find that the tests confirm that min_Even010_Ends010 looks OK ... edit as necessary, filling in some test strings and saying why they are being accepted correctly, or why they are being rejected correctly...\n",
    "\n",
    "* For the list of strings printed for the expanded list, pick the first two in numeric order that is printed out as accepted\n",
    "\n",
    "  - My first numeric-order string accepted is : ...\n",
    "  \n",
    "  - My second numeric-order string accepted is : ...\n",
    "\n",
    "* Explain why these 2 strings are correct\n",
    "\n",
    "* Pick the first two numeric order string left out\n",
    "\n",
    "  - My first numeric-order string left out is : ... and this is why it is left out ...\n",
    "  \n",
    "  - My second numeric-order string left out is : ... and this is why it is left out ...\n",
    "\n"
   ]
  },
  {
   "cell_type": "markdown",
   "metadata": {
    "id": "f2-TQO36qw8M"
   },
   "source": [
    "# END"
   ]
  }
 ],
 "metadata": {
  "colab": {
   "name": "u0000000_asg02.ipynb",
   "provenance": []
  },
  "kernelspec": {
   "display_name": "Python 3",
   "language": "python",
   "name": "python3"
  },
  "language_info": {
   "codemirror_mode": {
    "name": "ipython",
    "version": 3
   },
   "file_extension": ".py",
   "mimetype": "text/x-python",
   "name": "python",
   "nbconvert_exporter": "python",
   "pygments_lexer": "ipython3",
   "version": "3.8.5"
  }
 },
 "nbformat": 4,
 "nbformat_minor": 1
}

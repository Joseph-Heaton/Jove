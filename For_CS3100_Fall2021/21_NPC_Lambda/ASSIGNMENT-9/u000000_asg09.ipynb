{
  "nbformat": 4,
  "nbformat_minor": 0,
  "metadata": {
    "kernelspec": {
      "display_name": "Python 3",
      "language": "python",
      "name": "python3"
    },
    "language_info": {
      "codemirror_mode": {
        "name": "ipython",
        "version": 3
      },
      "file_extension": ".py",
      "mimetype": "text/x-python",
      "name": "python",
      "nbconvert_exporter": "python",
      "pygments_lexer": "ipython3",
      "version": "3.7.3"
    },
    "toc": {
      "colors": {
        "hover_highlight": "#DAA520",
        "running_highlight": "#FF0000",
        "selected_highlight": "#FFD700"
      },
      "moveMenuLeft": true,
      "nav_menu": {
        "height": "121px",
        "width": "252px"
      },
      "navigate_menu": true,
      "number_sections": true,
      "sideBar": true,
      "threshold": 4,
      "toc_cell": false,
      "toc_section_display": "block",
      "toc_window_display": false,
      "widenNotebook": false
    },
    "colab": {
      "name": "u1234567_asg11_Prob1234.ipynb",
      "provenance": []
    }
  },
  "cells": [
    {
      "cell_type": "markdown",
      "metadata": {
        "id": "nBIDf2Lx63Ck"
      },
      "source": [
        "# Question 1 (25 points)\n",
        " "
      ]
    },
    {
      "cell_type": "markdown",
      "metadata": {
        "id": "OL9i0QLF63Ck"
      },
      "source": [
        "## 1(a): "
      ]
    },
    {
      "cell_type": "markdown",
      "metadata": {
        "id": "Rj5sSV6b63Ck"
      },
      "source": [
        "## 1(b): "
      ]
    },
    {
      "cell_type": "markdown",
      "metadata": {
        "id": "aBp6YZWn63Cl"
      },
      "source": [
        "## 1(c): "
      ]
    },
    {
      "cell_type": "markdown",
      "metadata": {
        "id": "gJmo9lUV63Cl"
      },
      "source": [
        "## 1(d): "
      ]
    },
    {
      "cell_type": "markdown",
      "metadata": {
        "id": "nzLUz-9163Cl"
      },
      "source": [
        "## 1(e): "
      ]
    },
    {
      "cell_type": "markdown",
      "metadata": {
        "id": "FeK3dWhD63Cl"
      },
      "source": [
        "# Question 2 (25 points):\n",
        " "
      ]
    },
    {
      "cell_type": "markdown",
      "metadata": {
        "id": "idTt_FB-63Cl"
      },
      "source": [
        "## 1(a): "
      ]
    },
    {
      "cell_type": "markdown",
      "metadata": {
        "id": "rjdZY36W63Cl"
      },
      "source": [
        "## 1(b): "
      ]
    },
    {
      "cell_type": "markdown",
      "metadata": {
        "id": "_FMLKWJW63Cl"
      },
      "source": [
        "## 1(c): "
      ]
    },
    {
      "cell_type": "markdown",
      "metadata": {
        "id": "PcEfG6u-63Cl"
      },
      "source": [
        "## 1(d): \n",
        "\n",
        "* ...\n",
        "* ..."
      ]
    },
    {
      "cell_type": "markdown",
      "metadata": {
        "id": "r3XyxXbw63Cm"
      },
      "source": [
        "## 1(e): "
      ]
    },
    {
      "cell_type": "markdown",
      "metadata": {
        "id": "pDTTPRPf63Cm"
      },
      "source": [
        "# Question 3 (25 points)\n",
        " "
      ]
    },
    {
      "cell_type": "markdown",
      "metadata": {
        "id": "WA_0roP-63Cm"
      },
      "source": [
        "## 1(a): "
      ]
    },
    {
      "cell_type": "markdown",
      "metadata": {
        "id": "kGCCbh_063Cm"
      },
      "source": [
        "## 1(b): "
      ]
    },
    {
      "cell_type": "markdown",
      "metadata": {
        "id": "I_auSB1J63Cn"
      },
      "source": [
        "## 1(c): "
      ]
    },
    {
      "cell_type": "code",
      "metadata": {
        "id": "IsW5UxTW63Cn"
      },
      "source": [
        ""
      ],
      "execution_count": null,
      "outputs": []
    },
    {
      "cell_type": "markdown",
      "metadata": {
        "id": "KyMQg_Zk63Cn"
      },
      "source": [
        "# Question 4 (25 points):\n",
        " "
      ]
    },
    {
      "cell_type": "markdown",
      "metadata": {
        "id": "3Wyy46rj63Cn"
      },
      "source": [
        "## Definitions from CH18_Church_Turing.ipynb below"
      ]
    },
    {
      "cell_type": "code",
      "metadata": {
        "id": "Dg1YUAfp63Co"
      },
      "source": [
        "##--- BRING NECESSARY DEFINITIONS FROM CH18_Church_Turing below ---"
      ],
      "execution_count": null,
      "outputs": []
    },
    {
      "cell_type": "markdown",
      "metadata": {
        "id": "_mPzZqyU63Co"
      },
      "source": [
        "## Definitions of pregcd and gcd, and your tests below"
      ]
    },
    {
      "cell_type": "code",
      "metadata": {
        "id": "OLGA39wj63Co"
      },
      "source": [
        ""
      ],
      "execution_count": null,
      "outputs": []
    },
    {
      "cell_type": "markdown",
      "metadata": {
        "id": "r-cfxE4d63Co"
      },
      "source": [
        "## Answers to your questions below"
      ]
    },
    {
      "cell_type": "markdown",
      "metadata": {
        "id": "LnOgxwkz63Co"
      },
      "source": [
        "## 1(a): "
      ]
    },
    {
      "cell_type": "markdown",
      "metadata": {
        "id": "8Z9_JW3I63Co"
      },
      "source": [
        "## 1(b): "
      ]
    },
    {
      "cell_type": "markdown",
      "metadata": {
        "id": "VtJIOafW63Co"
      },
      "source": [
        "## 1(c): "
      ]
    },
    {
      "cell_type": "markdown",
      "metadata": {
        "id": "vg50UsY-63Cp"
      },
      "source": [
        "# END\n"
      ]
    }
  ]
}
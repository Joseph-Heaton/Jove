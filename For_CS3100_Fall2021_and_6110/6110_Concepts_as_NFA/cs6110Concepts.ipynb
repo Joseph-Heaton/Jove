{
  "cells": [
    {
      "cell_type": "markdown",
      "metadata": {
        "run_control": {
          "frozen": false,
          "read_only": false
        },
        "id": "bvex1zOjh5cO"
      },
      "source": [
        "# CS 6110 Spring 22's concepts and resources"
      ]
    },
    {
      "cell_type": "code",
      "execution_count": 1,
      "metadata": {
        "run_control": {
          "frozen": false,
          "read_only": false
        },
        "id": "Lp2S13Mph5cV",
        "outputId": "50320c2a-5187-4d0f-b881-cf51534574a4",
        "colab": {
          "base_uri": "https://localhost:8080/"
        }
      },
      "outputs": [
        {
          "output_type": "stream",
          "name": "stdout",
          "text": [
            "Cloning into 'Jove'...\n",
            "remote: Enumerating objects: 5492, done.\u001b[K\n",
            "remote: Counting objects: 100% (858/858), done.\u001b[K\n",
            "remote: Compressing objects: 100% (605/605), done.\u001b[K\n",
            "remote: Total 5492 (delta 448), reused 618 (delta 224), pack-reused 4634\u001b[K\n",
            "Receiving objects: 100% (5492/5492), 8.31 MiB | 20.80 MiB/s, done.\n",
            "Resolving deltas: 100% (3453/3453), done.\n",
            "You may use any of these help commands:\n",
            "help(ResetStNum)\n",
            "help(NxtStateStr)\n",
            "\n",
            "You may use any of these help commands:\n",
            "help(md2mc)\n",
            ".. and if you want to dig more, then ..\n",
            "help(default_line_attr)\n",
            "help(length_ok_input_items)\n",
            "help(union_line_attr_list_fld)\n",
            "help(extend_rsltdict)\n",
            "help(form_delta)\n",
            "help(get_machine_components)\n",
            "\n",
            "You may use any of these help commands:\n",
            "help(mkp_dfa)\n",
            "help(mk_dfa)\n",
            "help(totalize_dfa)\n",
            "help(addtosigma_delta)\n",
            "help(step_dfa)\n",
            "help(run_dfa)\n",
            "help(accepts_dfa)\n",
            "help(comp_dfa)\n",
            "help(union_dfa)\n",
            "help(intersect_dfa)\n",
            "help(pruneUnreach)\n",
            "help(iso_dfa)\n",
            "help(langeq_dfa)\n",
            "help(same_status)\n",
            "help(h_langeq_dfa)\n",
            "help(fixptDist)\n",
            "help(min_dfa)\n",
            "help(pairFR)\n",
            "help(state_combos)\n",
            "help(sepFinNonFin)\n",
            "help(bash_eql_classes)\n",
            "help(listminus)\n",
            "help(bash_1)\n",
            "help(mk_rep_eqc)\n",
            "help(F_of)\n",
            "help(rep_of_s)\n",
            "help(q0_of)\n",
            "help(Delta_of)\n",
            "help(mk_state_eqc_name)\n",
            "\n",
            "You may use any of these help commands:\n",
            "help(mk_nfa)\n",
            "help(totalize_nfa)\n",
            "help(step_nfa)\n",
            "help(run_nfa)\n",
            "help(ec_step_nfa)\n",
            "help(Eclosure)\n",
            "help(Echelp)\n",
            "help(accepts_nfa)\n",
            "help(nfa2dfa)\n",
            "help(n2d)\n",
            "help(inSets)\n",
            "help(rev_dfa)\n",
            "help(min_dfa_brz)\n",
            "\n",
            " \"help(AnimateNFA)\" gives you info on how to use animations with NFA \n"
          ]
        }
      ],
      "source": [
        "#~~~~~~~~~~~~~~~~~~~~~~~~~~~~~~~~~~~~~~~~~~~~~~~~~~~~~~~\n",
        "import sys\n",
        "\n",
        "# -- Detect if in Own Install or in Colab\n",
        "try:\n",
        "    import google.colab\n",
        "    OWN_INSTALL = False\n",
        "except:\n",
        "    OWN_INSTALL = True\n",
        "    \n",
        "if OWN_INSTALL:\n",
        "    \n",
        "  #---- Leave these definitions ON if running on laptop\n",
        "  #---- Else turn OFF by putting them between ''' ... '''\n",
        "\n",
        "  sys.path[0:0] = ['../../../../..',  '../../../../../3rdparty',  \n",
        "                   '../../../..',  '../../../../3rdparty',  \n",
        "                   '../../..',     '../../../3rdparty', \n",
        "                   '../..',        '../../3rdparty',\n",
        "                   '..',           '../3rdparty' ]\n",
        "\n",
        "else: # In colab\n",
        "  ! if [ ! -d Jove ]; then git clone https://github.com/ganeshutah/Jove Jove; fi\n",
        "  sys.path.append('./Jove')\n",
        "  sys.path.append('./Jove/jove')\n",
        "\n",
        "# -- common imports --\n",
        "from jove.DotBashers import *\n",
        "from jove.Def_md2mc  import *\n",
        "from jove.Def_NFA    import *\n",
        "from jove.Def_DFA    import *\n",
        "from jove.AnimateNFA import *\n",
        "#~~~~~~~~~~~~~~~~~~~~~~~~~~~~~~~~~~~~~~~~~~~~~~~~~~~~~~~"
      ]
    },
    {
      "cell_type": "code",
      "execution_count": 6,
      "metadata": {
        "id": "6InSQMGZh5cZ"
      },
      "outputs": [],
      "source": [
        "cs6110s22 = md2mc('''NFA\n",
        " iProp : '' -> Bradley   !! Bradley covers propo logic pretty well\n",
        " iProp : '' -> CNFDNF    !! Gotta know CNF and DNF well\n",
        " iProp : '' -> kSAT      !! Pay attention to 2SAT and 3SAT\n",
        " kSAT : '' -> AutPP16    !! Explained in AutPP Chap 16\n",
        " kSAT : '' -> Yurichev   !! Lots of practice in Yurichev\n",
        " CNFDNF  : '' -> AutPP17 !! Find CNF/DNF via pbl\n",
        " iProp : '' -> NPC       !! Gotta know NPC reductions\n",
        " NPC : '' -> AutPP16     !! Well-explained in here\n",
        " CNFDNF : '' -> BDD      !! CNF/DNF learned well via BDD\n",
        " BDD : '' -> JovePbl     !! JovePbl shows you how\n",
        " JovePbl : '' -> Pbl     !! Pbl runs on Cobal\n",
        " iFOL : '' -> z3solver   !! Pip install z3-solver (not z3)\n",
        " iFOL : '' -> Yurichev   !! Then you are in Yurichev happy-land\n",
        " iFOL : '' -> iAlloy     !! FOL will be taught thru Alloy\n",
        " Yurichev: '' -> z3solver!! Requires z3-solver\n",
        " iFOL : '' -> Bradley    !! FOL in Bradley also\n",
        " iSpin : '' -> BenAri    !! Learn SPIN from BenAri\n",
        " iSpin : '' -> CEATL     !! CEATL is our first entry to SPIN\n",
        " iSpin : '' -> LTL       !! We will learn LTL\n",
        "LTL : '' -> CEATL        !! Well-introduced in CEATL \n",
        "LTL : '' -> Buchi        !! Need to know what Buchi automata are\n",
        "Buchi : '' -> CEATL      !! Explained here\n",
        "Buchi : '' -> AutPP      !! Gotta know NFA well; study from here\n",
        "iAlloy : '' -> CEATL     !! Alloy needs Relations - find it here\n",
        "''')"
      ]
    },
    {
      "cell_type": "code",
      "execution_count": 7,
      "metadata": {
        "id": "0gjhJzAOh5cb",
        "outputId": "9b9c3e10-a741-423f-d34c-fe39fdcbc215",
        "colab": {
          "base_uri": "https://localhost:8080/",
          "height": 1000
        }
      },
      "outputs": [
        {
          "output_type": "execute_result",
          "data": {
            "text/plain": [
              "<graphviz.dot.Digraph at 0x7f2f133fadd0>"
            ],
            "image/svg+xml": "<?xml version=\"1.0\" encoding=\"UTF-8\" standalone=\"no\"?>\n<!DOCTYPE svg PUBLIC \"-//W3C//DTD SVG 1.1//EN\"\n \"http://www.w3.org/Graphics/SVG/1.1/DTD/svg11.dtd\">\n<!-- Generated by graphviz version 2.40.1 (20161225.0304)\n -->\n<!-- Title: %3 Pages: 1 -->\n<svg width=\"660pt\" height=\"823pt\"\n viewBox=\"0.00 0.00 659.87 823.04\" xmlns=\"http://www.w3.org/2000/svg\" xmlns:xlink=\"http://www.w3.org/1999/xlink\">\n<g id=\"graph0\" class=\"graph\" transform=\"scale(1 1) rotate(0) translate(4 819.0433)\">\n<title>%3</title>\n<polygon fill=\"#ffffff\" stroke=\"transparent\" points=\"-4,4 -4,-819.0433 655.8662,-819.0433 655.8662,4 -4,4\"/>\n<!-- EMPTY -->\n<g id=\"node1\" class=\"node\">\n<title>EMPTY</title>\n</g>\n<!-- iSpin -->\n<g id=\"node6\" class=\"node\">\n<title>iSpin</title>\n<ellipse fill=\"none\" stroke=\"#000000\" cx=\"122.1972\" cy=\"-667.2964\" rx=\"30.5947\" ry=\"30.5947\"/>\n<text text-anchor=\"middle\" x=\"122.1972\" y=\"-663.5964\" font-family=\"Times,serif\" font-size=\"14.00\" fill=\"#000000\">iSpin</text>\n</g>\n<!-- EMPTY&#45;&gt;iSpin -->\n<g id=\"edge1\" class=\"edge\">\n<title>EMPTY&#45;&gt;iSpin</title>\n<path fill=\"none\" stroke=\"#000000\" d=\"M40.6394,-559.3492C55.4481,-578.9494 79.4071,-610.6608 97.5342,-634.6532\"/>\n<polygon fill=\"#000000\" stroke=\"#000000\" points=\"94.8573,-636.9163 103.6781,-642.7852 100.4425,-632.6965 94.8573,-636.9163\"/>\n</g>\n<!-- iAlloy -->\n<g id=\"node16\" class=\"node\">\n<title>iAlloy</title>\n<ellipse fill=\"none\" stroke=\"#000000\" cx=\"246.4902\" cy=\"-572.2964\" rx=\"34.394\" ry=\"34.394\"/>\n<text text-anchor=\"middle\" x=\"246.4902\" y=\"-568.5964\" font-family=\"Times,serif\" font-size=\"14.00\" fill=\"#000000\">iAlloy</text>\n</g>\n<!-- EMPTY&#45;&gt;iAlloy -->\n<g id=\"edge3\" class=\"edge\">\n<title>EMPTY&#45;&gt;iAlloy</title>\n<path fill=\"none\" stroke=\"#000000\" d=\"M54.3548,-545.1599C91.3783,-550.389 157.8834,-559.7819 202.1088,-566.0282\"/>\n<polygon fill=\"#000000\" stroke=\"#000000\" points=\"201.8978,-569.533 212.289,-567.466 202.8768,-562.6018 201.8978,-569.533\"/>\n</g>\n<!-- iProp -->\n<g id=\"node18\" class=\"node\">\n<title>iProp</title>\n<ellipse fill=\"none\" stroke=\"#000000\" cx=\"122.1972\" cy=\"-300.2964\" rx=\"31.3957\" ry=\"31.3957\"/>\n<text text-anchor=\"middle\" x=\"122.1972\" y=\"-296.5964\" font-family=\"Times,serif\" font-size=\"14.00\" fill=\"#000000\">iProp</text>\n</g>\n<!-- EMPTY&#45;&gt;iProp -->\n<g id=\"edge4\" class=\"edge\">\n<title>EMPTY&#45;&gt;iProp</title>\n<path fill=\"none\" stroke=\"#000000\" d=\"M34.1553,-523.1823C49.5425,-484.2281 86.07,-391.7556 106.919,-338.9747\"/>\n<polygon fill=\"#000000\" stroke=\"#000000\" points=\"110.2022,-340.1896 110.6208,-329.6031 103.6917,-337.6179 110.2022,-340.1896\"/>\n</g>\n<!-- iFOL -->\n<g id=\"node20\" class=\"node\">\n<title>iFOL</title>\n<ellipse fill=\"none\" stroke=\"#000000\" cx=\"122.1972\" cy=\"-510.2964\" rx=\"31.3957\" ry=\"31.3957\"/>\n<text text-anchor=\"middle\" x=\"122.1972\" y=\"-506.5964\" font-family=\"Times,serif\" font-size=\"14.00\" fill=\"#000000\">iFOL</text>\n</g>\n<!-- EMPTY&#45;&gt;iFOL -->\n<g id=\"edge2\" class=\"edge\">\n<title>EMPTY&#45;&gt;iFOL</title>\n<path fill=\"none\" stroke=\"#000000\" d=\"M54.0251,-532.496C62.919,-529.5998 72.9996,-526.3171 82.6287,-523.1815\"/>\n<polygon fill=\"#000000\" stroke=\"#000000\" points=\"84.0064,-526.4139 92.4312,-519.9894 81.8389,-519.7579 84.0064,-526.4139\"/>\n</g>\n<!-- kSAT -->\n<g id=\"node2\" class=\"node\">\n<title>kSAT</title>\n<ellipse fill=\"none\" stroke=\"#000000\" cx=\"246.4902\" cy=\"-300.2964\" rx=\"32.4942\" ry=\"32.4942\"/>\n<text text-anchor=\"middle\" x=\"246.4902\" y=\"-296.5964\" font-family=\"Times,serif\" font-size=\"14.00\" fill=\"#000000\">kSAT</text>\n</g>\n<!-- AutPP16 -->\n<g id=\"node3\" class=\"node\">\n<title>AutPP16</title>\n<ellipse fill=\"none\" stroke=\"#000000\" cx=\"385.0819\" cy=\"-276.2964\" rx=\"45.4919\" ry=\"45.4919\"/>\n<text text-anchor=\"middle\" x=\"385.0819\" y=\"-272.5964\" font-family=\"Times,serif\" font-size=\"14.00\" fill=\"#000000\">AutPP16</text>\n</g>\n<!-- kSAT&#45;&gt;AutPP16 -->\n<g id=\"edge10\" class=\"edge\">\n<title>kSAT&#45;&gt;AutPP16</title>\n<path fill=\"none\" stroke=\"#000000\" d=\"M278.6343,-294.73C293.9417,-292.0792 312.683,-288.8338 330.1507,-285.8089\"/>\n<polygon fill=\"#000000\" stroke=\"#000000\" points=\"330.9965,-289.2146 340.2526,-284.0595 329.802,-282.3173 330.9965,-289.2146\"/>\n<text text-anchor=\"middle\" x=\"317.0859\" y=\"-292.0964\" font-family=\"Times,serif\" font-size=\"14.00\" fill=\"#000000\">&#39;&#39; </text>\n</g>\n<!-- Yurichev -->\n<g id=\"node15\" class=\"node\">\n<title>Yurichev</title>\n<ellipse fill=\"none\" stroke=\"#000000\" cx=\"385.0819\" cy=\"-438.2964\" rx=\"44.393\" ry=\"44.393\"/>\n<text text-anchor=\"middle\" x=\"385.0819\" y=\"-434.5964\" font-family=\"Times,serif\" font-size=\"14.00\" fill=\"#000000\">Yurichev</text>\n</g>\n<!-- kSAT&#45;&gt;Yurichev -->\n<g id=\"edge9\" class=\"edge\">\n<title>kSAT&#45;&gt;Yurichev</title>\n<path fill=\"none\" stroke=\"#000000\" d=\"M271.3695,-321.2138C278.9604,-327.8097 287.2384,-335.2233 294.5859,-342.2964 312.7591,-359.7909 332.0446,-380.0003 348.1219,-397.3509\"/>\n<polygon fill=\"#000000\" stroke=\"#000000\" points=\"345.916,-400.1218 355.2675,-405.1016 351.0625,-395.377 345.916,-400.1218\"/>\n<text text-anchor=\"middle\" x=\"317.0859\" y=\"-372.0964\" font-family=\"Times,serif\" font-size=\"14.00\" fill=\"#000000\">&#39;&#39; </text>\n</g>\n<!-- LTL -->\n<g id=\"node4\" class=\"node\">\n<title>LTL</title>\n<ellipse fill=\"none\" stroke=\"#000000\" cx=\"246.4902\" cy=\"-784.2964\" rx=\"27.0966\" ry=\"27.0966\"/>\n<text text-anchor=\"middle\" x=\"246.4902\" y=\"-780.5964\" font-family=\"Times,serif\" font-size=\"14.00\" fill=\"#000000\">LTL</text>\n</g>\n<!-- CEATL -->\n<g id=\"node7\" class=\"node\">\n<title>CEATL</title>\n<ellipse fill=\"none\" stroke=\"#000000\" cx=\"517.8241\" cy=\"-674.2964\" rx=\"40.0939\" ry=\"40.0939\"/>\n<text text-anchor=\"middle\" x=\"517.8241\" y=\"-670.5964\" font-family=\"Times,serif\" font-size=\"14.00\" fill=\"#000000\">CEATL</text>\n</g>\n<!-- LTL&#45;&gt;CEATL -->\n<g id=\"edge25\" class=\"edge\">\n<title>LTL&#45;&gt;CEATL</title>\n<path fill=\"none\" stroke=\"#000000\" d=\"M267.8725,-767.1134C286.0165,-753.2788 313.2296,-734.2342 339.5859,-722.2964 381.0782,-703.503 431.4413,-690.7816 468.0338,-683.183\"/>\n<polygon fill=\"#000000\" stroke=\"#000000\" points=\"468.8623,-686.5865 477.9708,-681.1749 467.4757,-679.7252 468.8623,-686.5865\"/>\n<text text-anchor=\"middle\" x=\"385.0819\" y=\"-726.0964\" font-family=\"Times,serif\" font-size=\"14.00\" fill=\"#000000\">&#39;&#39; </text>\n</g>\n<!-- Buchi -->\n<g id=\"node11\" class=\"node\">\n<title>Buchi</title>\n<ellipse fill=\"none\" stroke=\"#000000\" cx=\"385.0819\" cy=\"-779.2964\" rx=\"33.2948\" ry=\"33.2948\"/>\n<text text-anchor=\"middle\" x=\"385.0819\" y=\"-775.5964\" font-family=\"Times,serif\" font-size=\"14.00\" fill=\"#000000\">Buchi</text>\n</g>\n<!-- LTL&#45;&gt;Buchi -->\n<g id=\"edge24\" class=\"edge\">\n<title>LTL&#45;&gt;Buchi</title>\n<path fill=\"none\" stroke=\"#000000\" d=\"M273.8715,-783.3086C293.2122,-782.6108 319.5307,-781.6613 341.7094,-780.8612\"/>\n<polygon fill=\"#000000\" stroke=\"#000000\" points=\"342.024,-784.3522 351.8912,-780.4939 341.7715,-777.3568 342.024,-784.3522\"/>\n<text text-anchor=\"middle\" x=\"317.0859\" y=\"-785.0964\" font-family=\"Times,serif\" font-size=\"14.00\" fill=\"#000000\">&#39;&#39; </text>\n</g>\n<!-- JovePbl -->\n<g id=\"node5\" class=\"node\">\n<title>JovePbl</title>\n<ellipse fill=\"none\" stroke=\"#000000\" cx=\"517.8241\" cy=\"-40.2964\" rx=\"40.0939\" ry=\"40.0939\"/>\n<text text-anchor=\"middle\" x=\"517.8241\" y=\"-36.5964\" font-family=\"Times,serif\" font-size=\"14.00\" fill=\"#000000\">JovePbl</text>\n</g>\n<!-- Pbl -->\n<g id=\"node19\" class=\"node\">\n<title>Pbl</title>\n<ellipse fill=\"none\" stroke=\"#000000\" cx=\"628.4683\" cy=\"-40.2964\" rx=\"23.2963\" ry=\"23.2963\"/>\n<text text-anchor=\"middle\" x=\"628.4683\" y=\"-36.5964\" font-family=\"Times,serif\" font-size=\"14.00\" fill=\"#000000\">Pbl</text>\n</g>\n<!-- JovePbl&#45;&gt;Pbl -->\n<g id=\"edge15\" class=\"edge\">\n<title>JovePbl&#45;&gt;Pbl</title>\n<path fill=\"none\" stroke=\"#000000\" d=\"M558.3956,-40.2964C570.3896,-40.2964 583.3814,-40.2964 594.8828,-40.2964\"/>\n<polygon fill=\"#000000\" stroke=\"#000000\" points=\"594.9549,-43.7965 604.9548,-40.2964 594.9548,-36.7965 594.9549,-43.7965\"/>\n<text text-anchor=\"middle\" x=\"582.5704\" y=\"-44.0964\" font-family=\"Times,serif\" font-size=\"14.00\" fill=\"#000000\">&#39;&#39; </text>\n</g>\n<!-- iSpin&#45;&gt;LTL -->\n<g id=\"edge21\" class=\"edge\">\n<title>iSpin&#45;&gt;LTL</title>\n<path fill=\"none\" stroke=\"#000000\" d=\"M142.3411,-690.2718C157.2174,-706.7745 178.2909,-729.2059 198.3945,-747.2964 203.886,-752.2381 209.9779,-757.2487 215.9291,-761.9198\"/>\n<polygon fill=\"#000000\" stroke=\"#000000\" points=\"213.8271,-764.7186 223.8877,-768.0406 218.0946,-759.1698 213.8271,-764.7186\"/>\n<text text-anchor=\"middle\" x=\"175.8945\" y=\"-732.0964\" font-family=\"Times,serif\" font-size=\"14.00\" fill=\"#000000\">&#39;&#39; </text>\n</g>\n<!-- iSpin&#45;&gt;CEATL -->\n<g id=\"edge22\" class=\"edge\">\n<title>iSpin&#45;&gt;CEATL</title>\n<path fill=\"none\" stroke=\"#000000\" d=\"M152.0612,-660.5109C166.0498,-657.6675 182.9906,-654.6998 198.3945,-653.2964 293.5519,-644.6272 404.9707,-657.0743 467.8887,-666.1846\"/>\n<polygon fill=\"#000000\" stroke=\"#000000\" points=\"467.5299,-669.6695 477.9345,-667.6709 468.5545,-662.7449 467.5299,-669.6695\"/>\n<text text-anchor=\"middle\" x=\"317.0859\" y=\"-655.0964\" font-family=\"Times,serif\" font-size=\"14.00\" fill=\"#000000\">&#39;&#39; </text>\n</g>\n<!-- BenAri -->\n<g id=\"node21\" class=\"node\">\n<title>BenAri</title>\n<ellipse fill=\"none\" stroke=\"#000000\" cx=\"246.4902\" cy=\"-700.2964\" rx=\"38.1938\" ry=\"38.1938\"/>\n<text text-anchor=\"middle\" x=\"246.4902\" y=\"-696.5964\" font-family=\"Times,serif\" font-size=\"14.00\" fill=\"#000000\">BenAri</text>\n</g>\n<!-- iSpin&#45;&gt;BenAri -->\n<g id=\"edge23\" class=\"edge\">\n<title>iSpin&#45;&gt;BenAri</title>\n<path fill=\"none\" stroke=\"#000000\" d=\"M151.9685,-675.2007C166.2424,-678.9905 183.6776,-683.6196 199.669,-687.8653\"/>\n<polygon fill=\"#000000\" stroke=\"#000000\" points=\"198.8348,-691.265 209.3981,-690.4484 200.6311,-684.4994 198.8348,-691.265\"/>\n<text text-anchor=\"middle\" x=\"175.8945\" y=\"-685.0964\" font-family=\"Times,serif\" font-size=\"14.00\" fill=\"#000000\">&#39;&#39; </text>\n</g>\n<!-- CNFDNF -->\n<g id=\"node8\" class=\"node\">\n<title>CNFDNF</title>\n<ellipse fill=\"none\" stroke=\"#000000\" cx=\"246.4902\" cy=\"-125.2964\" rx=\"48.1917\" ry=\"48.1917\"/>\n<text text-anchor=\"middle\" x=\"246.4902\" y=\"-121.5964\" font-family=\"Times,serif\" font-size=\"14.00\" fill=\"#000000\">CNFDNF</text>\n</g>\n<!-- AutPP17 -->\n<g id=\"node12\" class=\"node\">\n<title>AutPP17</title>\n<ellipse fill=\"none\" stroke=\"#000000\" cx=\"385.0819\" cy=\"-134.2964\" rx=\"45.4919\" ry=\"45.4919\"/>\n<text text-anchor=\"middle\" x=\"385.0819\" y=\"-130.5964\" font-family=\"Times,serif\" font-size=\"14.00\" fill=\"#000000\">AutPP17</text>\n</g>\n<!-- CNFDNF&#45;&gt;AutPP17 -->\n<g id=\"edge11\" class=\"edge\">\n<title>CNFDNF&#45;&gt;AutPP17</title>\n<path fill=\"none\" stroke=\"#000000\" d=\"M294.5739,-128.4189C305.7073,-129.1419 317.6493,-129.9174 329.0886,-130.6603\"/>\n<polygon fill=\"#000000\" stroke=\"#000000\" points=\"329.2095,-134.1754 339.4153,-131.3309 329.6631,-127.1901 329.2095,-134.1754\"/>\n<text text-anchor=\"middle\" x=\"317.0859\" y=\"-134.0964\" font-family=\"Times,serif\" font-size=\"14.00\" fill=\"#000000\">&#39;&#39; </text>\n</g>\n<!-- BDD -->\n<g id=\"node13\" class=\"node\">\n<title>BDD</title>\n<ellipse fill=\"none\" stroke=\"#000000\" cx=\"385.0819\" cy=\"-40.2964\" rx=\"30.5947\" ry=\"30.5947\"/>\n<text text-anchor=\"middle\" x=\"385.0819\" y=\"-36.5964\" font-family=\"Times,serif\" font-size=\"14.00\" fill=\"#000000\">BDD</text>\n</g>\n<!-- CNFDNF&#45;&gt;BDD -->\n<g id=\"edge12\" class=\"edge\">\n<title>CNFDNF&#45;&gt;BDD</title>\n<path fill=\"none\" stroke=\"#000000\" d=\"M287.697,-100.0238C307.5351,-87.8568 331.0703,-73.4224 350.0341,-61.7917\"/>\n<polygon fill=\"#000000\" stroke=\"#000000\" points=\"351.9726,-64.7086 358.6672,-56.4969 348.3129,-58.7415 351.9726,-64.7086\"/>\n<text text-anchor=\"middle\" x=\"317.0859\" y=\"-87.0964\" font-family=\"Times,serif\" font-size=\"14.00\" fill=\"#000000\">&#39;&#39; </text>\n</g>\n<!-- AutPP -->\n<g id=\"node9\" class=\"node\">\n<title>AutPP</title>\n<ellipse fill=\"none\" stroke=\"#000000\" cx=\"517.8241\" cy=\"-779.2964\" rx=\"35.9954\" ry=\"35.9954\"/>\n<text text-anchor=\"middle\" x=\"517.8241\" y=\"-775.5964\" font-family=\"Times,serif\" font-size=\"14.00\" fill=\"#000000\">AutPP</text>\n</g>\n<!-- z3solver -->\n<g id=\"node10\" class=\"node\">\n<title>z3solver</title>\n<ellipse fill=\"none\" stroke=\"#000000\" cx=\"517.8241\" cy=\"-492.2964\" rx=\"42.4939\" ry=\"42.4939\"/>\n<text text-anchor=\"middle\" x=\"517.8241\" y=\"-488.5964\" font-family=\"Times,serif\" font-size=\"14.00\" fill=\"#000000\">z3solver</text>\n</g>\n<!-- Buchi&#45;&gt;CEATL -->\n<g id=\"edge27\" class=\"edge\">\n<title>Buchi&#45;&gt;CEATL</title>\n<path fill=\"none\" stroke=\"#000000\" d=\"M411.3075,-758.5518C430.3348,-743.501 456.4132,-722.8729 478.0035,-705.7948\"/>\n<polygon fill=\"#000000\" stroke=\"#000000\" points=\"480.3627,-708.3913 486.0343,-699.4424 476.02,-702.9012 480.3627,-708.3913\"/>\n<text text-anchor=\"middle\" x=\"453.0779\" y=\"-730.0964\" font-family=\"Times,serif\" font-size=\"14.00\" fill=\"#000000\">&#39;&#39; </text>\n</g>\n<!-- Buchi&#45;&gt;AutPP -->\n<g id=\"edge26\" class=\"edge\">\n<title>Buchi&#45;&gt;AutPP</title>\n<path fill=\"none\" stroke=\"#000000\" d=\"M418.2359,-779.2964C434.4126,-779.2964 454.1363,-779.2964 471.7498,-779.2964\"/>\n<polygon fill=\"#000000\" stroke=\"#000000\" points=\"471.8338,-782.7965 481.8338,-779.2964 471.8337,-775.7965 471.8338,-782.7965\"/>\n<text text-anchor=\"middle\" x=\"453.0779\" y=\"-783.0964\" font-family=\"Times,serif\" font-size=\"14.00\" fill=\"#000000\">&#39;&#39; </text>\n</g>\n<!-- BDD&#45;&gt;JovePbl -->\n<g id=\"edge14\" class=\"edge\">\n<title>BDD&#45;&gt;JovePbl</title>\n<path fill=\"none\" stroke=\"#000000\" d=\"M415.8693,-40.2964C430.9644,-40.2964 449.5461,-40.2964 466.6931,-40.2964\"/>\n<polygon fill=\"#000000\" stroke=\"#000000\" points=\"467.1402,-43.7965 477.1402,-40.2964 467.1402,-36.7965 467.1402,-43.7965\"/>\n<text text-anchor=\"middle\" x=\"453.0779\" y=\"-44.0964\" font-family=\"Times,serif\" font-size=\"14.00\" fill=\"#000000\">&#39;&#39; </text>\n</g>\n<!-- NPC -->\n<g id=\"node14\" class=\"node\">\n<title>NPC</title>\n<ellipse fill=\"none\" stroke=\"#000000\" cx=\"246.4902\" cy=\"-220.2964\" rx=\"29.4969\" ry=\"29.4969\"/>\n<text text-anchor=\"middle\" x=\"246.4902\" y=\"-216.5964\" font-family=\"Times,serif\" font-size=\"14.00\" fill=\"#000000\">NPC</text>\n</g>\n<!-- NPC&#45;&gt;AutPP16 -->\n<g id=\"edge13\" class=\"edge\">\n<title>NPC&#45;&gt;AutPP16</title>\n<path fill=\"none\" stroke=\"#000000\" d=\"M273.8715,-231.3602C290.8287,-238.212 313.1497,-247.2312 333.3417,-255.3901\"/>\n<polygon fill=\"#000000\" stroke=\"#000000\" points=\"332.1623,-258.6884 342.7453,-259.1897 334.7848,-252.1982 332.1623,-258.6884\"/>\n<text text-anchor=\"middle\" x=\"317.0859\" y=\"-254.0964\" font-family=\"Times,serif\" font-size=\"14.00\" fill=\"#000000\">&#39;&#39; </text>\n</g>\n<!-- Yurichev&#45;&gt;z3solver -->\n<g id=\"edge20\" class=\"edge\">\n<title>Yurichev&#45;&gt;z3solver</title>\n<path fill=\"none\" stroke=\"#000000\" d=\"M426.3547,-455.0864C439.8352,-460.5703 454.9356,-466.7132 468.9218,-472.4028\"/>\n<polygon fill=\"#000000\" stroke=\"#000000\" points=\"467.8112,-475.7295 478.3929,-476.2557 470.4489,-469.2454 467.8112,-475.7295\"/>\n<text text-anchor=\"middle\" x=\"453.0779\" y=\"-470.0964\" font-family=\"Times,serif\" font-size=\"14.00\" fill=\"#000000\">&#39;&#39; </text>\n</g>\n<!-- iAlloy&#45;&gt;CEATL -->\n<g id=\"edge28\" class=\"edge\">\n<title>iAlloy&#45;&gt;CEATL</title>\n<path fill=\"none\" stroke=\"#000000\" d=\"M281.1943,-572.2381C325.939,-573.8165 404.3149,-582.3568 457.5779,-620.2964 465.4753,-625.9218 473.4943,-632.4399 480.995,-638.9602\"/>\n<polygon fill=\"#000000\" stroke=\"#000000\" points=\"479.103,-641.9616 488.9004,-645.9942 483.7561,-636.732 479.103,-641.9616\"/>\n<text text-anchor=\"middle\" x=\"385.0819\" y=\"-607.0964\" font-family=\"Times,serif\" font-size=\"14.00\" fill=\"#000000\">&#39;&#39; </text>\n</g>\n<!-- Bradley -->\n<g id=\"node17\" class=\"node\">\n<title>Bradley</title>\n<ellipse fill=\"none\" stroke=\"#000000\" cx=\"246.4902\" cy=\"-391.2964\" rx=\"40.0939\" ry=\"40.0939\"/>\n<text text-anchor=\"middle\" x=\"246.4902\" y=\"-387.5964\" font-family=\"Times,serif\" font-size=\"14.00\" fill=\"#000000\">Bradley</text>\n</g>\n<!-- iProp&#45;&gt;kSAT -->\n<g id=\"edge7\" class=\"edge\">\n<title>iProp&#45;&gt;kSAT</title>\n<path fill=\"none\" stroke=\"#000000\" d=\"M153.5616,-300.2964C168.6639,-300.2964 187.0108,-300.2964 203.4,-300.2964\"/>\n<polygon fill=\"#000000\" stroke=\"#000000\" points=\"203.8337,-303.7965 213.8337,-300.2964 203.8336,-296.7965 203.8337,-303.7965\"/>\n<text text-anchor=\"middle\" x=\"175.8945\" y=\"-304.0964\" font-family=\"Times,serif\" font-size=\"14.00\" fill=\"#000000\">&#39;&#39; </text>\n</g>\n<!-- iProp&#45;&gt;CNFDNF -->\n<g id=\"edge6\" class=\"edge\">\n<title>iProp&#45;&gt;CNFDNF</title>\n<path fill=\"none\" stroke=\"#000000\" d=\"M138.2074,-273.4024C153.0177,-249.053 176.0538,-212.4831 198.3945,-182.2964 201.4923,-178.1106 204.8039,-173.8331 208.1856,-169.5961\"/>\n<polygon fill=\"#000000\" stroke=\"#000000\" points=\"211.1476,-171.5009 214.7374,-161.5327 205.7149,-167.0866 211.1476,-171.5009\"/>\n<text text-anchor=\"middle\" x=\"175.8945\" y=\"-224.0964\" font-family=\"Times,serif\" font-size=\"14.00\" fill=\"#000000\">&#39;&#39; </text>\n</g>\n<!-- iProp&#45;&gt;NPC -->\n<g id=\"edge8\" class=\"edge\">\n<title>iProp&#45;&gt;NPC</title>\n<path fill=\"none\" stroke=\"#000000\" d=\"M148.5566,-283.3305C167.4271,-271.1847 192.9755,-254.7406 213.2461,-241.6937\"/>\n<polygon fill=\"#000000\" stroke=\"#000000\" points=\"215.3451,-244.505 221.8596,-236.1497 211.5565,-238.6189 215.3451,-244.505\"/>\n<text text-anchor=\"middle\" x=\"175.8945\" y=\"-272.0964\" font-family=\"Times,serif\" font-size=\"14.00\" fill=\"#000000\">&#39;&#39; </text>\n</g>\n<!-- iProp&#45;&gt;Bradley -->\n<g id=\"edge5\" class=\"edge\">\n<title>iProp&#45;&gt;Bradley</title>\n<path fill=\"none\" stroke=\"#000000\" d=\"M147.6497,-318.9312C164.3539,-331.161 186.5684,-347.4252 205.7059,-361.4366\"/>\n<polygon fill=\"#000000\" stroke=\"#000000\" points=\"203.8357,-364.4051 213.9719,-367.4885 207.9709,-358.757 203.8357,-364.4051\"/>\n<text text-anchor=\"middle\" x=\"175.8945\" y=\"-345.0964\" font-family=\"Times,serif\" font-size=\"14.00\" fill=\"#000000\">&#39;&#39; </text>\n</g>\n<!-- iFOL&#45;&gt;z3solver -->\n<g id=\"edge18\" class=\"edge\">\n<title>iFOL&#45;&gt;z3solver</title>\n<path fill=\"none\" stroke=\"#000000\" d=\"M153.5721,-508.8689C221.2937,-505.7878 381.777,-498.4862 465.2844,-494.6868\"/>\n<polygon fill=\"#000000\" stroke=\"#000000\" points=\"465.4888,-498.1813 475.3193,-494.2303 465.1706,-491.1885 465.4888,-498.1813\"/>\n<text text-anchor=\"middle\" x=\"317.0859\" y=\"-505.0964\" font-family=\"Times,serif\" font-size=\"14.00\" fill=\"#000000\">&#39;&#39; </text>\n</g>\n<!-- iFOL&#45;&gt;Yurichev -->\n<g id=\"edge19\" class=\"edge\">\n<title>iFOL&#45;&gt;Yurichev</title>\n<path fill=\"none\" stroke=\"#000000\" d=\"M151.1808,-498.1907C165.2717,-492.5829 182.5493,-486.1116 198.3945,-481.2964 242.6081,-467.8603 293.8189,-456.3427 331.4086,-448.6189\"/>\n<polygon fill=\"#000000\" stroke=\"#000000\" points=\"332.5292,-451.9628 341.6325,-446.5425 331.1359,-445.1029 332.5292,-451.9628\"/>\n<text text-anchor=\"middle\" x=\"246.4902\" y=\"-485.0964\" font-family=\"Times,serif\" font-size=\"14.00\" fill=\"#000000\">&#39;&#39; </text>\n</g>\n<!-- iFOL&#45;&gt;iAlloy -->\n<g id=\"edge17\" class=\"edge\">\n<title>iFOL&#45;&gt;iAlloy</title>\n<path fill=\"none\" stroke=\"#000000\" d=\"M150.4012,-524.3652C166.9448,-532.6175 188.1174,-543.1788 206.3756,-552.2864\"/>\n<polygon fill=\"#000000\" stroke=\"#000000\" points=\"204.8331,-555.4282 215.3439,-556.76 207.9577,-549.1642 204.8331,-555.4282\"/>\n<text text-anchor=\"middle\" x=\"175.8945\" y=\"-541.0964\" font-family=\"Times,serif\" font-size=\"14.00\" fill=\"#000000\">&#39;&#39; </text>\n</g>\n<!-- iFOL&#45;&gt;Bradley -->\n<g id=\"edge16\" class=\"edge\">\n<title>iFOL&#45;&gt;Bradley</title>\n<path fill=\"none\" stroke=\"#000000\" d=\"M137.3622,-482.6338C146.0833,-468.3216 157.9651,-451.1965 171.3945,-438.2964 180.32,-429.7227 191.0542,-421.8951 201.5781,-415.1918\"/>\n<polygon fill=\"#000000\" stroke=\"#000000\" points=\"203.6256,-418.0421 210.3244,-409.8337 199.9689,-412.0731 203.6256,-418.0421\"/>\n<text text-anchor=\"middle\" x=\"175.8945\" y=\"-442.0964\" font-family=\"Times,serif\" font-size=\"14.00\" fill=\"#000000\">&#39;&#39; </text>\n</g>\n</g>\n</svg>\n"
          },
          "metadata": {},
          "execution_count": 7
        }
      ],
      "source": [
        "dotObj_nfa(cs6110s22, FuseEdges=True)"
      ]
    },
    {
      "cell_type": "code",
      "source": [
        ""
      ],
      "metadata": {
        "id": "BvcGOQaQh94V"
      },
      "execution_count": null,
      "outputs": []
    }
  ],
  "metadata": {
    "kernelspec": {
      "display_name": "Python 3",
      "language": "python",
      "name": "python3"
    },
    "language_info": {
      "codemirror_mode": {
        "name": "ipython",
        "version": 3
      },
      "file_extension": ".py",
      "mimetype": "text/x-python",
      "name": "python",
      "nbconvert_exporter": "python",
      "pygments_lexer": "ipython3",
      "version": "3.7.3"
    },
    "toc": {
      "colors": {
        "hover_highlight": "#DAA520",
        "running_highlight": "#FF0000",
        "selected_highlight": "#FFD700"
      },
      "moveMenuLeft": true,
      "nav_menu": {
        "height": "121px",
        "width": "252px"
      },
      "navigate_menu": true,
      "number_sections": true,
      "sideBar": true,
      "threshold": 4,
      "toc_cell": false,
      "toc_section_display": "block",
      "toc_window_display": false,
      "widenNotebook": false
    },
    "colab": {
      "name": "cs6110Concepts.ipynb",
      "provenance": []
    }
  },
  "nbformat": 4,
  "nbformat_minor": 0
}
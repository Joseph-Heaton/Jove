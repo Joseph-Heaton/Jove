{
 "cells": [
  {
   "cell_type": "markdown",
   "metadata": {},
   "source": [
    "# <font color=blue> Imports Help Run on Own Laptop or Google's Colab </font>"
   ]
  },
  {
   "cell_type": "code",
   "execution_count": 1,
   "metadata": {},
   "outputs": [
    {
     "name": "stdout",
     "output_type": "stream",
     "text": [
      "Running on own machine. Include # sys.path[0:0] = [ '..', '../3rdparty' ] .. as needed\n",
      "You may use any of these help commands:\n",
      "help(md2mc)\n",
      ".. and if you want to dig more, then ..\n",
      "help(default_line_attr)\n",
      "help(length_ok_input_items)\n",
      "help(union_line_attr_list_fld)\n",
      "help(extend_rsltdict)\n",
      "help(form_delta)\n",
      "help(get_machine_components)\n",
      "\n",
      "You may use any of these help commands:\n",
      "help(ResetStNum)\n",
      "help(NxtStateStr)\n",
      "\n",
      "You may use any of these help commands:\n",
      "help(mkp_dfa)\n",
      "help(mk_dfa)\n",
      "help(totalize_dfa)\n",
      "help(addtosigma_delta)\n",
      "help(step_dfa)\n",
      "help(run_dfa)\n",
      "help(accepts_dfa)\n",
      "help(comp_dfa)\n",
      "help(union_dfa)\n",
      "help(intersect_dfa)\n",
      "help(pruneUnreach)\n",
      "help(iso_dfa)\n",
      "help(langeq_dfa)\n",
      "help(same_status)\n",
      "help(h_langeq_dfa)\n",
      "help(fixptDist)\n",
      "help(min_dfa)\n",
      "help(pairFR)\n",
      "help(state_combos)\n",
      "help(sepFinNonFin)\n",
      "help(bash_eql_classes)\n",
      "help(listminus)\n",
      "help(bash_1)\n",
      "help(mk_rep_eqc)\n",
      "help(F_of)\n",
      "help(rep_of_s)\n",
      "help(q0_of)\n",
      "help(Delta_of)\n",
      "help(mk_state_eqc_name)\n",
      "\n",
      "You may use any of these help commands:\n",
      "help(mk_nfa)\n",
      "help(totalize_nfa)\n",
      "help(step_nfa)\n",
      "help(run_nfa)\n",
      "help(ec_step_nfa)\n",
      "help(Eclosure)\n",
      "help(Echelp)\n",
      "help(accepts_nfa)\n",
      "help(nfa2dfa)\n",
      "help(n2d)\n",
      "help(inSets)\n",
      "help(rev_dfa)\n",
      "help(min_dfa_brz)\n",
      "\n",
      "You may use any of these help commands:\n",
      "help(re2nfa)\n",
      "\n"
     ]
    }
   ],
   "source": [
    "import sys\n",
    "try:\n",
    "    import google.colab\n",
    "    OWN_INSTALL = False\n",
    "except:\n",
    "    OWN_INSTALL = True  \n",
    "if OWN_INSTALL:\n",
    "    print(\"Running on own machine. Include # sys.path[0:0] = [ '..', '../3rdparty' ] .. as needed\")\n",
    "    sys.path[0:0] = ['../../../../..',  '../../../../../3rdparty',  \n",
    "                     '../../../..',  '../../../../3rdparty',  \n",
    "                     '../../..',     '../../../3rdparty', \n",
    "                     '../..',        '../../3rdparty',\n",
    "                     '..',           '../3rdparty']\n",
    "\n",
    "else:\n",
    "    ! if [ ! -d Jove ]; then git clone https://github.com/ganeshutah/Jove Jove; fi\n",
    "    sys.path.append('./Jove')       # Set paths for Colab\n",
    "    sys.path.append('./Jove/jove')\n",
    "# -- Now include common imports - either here, or just before when needed --\n",
    "\n",
    "# -- these are almost always needed  \n",
    "from jove.Def_md2mc  import * # -- to convert markdowns to machines\n",
    "from jove.DotBashers import * # -- to draw machines\n",
    "from jove.Def_RE2NFA import *"
   ]
  },
  {
   "cell_type": "markdown",
   "metadata": {},
   "source": [
    "# <font color=blue> Overview of Jove </font>\n",
    "\n",
    "### * Jove Helps Teach Automata and Computability Interactively\n",
    "\n",
    "### * No Software Installation - Runs on Colab under Jupyter Notebooks\n",
    "\n",
    "### * Supports Machine Construction, Animation, Property Checking\n",
    "\n",
    "### * Assignments Delivered via Half-Filled Notebooks - Finished by Students\n",
    "\n",
    "### * Helps Teach Practical, Formal Aspects - e.g. Parsing, Ambiguity, Decision Diagrams\n",
    "\n",
    "### * Students Appreciate How Theory Turns into Practice\n",
    "\n",
    "### * Community Contributed Problems a Possibility\n",
    "\n"
   ]
  },
  {
   "cell_type": "markdown",
   "metadata": {},
   "source": [
    "# <font color=blue> The Full Animation Panel </font>\n",
    "\n",
    "### This animation panel was written by Paul C.J. Carlson and presents all of Jove's Machines in one panel."
   ]
  },
  {
   "cell_type": "code",
   "execution_count": 2,
   "metadata": {
    "scrolled": true
   },
   "outputs": [
    {
     "name": "stdout",
     "output_type": "stream",
     "text": [
      " \"help(JoveEditor)\" gives you info on the generic animation panel that animates all machines. \n"
     ]
    },
    {
     "data": {
      "text/html": [
       "<style>textarea, input { font-family: monospace; }</style>"
      ],
      "text/plain": [
       "<IPython.core.display.HTML object>"
      ]
     },
     "metadata": {},
     "output_type": "display_data"
    },
    {
     "data": {
      "application/vnd.jupyter.widget-view+json": {
       "model_id": "491663c51bfe458fa6da15e8b15c60a8",
       "version_major": 2,
       "version_minor": 0
      },
      "text/plain": [
       "Tab(children=(VBox(children=(HBox(children=(Accordion(children=(VBox(children=(HBox(children=(Text(value='', p…"
      ]
     },
     "metadata": {},
     "output_type": "display_data"
    },
    {
     "data": {
      "text/html": [
       "<link rel=\"stylesheet\" href=\"//stackpath.bootstrapcdn.com/font-awesome/4.7.0/css/font-awesome.min.css\"/>"
      ],
      "text/plain": [
       "<IPython.core.display.HTML object>"
      ]
     },
     "metadata": {},
     "output_type": "display_data"
    }
   ],
   "source": [
    "from jove.JoveEditor import *\n",
    "JoveEditor(examples=True)\n",
    "display(HTML('<link rel=\"stylesheet\" href=\"//stackpath.bootstrapcdn.com/font-awesome/4.7.0/css/font-awesome.min.css\"/>'))"
   ]
  },
  {
   "cell_type": "markdown",
   "metadata": {},
   "source": [
    "# <font color=blue> Define and Draw Machines </font>\n",
    "\n",
    "### One can define and draw individual machines also, well documented!"
   ]
  },
  {
   "cell_type": "code",
   "execution_count": 3,
   "metadata": {},
   "outputs": [
    {
     "name": "stderr",
     "output_type": "stream",
     "text": [
      "Generating LALR tables\n"
     ]
    }
   ],
   "source": [
    "DFA010 = md2mc('''\n",
    "DFA\n",
    "\n",
    "!! Overall plans: Name states to reflect information being recorded\n",
    "\n",
    "!! The initial state is not final, since a 010 has not been seen.\n",
    "!! Thus the initial state name is \"I\" and not \"IF\"\n",
    "\n",
    "!! Below, with each state such as I or S0, we provide both the moves out of it\n",
    "!! For larger alphabets, provide all the moves in a bunch. \n",
    "\n",
    "!! We prefer to first list moves that are not too interesting; this way you can \n",
    "!! forget those cases and move on.\n",
    "\n",
    "I : 1 -> I  !! Upon a '1', no progress toward 010, so throw '1' away\n",
    "I : 0 -> S0 !! '0' is interesting, as it is progressing toward 010; record it in the state\n",
    "\n",
    "S0 : 0 -> S0  !! No further progress, but progress so far is not lost either; stay at S0\n",
    "S0 : 1 -> S01 !! Now progress toward 010\n",
    "\n",
    "S01 : 1 -> I !! A \"spoiler\" of a '1' is seen. We revert back to I and start all over.\n",
    "S01 : 0 -> F !! Seen a 010. No more work to do!\n",
    "\n",
    "F : 0|1 -> F  !! Remain at F, having seen a 010\n",
    "''')"
   ]
  },
  {
   "cell_type": "code",
   "execution_count": 4,
   "metadata": {},
   "outputs": [
    {
     "data": {
      "image/svg+xml": [
       "<?xml version=\"1.0\" encoding=\"UTF-8\" standalone=\"no\"?>\n",
       "<!DOCTYPE svg PUBLIC \"-//W3C//DTD SVG 1.1//EN\"\n",
       " \"http://www.w3.org/Graphics/SVG/1.1/DTD/svg11.dtd\">\n",
       "<!-- Generated by graphviz version 2.36.0 (20140111.2315)\n",
       " -->\n",
       "<!-- Title: %3 Pages: 1 -->\n",
       "<svg width=\"414pt\" height=\"120pt\"\n",
       " viewBox=\"0.00 0.00 414.00 120.00\" xmlns=\"http://www.w3.org/2000/svg\" xmlns:xlink=\"http://www.w3.org/1999/xlink\">\n",
       "<g id=\"graph0\" class=\"graph\" transform=\"scale(1 1) rotate(0) translate(4 116)\">\n",
       "<title>%3</title>\n",
       "<polygon fill=\"white\" stroke=\"none\" points=\"-4,4 -4,-116 410,-116 410,4 -4,4\"/>\n",
       "<!-- EMPTY -->\n",
       "<g id=\"node1\" class=\"node\"><title>EMPTY</title>\n",
       "</g>\n",
       "<!-- I -->\n",
       "<g id=\"node2\" class=\"node\"><title>I</title>\n",
       "<ellipse fill=\"none\" stroke=\"black\" cx=\"110\" cy=\"-24\" rx=\"18\" ry=\"18\"/>\n",
       "<text text-anchor=\"middle\" x=\"110\" y=\"-20.3\" font-family=\"Times,serif\" font-size=\"14.00\">I</text>\n",
       "</g>\n",
       "<!-- EMPTY&#45;&gt;I -->\n",
       "<g id=\"edge1\" class=\"edge\"><title>EMPTY&#45;&gt;I</title>\n",
       "<path fill=\"none\" stroke=\"black\" d=\"M54.0748,-24C62.8864,-24 72.746,-24 81.6534,-24\"/>\n",
       "<polygon fill=\"black\" stroke=\"black\" points=\"81.9117,-27.5001 91.9117,-24 81.9117,-20.5001 81.9117,-27.5001\"/>\n",
       "</g>\n",
       "<!-- I&#45;&gt;I -->\n",
       "<g id=\"edge2\" class=\"edge\"><title>I&#45;&gt;I</title>\n",
       "<path fill=\"none\" stroke=\"black\" d=\"M103.621,-41.0373C102.319,-50.8579 104.445,-60 110,-60 113.472,-60 115.604,-56.4289 116.398,-51.3529\"/>\n",
       "<polygon fill=\"black\" stroke=\"black\" points=\"119.897,-51.031 116.379,-41.0373 112.897,-51.0435 119.897,-51.031\"/>\n",
       "<text text-anchor=\"middle\" x=\"110\" y=\"-63.8\" font-family=\"Times,serif\" font-size=\"14.00\">1 </text>\n",
       "</g>\n",
       "<!-- S0 -->\n",
       "<g id=\"node3\" class=\"node\"><title>S0</title>\n",
       "<ellipse fill=\"none\" stroke=\"black\" cx=\"196\" cy=\"-56\" rx=\"20.2975\" ry=\"20.2975\"/>\n",
       "<text text-anchor=\"middle\" x=\"196\" y=\"-52.3\" font-family=\"Times,serif\" font-size=\"14.00\">S0</text>\n",
       "</g>\n",
       "<!-- I&#45;&gt;S0 -->\n",
       "<g id=\"edge3\" class=\"edge\"><title>I&#45;&gt;S0</title>\n",
       "<path fill=\"none\" stroke=\"black\" d=\"M127.196,-30.1699C138.517,-34.4828 153.923,-40.3514 167.188,-45.405\"/>\n",
       "<polygon fill=\"black\" stroke=\"black\" points=\"166.221,-48.782 176.812,-49.0713 168.713,-42.2405 166.221,-48.782\"/>\n",
       "<text text-anchor=\"middle\" x=\"152\" y=\"-43.8\" font-family=\"Times,serif\" font-size=\"14.00\">0 </text>\n",
       "</g>\n",
       "<!-- S0&#45;&gt;S0 -->\n",
       "<g id=\"edge4\" class=\"edge\"><title>S0&#45;&gt;S0</title>\n",
       "<path fill=\"none\" stroke=\"black\" d=\"M188.09,-74.7696C186.746,-84.8324 189.383,-94 196,-94 200.239,-94 202.845,-90.2376 203.816,-84.8878\"/>\n",
       "<polygon fill=\"black\" stroke=\"black\" points=\"207.317,-84.8014 203.91,-74.7696 200.318,-84.7369 207.317,-84.8014\"/>\n",
       "<text text-anchor=\"middle\" x=\"196\" y=\"-97.8\" font-family=\"Times,serif\" font-size=\"14.00\">0 </text>\n",
       "</g>\n",
       "<!-- S01 -->\n",
       "<g id=\"node4\" class=\"node\"><title>S01</title>\n",
       "<ellipse fill=\"none\" stroke=\"black\" cx=\"289\" cy=\"-24\" rx=\"24.8972\" ry=\"24.8972\"/>\n",
       "<text text-anchor=\"middle\" x=\"289\" y=\"-20.3\" font-family=\"Times,serif\" font-size=\"14.00\">S01</text>\n",
       "</g>\n",
       "<!-- S0&#45;&gt;S01 -->\n",
       "<g id=\"edge5\" class=\"edge\"><title>S0&#45;&gt;S01</title>\n",
       "<path fill=\"none\" stroke=\"black\" d=\"M215.415,-49.5243C227.033,-45.4389 242.355,-40.0509 255.927,-35.2785\"/>\n",
       "<polygon fill=\"black\" stroke=\"black\" points=\"257.149,-38.5589 265.422,-31.9397 254.827,-31.9553 257.149,-38.5589\"/>\n",
       "<text text-anchor=\"middle\" x=\"240\" y=\"-45.8\" font-family=\"Times,serif\" font-size=\"14.00\">1 </text>\n",
       "</g>\n",
       "<!-- S01&#45;&gt;I -->\n",
       "<g id=\"edge6\" class=\"edge\"><title>S01&#45;&gt;I</title>\n",
       "<path fill=\"none\" stroke=\"black\" d=\"M264.775,-19.1281C250.728,-16.432 232.418,-13.3588 216,-12 198.283,-10.5337 193.704,-10.3795 176,-12 163.314,-13.1612 149.406,-15.572 137.723,-17.9302\"/>\n",
       "<polygon fill=\"black\" stroke=\"black\" points=\"136.778,-14.5525 127.718,-20.0437 138.225,-21.4013 136.778,-14.5525\"/>\n",
       "<text text-anchor=\"middle\" x=\"196\" y=\"-15.8\" font-family=\"Times,serif\" font-size=\"14.00\">1 </text>\n",
       "</g>\n",
       "<!-- F -->\n",
       "<g id=\"node5\" class=\"node\"><title>F</title>\n",
       "<ellipse fill=\"none\" stroke=\"black\" cx=\"384\" cy=\"-24\" rx=\"18\" ry=\"18\"/>\n",
       "<ellipse fill=\"none\" stroke=\"black\" cx=\"384\" cy=\"-24\" rx=\"22\" ry=\"22\"/>\n",
       "<text text-anchor=\"middle\" x=\"384\" y=\"-20.3\" font-family=\"Times,serif\" font-size=\"14.00\">F</text>\n",
       "</g>\n",
       "<!-- S01&#45;&gt;F -->\n",
       "<g id=\"edge7\" class=\"edge\"><title>S01&#45;&gt;F</title>\n",
       "<path fill=\"none\" stroke=\"black\" d=\"M313.95,-24C325.438,-24 339.35,-24 351.668,-24\"/>\n",
       "<polygon fill=\"black\" stroke=\"black\" points=\"351.98,-27.5001 361.98,-24 351.98,-20.5001 351.98,-27.5001\"/>\n",
       "<text text-anchor=\"middle\" x=\"338\" y=\"-27.8\" font-family=\"Times,serif\" font-size=\"14.00\">0 </text>\n",
       "</g>\n",
       "<!-- F&#45;&gt;F -->\n",
       "<g id=\"edge8\" class=\"edge\"><title>F&#45;&gt;F</title>\n",
       "<path fill=\"none\" stroke=\"black\" d=\"M379.755,-45.8066C379.351,-55.5625 380.766,-64 384,-64 386.021,-64 387.332,-60.7041 387.932,-55.8504\"/>\n",
       "<polygon fill=\"black\" stroke=\"black\" points=\"391.432,-55.9107 388.245,-45.8066 384.436,-55.6928 391.432,-55.9107\"/>\n",
       "<text text-anchor=\"middle\" x=\"384\" y=\"-67.8\" font-family=\"Times,serif\" font-size=\"14.00\">0 </text>\n",
       "</g>\n",
       "<!-- F&#45;&gt;F -->\n",
       "<g id=\"edge9\" class=\"edge\"><title>F&#45;&gt;F</title>\n",
       "<path fill=\"none\" stroke=\"black\" d=\"M376.798,-44.813C373.514,-62.8838 375.914,-82 384,-82 390.57,-82 393.386,-69.3803 392.45,-54.9552\"/>\n",
       "<polygon fill=\"black\" stroke=\"black\" points=\"395.897,-54.3106 391.202,-44.813 388.949,-55.1656 395.897,-54.3106\"/>\n",
       "<text text-anchor=\"middle\" x=\"384\" y=\"-85.8\" font-family=\"Times,serif\" font-size=\"14.00\">1 </text>\n",
       "</g>\n",
       "</g>\n",
       "</svg>\n"
      ],
      "text/plain": [
       "<graphviz.dot.Digraph at 0x7fb2faf12220>"
      ]
     },
     "execution_count": 4,
     "metadata": {},
     "output_type": "execute_result"
    }
   ],
   "source": [
    "dotObj_dfa(DFA010)"
   ]
  },
  {
   "cell_type": "markdown",
   "metadata": {},
   "source": [
    "### Fuse the Edges for Neatness\n",
    "\n",
    "We like to see all the edges separately to see \"it is all there\". \n",
    "After that, we want to fuse multiple edges between states. The\n",
    "\"FuseEdges=True\" below accomplishes that."
   ]
  },
  {
   "cell_type": "code",
   "execution_count": 5,
   "metadata": {},
   "outputs": [
    {
     "data": {
      "image/svg+xml": [
       "<?xml version=\"1.0\" encoding=\"UTF-8\" standalone=\"no\"?>\n",
       "<!DOCTYPE svg PUBLIC \"-//W3C//DTD SVG 1.1//EN\"\n",
       " \"http://www.w3.org/Graphics/SVG/1.1/DTD/svg11.dtd\">\n",
       "<!-- Generated by graphviz version 2.36.0 (20140111.2315)\n",
       " -->\n",
       "<!-- Title: %3 Pages: 1 -->\n",
       "<svg width=\"414pt\" height=\"117pt\"\n",
       " viewBox=\"0.00 0.00 414.00 117.00\" xmlns=\"http://www.w3.org/2000/svg\" xmlns:xlink=\"http://www.w3.org/1999/xlink\">\n",
       "<g id=\"graph0\" class=\"graph\" transform=\"scale(1 1) rotate(0) translate(4 113)\">\n",
       "<title>%3</title>\n",
       "<polygon fill=\"white\" stroke=\"none\" points=\"-4,4 -4,-113 410,-113 410,4 -4,4\"/>\n",
       "<!-- EMPTY -->\n",
       "<g id=\"node1\" class=\"node\"><title>EMPTY</title>\n",
       "</g>\n",
       "<!-- I -->\n",
       "<g id=\"node2\" class=\"node\"><title>I</title>\n",
       "<ellipse fill=\"none\" stroke=\"black\" cx=\"110\" cy=\"-24\" rx=\"18\" ry=\"18\"/>\n",
       "<text text-anchor=\"middle\" x=\"110\" y=\"-20.3\" font-family=\"Times,serif\" font-size=\"14.00\">I</text>\n",
       "</g>\n",
       "<!-- EMPTY&#45;&gt;I -->\n",
       "<g id=\"edge1\" class=\"edge\"><title>EMPTY&#45;&gt;I</title>\n",
       "<path fill=\"none\" stroke=\"black\" d=\"M54.0748,-24C62.8864,-24 72.746,-24 81.6534,-24\"/>\n",
       "<polygon fill=\"black\" stroke=\"black\" points=\"81.9117,-27.5001 91.9117,-24 81.9117,-20.5001 81.9117,-27.5001\"/>\n",
       "</g>\n",
       "<!-- I&#45;&gt;I -->\n",
       "<g id=\"edge2\" class=\"edge\"><title>I&#45;&gt;I</title>\n",
       "<path fill=\"none\" stroke=\"black\" d=\"M103.621,-41.0373C102.319,-50.8579 104.445,-60 110,-60 113.472,-60 115.604,-56.4289 116.398,-51.3529\"/>\n",
       "<polygon fill=\"black\" stroke=\"black\" points=\"119.897,-51.031 116.379,-41.0373 112.897,-51.0435 119.897,-51.031\"/>\n",
       "<text text-anchor=\"middle\" x=\"110\" y=\"-63.8\" font-family=\"Times,serif\" font-size=\"14.00\">1 </text>\n",
       "</g>\n",
       "<!-- S0 -->\n",
       "<g id=\"node3\" class=\"node\"><title>S0</title>\n",
       "<ellipse fill=\"none\" stroke=\"black\" cx=\"196\" cy=\"-56\" rx=\"20.2975\" ry=\"20.2975\"/>\n",
       "<text text-anchor=\"middle\" x=\"196\" y=\"-52.3\" font-family=\"Times,serif\" font-size=\"14.00\">S0</text>\n",
       "</g>\n",
       "<!-- I&#45;&gt;S0 -->\n",
       "<g id=\"edge3\" class=\"edge\"><title>I&#45;&gt;S0</title>\n",
       "<path fill=\"none\" stroke=\"black\" d=\"M127.196,-30.1699C138.517,-34.4828 153.923,-40.3514 167.188,-45.405\"/>\n",
       "<polygon fill=\"black\" stroke=\"black\" points=\"166.221,-48.782 176.812,-49.0713 168.713,-42.2405 166.221,-48.782\"/>\n",
       "<text text-anchor=\"middle\" x=\"152\" y=\"-43.8\" font-family=\"Times,serif\" font-size=\"14.00\">0 </text>\n",
       "</g>\n",
       "<!-- S0&#45;&gt;S0 -->\n",
       "<g id=\"edge4\" class=\"edge\"><title>S0&#45;&gt;S0</title>\n",
       "<path fill=\"none\" stroke=\"black\" d=\"M188.09,-74.7696C186.746,-84.8324 189.383,-94 196,-94 200.239,-94 202.845,-90.2376 203.816,-84.8878\"/>\n",
       "<polygon fill=\"black\" stroke=\"black\" points=\"207.317,-84.8014 203.91,-74.7696 200.318,-84.7369 207.317,-84.8014\"/>\n",
       "<text text-anchor=\"middle\" x=\"196\" y=\"-97.8\" font-family=\"Times,serif\" font-size=\"14.00\">0 </text>\n",
       "</g>\n",
       "<!-- S01 -->\n",
       "<g id=\"node4\" class=\"node\"><title>S01</title>\n",
       "<ellipse fill=\"none\" stroke=\"black\" cx=\"289\" cy=\"-24\" rx=\"24.8972\" ry=\"24.8972\"/>\n",
       "<text text-anchor=\"middle\" x=\"289\" y=\"-20.3\" font-family=\"Times,serif\" font-size=\"14.00\">S01</text>\n",
       "</g>\n",
       "<!-- S0&#45;&gt;S01 -->\n",
       "<g id=\"edge5\" class=\"edge\"><title>S0&#45;&gt;S01</title>\n",
       "<path fill=\"none\" stroke=\"black\" d=\"M215.415,-49.5243C227.033,-45.4389 242.355,-40.0509 255.927,-35.2785\"/>\n",
       "<polygon fill=\"black\" stroke=\"black\" points=\"257.149,-38.5589 265.422,-31.9397 254.827,-31.9553 257.149,-38.5589\"/>\n",
       "<text text-anchor=\"middle\" x=\"240\" y=\"-45.8\" font-family=\"Times,serif\" font-size=\"14.00\">1 </text>\n",
       "</g>\n",
       "<!-- S01&#45;&gt;I -->\n",
       "<g id=\"edge6\" class=\"edge\"><title>S01&#45;&gt;I</title>\n",
       "<path fill=\"none\" stroke=\"black\" d=\"M264.775,-19.1281C250.728,-16.432 232.418,-13.3588 216,-12 198.283,-10.5337 193.704,-10.3795 176,-12 163.314,-13.1612 149.406,-15.572 137.723,-17.9302\"/>\n",
       "<polygon fill=\"black\" stroke=\"black\" points=\"136.778,-14.5525 127.718,-20.0437 138.225,-21.4013 136.778,-14.5525\"/>\n",
       "<text text-anchor=\"middle\" x=\"196\" y=\"-15.8\" font-family=\"Times,serif\" font-size=\"14.00\">1 </text>\n",
       "</g>\n",
       "<!-- F -->\n",
       "<g id=\"node5\" class=\"node\"><title>F</title>\n",
       "<ellipse fill=\"none\" stroke=\"black\" cx=\"384\" cy=\"-24\" rx=\"18\" ry=\"18\"/>\n",
       "<ellipse fill=\"none\" stroke=\"black\" cx=\"384\" cy=\"-24\" rx=\"22\" ry=\"22\"/>\n",
       "<text text-anchor=\"middle\" x=\"384\" y=\"-20.3\" font-family=\"Times,serif\" font-size=\"14.00\">F</text>\n",
       "</g>\n",
       "<!-- S01&#45;&gt;F -->\n",
       "<g id=\"edge7\" class=\"edge\"><title>S01&#45;&gt;F</title>\n",
       "<path fill=\"none\" stroke=\"black\" d=\"M313.95,-24C325.438,-24 339.35,-24 351.668,-24\"/>\n",
       "<polygon fill=\"black\" stroke=\"black\" points=\"351.98,-27.5001 361.98,-24 351.98,-20.5001 351.98,-27.5001\"/>\n",
       "<text text-anchor=\"middle\" x=\"338\" y=\"-27.8\" font-family=\"Times,serif\" font-size=\"14.00\">0 </text>\n",
       "</g>\n",
       "<!-- F&#45;&gt;F -->\n",
       "<g id=\"edge8\" class=\"edge\"><title>F&#45;&gt;F</title>\n",
       "<path fill=\"none\" stroke=\"black\" d=\"M375.63,-44.5808C374.472,-54.8447 377.262,-64 384,-64 388.317,-64 391.013,-60.2427 392.089,-54.8436\"/>\n",
       "<polygon fill=\"black\" stroke=\"black\" points=\"395.595,-54.6729 392.37,-44.5808 388.598,-54.4812 395.595,-54.6729\"/>\n",
       "<text text-anchor=\"middle\" x=\"384\" y=\"-82.8\" font-family=\"Times,serif\" font-size=\"14.00\">0 </text>\n",
       "<text text-anchor=\"middle\" x=\"384\" y=\"-67.8\" font-family=\"Times,serif\" font-size=\"14.00\"> 1 </text>\n",
       "</g>\n",
       "</g>\n",
       "</svg>\n"
      ],
      "text/plain": [
       "<graphviz.dot.Digraph at 0x7fb2faf12340>"
      ]
     },
     "execution_count": 5,
     "metadata": {},
     "output_type": "execute_result"
    }
   ],
   "source": [
    "dotObj_dfa(DFA010, FuseEdges=True)"
   ]
  },
  {
   "cell_type": "markdown",
   "metadata": {},
   "source": [
    "### Running DFA\n",
    "\n",
    "Now, we can step_dfa, run_dfa, and check for acceptance."
   ]
  },
  {
   "cell_type": "code",
   "execution_count": 6,
   "metadata": {},
   "outputs": [],
   "source": [
    "from jove.Def_DFA import *"
   ]
  },
  {
   "cell_type": "code",
   "execution_count": 7,
   "metadata": {},
   "outputs": [
    {
     "data": {
      "text/plain": [
       "True"
      ]
     },
     "execution_count": 7,
     "metadata": {},
     "output_type": "execute_result"
    }
   ],
   "source": [
    "accepts_dfa(DFA010, \"0110010\")"
   ]
  },
  {
   "cell_type": "markdown",
   "metadata": {},
   "source": [
    "### Testing the DFA in Numeric Order\n",
    "\n",
    "Testing a DFA according to strings in numeric order is a good idea,\n",
    "as it ekes out bugs with respect to short strings. Usually DFAs are\n",
    "\"good\" if they work for \"all short strings\" (or almost all). For this,\n",
    "we include LangDefs that defines \"nthnumeric\""
   ]
  },
  {
   "cell_type": "code",
   "execution_count": 8,
   "metadata": {},
   "outputs": [
    {
     "name": "stdout",
     "output_type": "stream",
     "text": [
      "You may use any of these help commands:\n",
      "help(lphi)\n",
      "help(lunit)\n",
      "help(lcat)\n",
      "help(lexp)\n",
      "help(lunion)\n",
      "help(lstar)\n",
      "help(srev)\n",
      "help(lrev)\n",
      "help(shomo)\n",
      "help(lhomo)\n",
      "help(powset)\n",
      "help(lint)\n",
      "help(lsymdiff)\n",
      "help(lminus)\n",
      "help(lissubset)\n",
      "help(lissuperset)\n",
      "help(lcomplem)\n",
      "help(product)\n",
      "help(nthnumeric)\n",
      "\n"
     ]
    }
   ],
   "source": [
    "from jove.LangDef import *"
   ]
  },
  {
   "cell_type": "code",
   "execution_count": 9,
   "metadata": {},
   "outputs": [
    {
     "name": "stdout",
     "output_type": "stream",
     "text": [
      "Help on function nthnumeric in module jove.LangDef:\n",
      "\n",
      "nthnumeric(N, S=['a', 'b'])\n",
      "    Assume S ('Sigma') is a 2-sized list of chars (default ['a','b']). \n",
      "    Produce the Nth string in numeric order, where N >= 0.\n",
      "    Idea : Given N, get b = floor(log_2(N+1)) - need that \n",
      "    many places; what to fill in the places is the binary \n",
      "    code for N - (2^b - 1) with 0 as S[0] and 1 as S[1].\n",
      "\n"
     ]
    }
   ],
   "source": [
    "help(nthnumeric)"
   ]
  },
  {
   "cell_type": "code",
   "execution_count": 10,
   "metadata": {},
   "outputs": [],
   "source": [
    "TestStrings = [nthnumeric(i, ['0','1']) for i in range(32)]\n",
    "\n",
    "TestStrings # All binary strings in length-order with lexicographic ordering per length group"
   ]
  },
  {
   "cell_type": "code",
   "execution_count": 11,
   "metadata": {},
   "outputs": [
    {
     "name": "stdout",
     "output_type": "stream",
     "text": [
      "DFA010 rejects  \n",
      "DFA010 rejects  0\n",
      "DFA010 rejects  1\n",
      "DFA010 rejects  00\n",
      "DFA010 rejects  01\n",
      "DFA010 rejects  10\n",
      "DFA010 rejects  11\n",
      "DFA010 rejects  000\n",
      "DFA010 rejects  001\n",
      "DFA010 accepts  010\n",
      "DFA010 rejects  011\n",
      "DFA010 rejects  100\n",
      "DFA010 rejects  101\n",
      "DFA010 rejects  110\n",
      "DFA010 rejects  111\n",
      "DFA010 rejects  0000\n",
      "DFA010 rejects  0001\n",
      "DFA010 accepts  0010\n",
      "DFA010 rejects  0011\n",
      "DFA010 accepts  0100\n",
      "DFA010 accepts  0101\n",
      "DFA010 rejects  0110\n",
      "DFA010 rejects  0111\n",
      "DFA010 rejects  1000\n",
      "DFA010 rejects  1001\n",
      "DFA010 accepts  1010\n",
      "DFA010 rejects  1011\n",
      "DFA010 rejects  1100\n",
      "DFA010 rejects  1101\n",
      "DFA010 rejects  1110\n",
      "DFA010 rejects  1111\n",
      "DFA010 rejects  00000\n"
     ]
    }
   ],
   "source": [
    "for test in TestStrings:\n",
    "    if accepts_dfa(DFA010, test):\n",
    "        print(\"DFA010 accepts \", test)\n",
    "    else:\n",
    "        print(\"DFA010 rejects \", test)    "
   ]
  },
  {
   "cell_type": "markdown",
   "metadata": {},
   "source": [
    "### Use of Filter to Pick Out All Strings Accepted\n",
    "\n",
    "While testing as above is reassuring, it is often a good idea to pick out\n",
    "the essence of a machine using the Python 'filter' command. See an example\n",
    "below. You can learn about Python functions and features \n",
    "from [a good Python tutorial](https://www.python-course.eu)"
   ]
  },
  {
   "cell_type": "code",
   "execution_count": 12,
   "metadata": {},
   "outputs": [
    {
     "data": {
      "text/plain": [
       "['010', '0010', '0100', '0101', '1010']"
      ]
     },
     "execution_count": 12,
     "metadata": {},
     "output_type": "execute_result"
    }
   ],
   "source": [
    "list(filter(lambda x: accepts_dfa(DFA010, x), TestStrings))"
   ]
  },
  {
   "cell_type": "markdown",
   "metadata": {},
   "source": [
    "## Animate Individual Machines\n",
    "\n",
    "This is how you can individually animate DFA created thus far"
   ]
  },
  {
   "cell_type": "code",
   "execution_count": 13,
   "metadata": {},
   "outputs": [
    {
     "data": {
      "application/vnd.jupyter.widget-view+json": {
       "model_id": "73cd0cd6afff4df9811e543faffe86be",
       "version_major": 2,
       "version_minor": 0
      },
      "text/plain": [
       "VBox(children=(HBox(children=(Text(value='', description='Input:', layout=Layout(width='500px'), placeholder='…"
      ]
     },
     "metadata": {},
     "output_type": "display_data"
    },
    {
     "data": {
      "text/html": [
       "<link rel=\"stylesheet\" href=\"//stackpath.bootstrapcdn.com/font-awesome/4.7.0/css/font-awesome.min.css\"/>"
      ],
      "text/plain": [
       "<IPython.core.display.HTML object>"
      ]
     },
     "metadata": {},
     "output_type": "display_data"
    }
   ],
   "source": [
    "from jove.AnimateDFA import *\n",
    "AnimateDFA(DFA010, FuseEdges=False)\n",
    "display(HTML('<link rel=\"stylesheet\" href=\"//stackpath.bootstrapcdn.com/font-awesome/4.7.0/css/font-awesome.min.css\"/>'))"
   ]
  },
  {
   "cell_type": "markdown",
   "metadata": {},
   "source": [
    "# <font color=blue> One can teach basic concepts thru Jupyter Widgets </font>"
   ]
  },
  {
   "cell_type": "code",
   "execution_count": 14,
   "metadata": {},
   "outputs": [
    {
     "data": {
      "application/vnd.jupyter.widget-view+json": {
       "model_id": "616e15645af94b54bc28086e09685bae",
       "version_major": 2,
       "version_minor": 0
      },
      "text/plain": [
       "interactive(children=(Dropdown(description='L', options={'L3': {'b', 'c', 'a'}, 'L1': {'bc', 'a'}, 'L2': {'bc'…"
      ]
     },
     "metadata": {},
     "output_type": "display_data"
    },
    {
     "data": {
      "text/plain": [
       "<function jove.LangDef.lstar(L, n)>"
      ]
     },
     "execution_count": 14,
     "metadata": {},
     "output_type": "execute_result"
    }
   ],
   "source": [
    "import ipywidgets as wdg\n",
    "L1 = {'a','bc'}\n",
    "L2 = {'ab','bc'}\n",
    "L3 = {'a','b','c'}\n",
    "M =  {'011', '111', '11', '0111', '00111', '1'}\n",
    "\n",
    "wdg.interact(lstar,\n",
    "L={'L3': L3, 'L1': L1, 'L2':L2, 'M': M, 'lphi': lphi(), 'lunit' : lunit()}, n=(0,7))"
   ]
  },
  {
   "cell_type": "markdown",
   "metadata": {},
   "source": [
    "# <font color=blue> One can teach practical concepts - Parsing </font>"
   ]
  },
  {
   "cell_type": "markdown",
   "metadata": {},
   "source": [
    "### See Calculator_with_Parse_Tree_Drawing.ipynb "
   ]
  },
  {
   "cell_type": "markdown",
   "metadata": {},
   "source": [
    "# <font color=blue> Teach Machine Conversions and Property Checking </font>"
   ]
  },
  {
   "cell_type": "code",
   "execution_count": 20,
   "metadata": {},
   "outputs": [
    {
     "data": {
      "text/plain": [
       "{'Q': {'St1', 'St2', 'St3', 'St4', 'St5', 'St6', 'St7'},\n",
       " 'Sigma': {'a', 'b'},\n",
       " 'Delta': {('St7', ''): {'St3'},\n",
       "  ('St3', ''): {'St1', 'St6'},\n",
       "  ('St1', 'a'): {'St2'},\n",
       "  ('St2', ''): {'St3'},\n",
       "  ('St6', ''): {'St4', 'St7'},\n",
       "  ('St4', 'b'): {'St5'},\n",
       "  ('St5', ''): {'St6'}},\n",
       " 'Q0': {'St7'},\n",
       " 'F': {'St7'}}"
      ]
     },
     "execution_count": 20,
     "metadata": {},
     "output_type": "execute_result"
    }
   ],
   "source": [
    "re2nfa(\"(a*b*)*\")"
   ]
  },
  {
   "cell_type": "code",
   "execution_count": 15,
   "metadata": {},
   "outputs": [],
   "source": [
    "md = min_dfa(nfa2dfa(re2nfa(\"(a*b*)*\")))"
   ]
  },
  {
   "cell_type": "code",
   "execution_count": 16,
   "metadata": {},
   "outputs": [],
   "source": [
    "md_alt = nfa2dfa(re2nfa(\"(a+b)*\"))"
   ]
  },
  {
   "cell_type": "code",
   "execution_count": 17,
   "metadata": {},
   "outputs": [
    {
     "data": {
      "text/plain": [
       "True"
      ]
     },
     "execution_count": 17,
     "metadata": {},
     "output_type": "execute_result"
    }
   ],
   "source": [
    "langeq_dfa(md, md_alt)"
   ]
  },
  {
   "cell_type": "code",
   "execution_count": 18,
   "metadata": {},
   "outputs": [
    {
     "data": {
      "text/plain": [
       "False"
      ]
     },
     "execution_count": 18,
     "metadata": {},
     "output_type": "execute_result"
    }
   ],
   "source": [
    "iso_dfa(md, md_alt)"
   ]
  },
  {
   "cell_type": "code",
   "execution_count": 19,
   "metadata": {},
   "outputs": [
    {
     "name": "stdout",
     "output_type": "stream",
     "text": [
      "Help on function iso_dfa in module jove.Def_DFA:\n",
      "\n",
      "iso_dfa(D1, D2)\n",
      "    Given consistent and total DFAs D1 and D2,\n",
      "    check whether they are isomorphic. Two DFAs\n",
      "    are isomorphic if they have the same number\n",
      "    of states and are language-equivalent. (One would\n",
      "    then be able to match-up state for state and transition\n",
      "    for transition.)\n",
      "\n"
     ]
    }
   ],
   "source": [
    "help(iso_dfa)"
   ]
  },
  {
   "cell_type": "code",
   "execution_count": null,
   "metadata": {},
   "outputs": [],
   "source": []
  }
 ],
 "metadata": {
  "kernelspec": {
   "display_name": "Python 3",
   "language": "python",
   "name": "python3"
  },
  "language_info": {
   "codemirror_mode": {
    "name": "ipython",
    "version": 3
   },
   "file_extension": ".py",
   "mimetype": "text/x-python",
   "name": "python",
   "nbconvert_exporter": "python",
   "pygments_lexer": "ipython3",
   "version": "3.8.5"
  }
 },
 "nbformat": 4,
 "nbformat_minor": 2
}

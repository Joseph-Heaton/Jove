{
 "cells": [
  {
   "cell_type": "markdown",
   "metadata": {},
   "source": [
    "# <font color=blue> First, some imports that help run this notebook on your own laptop or on Colab </font>"
   ]
  },
  {
   "cell_type": "code",
   "execution_count": null,
   "metadata": {},
   "outputs": [],
   "source": [
    "import sys\n",
    "try:\n",
    "    import google.colab\n",
    "    OWN_INSTALL = False\n",
    "except:\n",
    "    OWN_INSTALL = True  \n",
    "if OWN_INSTALL:\n",
    "    print(\"Running on own machine. Include # sys.path[0:0] = [ '..', '../3rdparty' ] .. as needed\")\n",
    "    sys.path[0:0] = ['../../../../..',  '../../../../../3rdparty',  \n",
    "                     '../../../..',  '../../../../3rdparty',  \n",
    "                     '../../..',     '../../../3rdparty', \n",
    "                     '../..',        '../../3rdparty',\n",
    "                     '..',           '../3rdparty']\n",
    "\n",
    "else:\n",
    "    ! if [ ! -d Jove ]; then git clone https://github.com/ganeshutah/Jove Jove; fi\n",
    "    sys.path.append('./Jove')       # Set paths for Colab\n",
    "    sys.path.append('./Jove/jove')\n",
    "# -- Now include common imports - either here, or just before when needed --\n",
    "\n",
    "# -- these are almost always needed  \n",
    "from jove.Def_md2mc  import * # -- to convert markdowns to machines\n",
    "from jove.DotBashers import * # -- to draw machines\n",
    "\n",
    "from jove.Def_NFA    import *\n",
    "from jove.Def_RE2NFA import *\n",
    "\n",
    "from jove.SystemImports import *\n",
    "\n",
    "from jove.Def_PDA       import *\n",
    "from jove.AnimatePDA    import *"
   ]
  },
  {
   "cell_type": "markdown",
   "metadata": {},
   "source": [
    "# <font color=blue> Overview of Jove </font>\n",
    "\n",
    "### * Jove Helps Teach Automata and Computability Interactively\n",
    "    \n",
    "####  <font color=blue>One's learning is not shortchanged by the added fun / intuition</font>\n",
    "####  <font color=blue>One can attempt to construct larger machines and debug using given tooling</font>\n",
    "####  <font color=blue>Promotes retention, and a true liking of this topic that is central to rigorous software specification </font>\n",
    "\n",
    "\n",
    "### * No Software Installation - Runs on Colab under Jupyter Notebooks \n",
    "\n",
    "### * Supports Machine Construction, Animation, Property Checking\n",
    "\n",
    "### * Assignments Delivered via Half-Filled Notebooks - Finished by Students\n",
    "\n",
    "### * Helps Teach Practical, Formal Aspects - e.g. Parsing, Ambiguity, Decision Diagrams\n",
    "\n",
    "### * Students Appreciate How Theory Turns into Practice\n",
    "\n",
    "### * Community Contributed Problems a Possibility\n",
    "\n"
   ]
  },
  {
   "cell_type": "markdown",
   "metadata": {},
   "source": [
    "# <font color=blue> The Full Animation Panel </font>\n",
    "\n",
    "### This animation panel was written by Paul C.J. Carlson and presents all of Jove's Machines in one panel.\n",
    "\n",
    "### Let us animate a Turing Machine!"
   ]
  },
  {
   "cell_type": "code",
   "execution_count": null,
   "metadata": {
    "scrolled": true
   },
   "outputs": [],
   "source": [
    "from jove.JoveEditor import *\n",
    "JoveEditor(examples=True)\n",
    "display(HTML('<link rel=\"stylesheet\" href=\"//stackpath.bootstrapcdn.com/font-awesome/4.7.0/css/font-awesome.min.css\"/>'))"
   ]
  },
  {
   "cell_type": "markdown",
   "metadata": {},
   "source": [
    "# <font color=blue> Define and Draw Machines </font>\n",
    "\n",
    "### One can define and draw individual machines also, well documented!"
   ]
  },
  {
   "cell_type": "code",
   "execution_count": null,
   "metadata": {},
   "outputs": [],
   "source": [
    "DFA010 = md2mc('''\n",
    "DFA\n",
    "\n",
    "!! Overall plans: Name states to reflect information being recorded\n",
    "\n",
    "!! The initial state is not final, since a 010 has not been seen.\n",
    "!! Thus the initial state name is \"I\" and not \"IF\"\n",
    "\n",
    "!! Below, with each state such as I or S0, we provide both the moves out of it\n",
    "!! For larger alphabets, provide all the moves in a bunch. \n",
    "\n",
    "!! We prefer to first list moves that are not too interesting; this way you can \n",
    "!! forget those cases and move on.\n",
    "\n",
    "I : 1 -> I  !! Upon a '1', no progress toward 010, so throw '1' away\n",
    "I : 0 -> S0 !! '0' is interesting, as it is progressing toward 010; record it in the state\n",
    "\n",
    "S0 : 0 -> S0  !! No further progress, but progress so far is not lost either; stay at S0\n",
    "S0 : 1 -> S01 !! Now progress toward 010\n",
    "\n",
    "S01 : 1 -> I !! A \"spoiler\" of a '1' is seen. We revert back to I and start all over.\n",
    "S01 : 0 -> F !! Seen a 010. No more work to do!\n",
    "\n",
    "F : 0|1 -> F  !! Remain at F, having seen a 010\n",
    "''')"
   ]
  },
  {
   "cell_type": "code",
   "execution_count": null,
   "metadata": {},
   "outputs": [],
   "source": [
    "dotObj_dfa(DFA010)"
   ]
  },
  {
   "cell_type": "markdown",
   "metadata": {},
   "source": [
    "### Fuse the Edges for Neatness\n",
    "\n",
    "We like to see all the edges separately to see \"it is all there\". \n",
    "After that, we want to fuse multiple edges between states. The\n",
    "\"FuseEdges=True\" below accomplishes that."
   ]
  },
  {
   "cell_type": "code",
   "execution_count": null,
   "metadata": {},
   "outputs": [],
   "source": [
    "dotObj_dfa(DFA010, FuseEdges=True)"
   ]
  },
  {
   "cell_type": "markdown",
   "metadata": {},
   "source": [
    "### Running DFA\n",
    "\n",
    "Now, we can step_dfa, run_dfa, and check for acceptance."
   ]
  },
  {
   "cell_type": "code",
   "execution_count": null,
   "metadata": {},
   "outputs": [],
   "source": [
    "from jove.Def_DFA import *"
   ]
  },
  {
   "cell_type": "code",
   "execution_count": null,
   "metadata": {},
   "outputs": [],
   "source": [
    "accepts_dfa(DFA010, \"0110010\")"
   ]
  },
  {
   "cell_type": "markdown",
   "metadata": {},
   "source": [
    "### Testing the DFA in Numeric Order\n",
    "\n",
    "Testing a DFA according to strings in numeric order is a good idea,\n",
    "as it ekes out bugs with respect to short strings. Usually DFAs are\n",
    "\"good\" if they work for \"all short strings\" (or almost all). For this,\n",
    "we include LangDefs that defines \"nthnumeric\""
   ]
  },
  {
   "cell_type": "code",
   "execution_count": null,
   "metadata": {},
   "outputs": [],
   "source": [
    "from jove.LangDef import *"
   ]
  },
  {
   "cell_type": "code",
   "execution_count": null,
   "metadata": {},
   "outputs": [],
   "source": [
    "help(nthnumeric)"
   ]
  },
  {
   "cell_type": "code",
   "execution_count": null,
   "metadata": {},
   "outputs": [],
   "source": [
    "TestStrings = [nthnumeric(i, ['0','1']) for i in range(32)]\n",
    "\n",
    "TestStrings # All binary strings in length-order with lexicographic ordering per length group"
   ]
  },
  {
   "cell_type": "code",
   "execution_count": null,
   "metadata": {},
   "outputs": [],
   "source": [
    "for test in TestStrings:\n",
    "    if accepts_dfa(DFA010, test):\n",
    "        print(\"DFA010 accepts \", test)\n",
    "    else:\n",
    "        print(\"DFA010 rejects \", test)    "
   ]
  },
  {
   "cell_type": "markdown",
   "metadata": {},
   "source": [
    "### Use of Filter to Pick Out All Strings Accepted\n",
    "\n",
    "While testing as above is reassuring, it is often a good idea to pick out\n",
    "the essence of a machine using the Python 'filter' command. See an example\n",
    "below. You can learn about Python functions and features \n",
    "from [a good Python tutorial](https://www.python-course.eu)"
   ]
  },
  {
   "cell_type": "code",
   "execution_count": null,
   "metadata": {},
   "outputs": [],
   "source": [
    "list(filter(lambda x: accepts_dfa(DFA010, x), TestStrings))"
   ]
  },
  {
   "cell_type": "markdown",
   "metadata": {},
   "source": [
    "## Animate Individual Machines\n",
    "\n",
    "This is how you can individually animate DFA created thus far"
   ]
  },
  {
   "cell_type": "code",
   "execution_count": null,
   "metadata": {},
   "outputs": [],
   "source": [
    "from jove.AnimateDFA import *\n",
    "AnimateDFA(DFA010, FuseEdges=False)\n",
    "display(HTML('<link rel=\"stylesheet\" href=\"//stackpath.bootstrapcdn.com/font-awesome/4.7.0/css/font-awesome.min.css\"/>'))"
   ]
  },
  {
   "cell_type": "markdown",
   "metadata": {},
   "source": [
    "# <font color=blue> One can teach basic concepts thru Jupyter Widgets </font>"
   ]
  },
  {
   "cell_type": "code",
   "execution_count": null,
   "metadata": {},
   "outputs": [],
   "source": [
    "import ipywidgets as wdg\n",
    "L1 = {'a','bc'}\n",
    "L2 = {'ab','bc'}\n",
    "L3 = {'a','b','c'}\n",
    "M =  {'011', '111', '11', '0111', '00111', '1'}\n",
    "\n",
    "wdg.interact(lstar,\n",
    "L={'L3': L3, 'L1': L1, 'L2':L2, 'M': M, 'lphi': lphi(), 'lunit' : lunit()}, n=(0,7))"
   ]
  },
  {
   "cell_type": "markdown",
   "metadata": {},
   "source": [
    "# <font color=blue> One can teach practical concepts - Parsing </font>"
   ]
  },
  {
   "cell_type": "markdown",
   "metadata": {},
   "source": [
    "### See Calculator_with_Parse_Tree_Drawing.ipynb "
   ]
  },
  {
   "cell_type": "markdown",
   "metadata": {},
   "source": [
    "# <font color=blue> Teach Machine Conversions and Property Checking </font>\n",
    "\n",
    "## Your $ \\langle Q, \\Sigma, \\Delta, Q_0, F\\rangle $ are literally below as Python Dicts!\n",
    "\n",
    "## Students learn to write many parsers, including how this RE itself is parsed!"
   ]
  },
  {
   "cell_type": "code",
   "execution_count": null,
   "metadata": {},
   "outputs": [],
   "source": [
    "re2nfa(\"(a*b*)*\")"
   ]
  },
  {
   "cell_type": "code",
   "execution_count": null,
   "metadata": {},
   "outputs": [],
   "source": [
    "md = min_dfa(nfa2dfa(re2nfa(\"(a*b*)*\")))"
   ]
  },
  {
   "cell_type": "code",
   "execution_count": null,
   "metadata": {},
   "outputs": [],
   "source": [
    "md_alt = nfa2dfa(re2nfa(\"(a+b)*\"))"
   ]
  },
  {
   "cell_type": "code",
   "execution_count": null,
   "metadata": {},
   "outputs": [],
   "source": [
    "langeq_dfa(md, md_alt)"
   ]
  },
  {
   "cell_type": "code",
   "execution_count": null,
   "metadata": {},
   "outputs": [],
   "source": [
    "iso_dfa(md, md_alt)"
   ]
  },
  {
   "cell_type": "code",
   "execution_count": null,
   "metadata": {},
   "outputs": [],
   "source": [
    "help(iso_dfa)"
   ]
  },
  {
   "cell_type": "markdown",
   "metadata": {},
   "source": [
    "# <font color=blue> Brzozowski's Minimization of DFA in One Line of Python! </font>"
   ]
  },
  {
   "cell_type": "code",
   "execution_count": null,
   "metadata": {},
   "outputs": [],
   "source": [
    "def min_dfa_brzozowski(D):\n",
    "    '''Reverse the DFA D; \n",
    "       Then Determinize the resulting NFA; \n",
    "       Do these 2 steps once more.\n",
    "       The result is the minimal DFA!\n",
    "    '''\n",
    "    return nfa2dfa(rev_dfa(nfa2dfa(rev_dfa(D))))"
   ]
  },
  {
   "cell_type": "code",
   "execution_count": null,
   "metadata": {},
   "outputs": [],
   "source": [
    "dotObj_dfa(min_dfa_brzozowski(nfa2dfa(re2nfa(\"(a*b*)*\"))))"
   ]
  },
  {
   "cell_type": "markdown",
   "metadata": {},
   "source": [
    "# <font color=blue> Parsing Using a PDA That Implements an Ambiguous Grammar </font>"
   ]
  },
  {
   "cell_type": "code",
   "execution_count": null,
   "metadata": {},
   "outputs": [],
   "source": [
    "# Parsing an arithmetic expression\n",
    "pdaE_Amb = md2mc('''PDA\n",
    "!!E -> E * E | E + E | ~E | ( E ) | 2 | 3\n",
    "I : '', #  ; E#  -> M\n",
    "M : '', E  ; ~E  -> M\n",
    "M : '', E  ; E+E -> M\n",
    "M : '', E  ; E*E -> M\n",
    "M : '', E  ; (E) -> M\n",
    "M : '', E  ; 2   -> M\n",
    "M : '', E  ; 3   -> M\n",
    "M : ~,  ~  ; ''  -> M\n",
    "M : 2,  2  ; ''  -> M\n",
    "M : 3,  3  ; ''  -> M\n",
    "M : (,  (  ; ''  -> M\n",
    "M : ),  )  ; ''  -> M\n",
    "M : +,  +  ; ''  -> M\n",
    "M : *,  *  ; ''  -> M\n",
    "M : '', #  ; #   -> F\n",
    "'''\n",
    ")"
   ]
  },
  {
   "cell_type": "code",
   "execution_count": null,
   "metadata": {},
   "outputs": [],
   "source": [
    "explore_pda(\"3+2*3\", pdaE_Amb, STKMAX=8)"
   ]
  },
  {
   "cell_type": "markdown",
   "metadata": {},
   "source": [
    "# <font color=blue> Parsing Using a PDA That Implements an Unmbiguous Grammar </font>"
   ]
  },
  {
   "cell_type": "code",
   "execution_count": null,
   "metadata": {},
   "outputs": [],
   "source": [
    "# Parsing an arithmetic expression\n",
    "pdaE_Unamb = md2mc('''PDA\n",
    "!!E -> E+T | T\n",
    "!!T -> T*F | F\n",
    "!!F -> 2 | 3 | ~F | (E)\n",
    "I : '', #  ; E#  -> M\n",
    "M : '', E  ; E+T -> M\n",
    "M : '', E  ; T   -> M\n",
    "M : '', T  ; T*F -> M\n",
    "M : '', T  ; F   -> M\n",
    "M : '', F  ; 2   -> M\n",
    "M : '', F  ; 3   -> M\n",
    "M : '', F  ; ~F  -> M\n",
    "M : '', F  ; (E) -> M\n",
    "M : ~,  ~  ; ''  -> M\n",
    "M : 2,  2  ; ''  -> M\n",
    "M : 3,  3  ; ''  -> M\n",
    "M : (,  (  ; ''  -> M\n",
    "M : ),  )  ; ''  -> M\n",
    "M : +,  +  ; ''  -> M\n",
    "M : *,  *  ; ''  -> M\n",
    "M : '', #  ; #   -> F\n",
    "'''\n",
    ")"
   ]
  },
  {
   "cell_type": "code",
   "execution_count": null,
   "metadata": {},
   "outputs": [],
   "source": [
    "explore_pda(\"3+2*3\", pdaE_Unamb, STKMAX=8)"
   ]
  },
  {
   "cell_type": "markdown",
   "metadata": {},
   "source": [
    "# <font color=blue> Literally 100s of Jove Notebooks Available with Weekly Lesson Plans! </font>"
   ]
  }
 ],
 "metadata": {
  "kernelspec": {
   "display_name": "Python 3",
   "language": "python",
   "name": "python3"
  },
  "language_info": {
   "codemirror_mode": {
    "name": "ipython",
    "version": 3
   },
   "file_extension": ".py",
   "mimetype": "text/x-python",
   "name": "python",
   "nbconvert_exporter": "python",
   "pygments_lexer": "ipython3",
   "version": "3.8.5"
  }
 },
 "nbformat": 4,
 "nbformat_minor": 2
}

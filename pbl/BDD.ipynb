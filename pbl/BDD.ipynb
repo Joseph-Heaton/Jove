{
 "cells": [
  {
   "cell_type": "code",
   "execution_count": null,
   "metadata": {
    "colab": {
     "base_uri": "https://localhost:8080/"
    },
    "id": "g8PM6TIXtZha",
    "outputId": "efe1c963-c924-4cd2-8272-201170f4ea37",
    "run_control": {
     "frozen": false,
     "read_only": false
    }
   },
   "outputs": [],
   "source": [
    "#~~~~~~~~~~~~~~~~~~~~~~~~~~~~~~~~~~~~~~~~~~~~~~~~~~~~~~~\n",
    "import sys\n",
    "\n",
    "sys.path[0:0] = ['./Jove/pbl/python',\n",
    "                   './Jove/pbl/python/BDD_V2',\n",
    "                   './Jove/pbl/python/BDD_V2/BDD_V2',\n",
    "                   './Jove/pbl/python/BDD_V2/BDD_V2/include',\n",
    "                   './Jove/pbl/python/PyBool',\n",
    "                   './Jove/pbl/python/PyBool/include',\n",
    "                   './Jove/pbl/python/PyBool/include/ply'\n",
    "                ]\n",
    "! if [ ! -d Jove ]; then git clone https://github.com/ganeshutah/Jove Jove; fi"
   ]
  },
  {
   "cell_type": "code",
   "execution_count": null,
   "metadata": {
    "colab": {
     "base_uri": "https://localhost:8080/"
    },
    "id": "3_v_avMUtZhg",
    "outputId": "1bcac028-0edd-45ce-8cb1-3c48d755c214",
    "run_control": {
     "frozen": false,
     "read_only": false
    }
   },
   "outputs": [],
   "source": [
    "from BDD import *\n",
    "from BDD_ite import *\n",
    "from BDD_ite1 import *\n",
    "from dot_bdd import *\n",
    "\n",
    "from PBL_CNF import *\n",
    "from PBL_NNE import *\n",
    "\n",
    "from PyBool_algorithms import *\n",
    "from PyBool_builder import *\n",
    "from PyBool_dimacs_parse import *\n",
    "from PyBool_public_interface import *\n",
    "from PyBool_std_parse import *\n",
    "\n",
    "from ply import *\n",
    "from cpp import *\n",
    "from ctokens import *\n",
    "from lex import *\n",
    "from yacc import *\n",
    "from buildBDD import *\n",
    "from buildBDDMin import *\n",
    "from common import *\n",
    "#~~~~~~~~~~~~~~~~~~~~~~~~~~~~~~~~~~~~~~~~~~~~~~~~~~~~~~~"
   ]
  },
  {
   "cell_type": "markdown",
   "metadata": {},
   "source": [
    "# Here is the language specification for using BDDs\n",
    "\n",
    "\n",
    "Tyler Sorensen\n",
    "February 18, 2012\n",
    "University of Utah\n",
    "\n",
    "This file contains the Specs for the standard input language of PyBool\n",
    "It was implemented using the ply python package and all code can\n",
    "be found in the file PyBool_std_parse.py.\n",
    "\n",
    "\n",
    "-------------------------------------------------------------\n",
    "---Legal Operators-------------------------------------------\n",
    "-------------------------------------------------------------\n",
    "\n",
    "The legal operators are:\n",
    "\n",
    "And -            noted: &\n",
    "Or -             noted: |\n",
    "logically equal- noted: <=>\n",
    "implies -\t noted: =>\n",
    "not -\t\t noted: ~\n",
    "Exclusive or -\t noted: XOR\n",
    "Parenthesis  -   noted: ( )\n",
    "\n",
    "They corespond to their usual meaning in Boolean Algebra\n",
    "\n",
    "-------------------------------------------------------------\n",
    "---Key Words-------------------------------------------------\n",
    "-------------------------------------------------------------\n",
    "\n",
    "The following are keywords that cannot be used as variable\n",
    "names along with a brief description\n",
    "\n",
    "Var_Order\n",
    "Used in declaring the variable ordering\n",
    "\n",
    "Main_Exp\n",
    "Used in identifying the expression to consider\n",
    "\n",
    "XOR\n",
    "the exclusive or operator\n",
    "\n",
    "-------------------------------------------------------------\n",
    "---Key Words and Variables-----------------------------------\n",
    "-------------------------------------------------------------\n",
    "\n",
    "Variables, much like any other language are a string of characters.\n",
    "\n",
    "The restrictions on variable names are the following:\n",
    "\n",
    "-Cannot start with a symbol or a 0 or 1 (must start with a letter)\n",
    "\n",
    "-Cannot be a keyword\n",
    "\n",
    "There are two types of variables, literal variables and formula \n",
    "variables. \n",
    "\n",
    "Literal variables hold a 0 or a 1\n",
    "\n",
    "Formula variables hold an expression and are declared simply by assigning\n",
    "them.\n",
    "\n",
    "-------------------------------------------------------------\n",
    "--Variable Declaration---------------------------------------\n",
    "-------------------------------------------------------------\n",
    "\n",
    "-Literal Variables and Var_Order\n",
    "\n",
    "Some applications of Boolean formula require an explicit variable\n",
    "ordering to be declared. This is what the Var_Order keyword is for.\n",
    "To explicity declare a variable order, simply write\n",
    "Var_Order : List_of_Variables\n",
    "\n",
    "example:\n",
    "Var_Order : x1 x2 x3\n",
    "\n",
    "You are not limited to one Var_Order statement, as you might want\n",
    "to add variables later on, just don't repeat variable declarations.\n",
    "\n",
    "-Formula Variables\n",
    "\n",
    "To declare a formula variable, simply use the assignment operator '='\n",
    "For example, if you wanted the variable X to hold the following formula:\n",
    "x1 & x2 & ~x3 you would simply write the line:\n",
    "\n",
    "X = x1 & x2 & ~x3\n",
    "\n",
    "Now X can be used in other formulas in place of x1 & x2 & ~x3\n",
    "\n",
    "-------------------------------------------------------------\n",
    "--Main_Exp---------------------------------------------------\n",
    "-------------------------------------------------------------\n",
    "\n",
    "Once you have all your expression written, you need to tell the\n",
    "BDD which expression you actually want solved. It can be useful\n",
    "to have many \"sub\" expression but only solve certain combinations\n",
    "of them at a time. This is done with the Main_Exp keyword. \n",
    "\n",
    "Say you have two formulas stored in X1 and X2 and you want to \n",
    "solve the conjunction of the formulas, you would write:\n",
    "\n",
    "Main_Exp : X1 & X2\n",
    "\n",
    "Notice how Main_Exp is followed by a ':'\n",
    "\n",
    "In general Main_Exp is\n",
    "\n",
    "Main_Exp : expression\n",
    "\n",
    "where expression is any valid expression consisting of literals,\n",
    "literal variables or formula variables.\n",
    "\n",
    "-------------------------------------------------------------\n",
    "--Msc--------------------------------------------------------\n",
    "-------------------------------------------------------------\n",
    "\n",
    "A few final points:\n",
    "\n",
    "Comments are started with a # symbol will render the rest\n",
    "of the line as a comment. \n",
    "\n",
    "Semi Colons are ignored, so if it is your style to end lines with\n",
    "a semi colon, please do so.\n",
    "\n",
    "-------------------------------------------------------------\n",
    "--Putting it all together - an Example-----------------------\n",
    "-------------------------------------------------------------"
   ]
  },
  {
   "cell_type": "markdown",
   "metadata": {
    "id": "mLWaD0q6tZhh",
    "outputId": "a6b85b7b-bb8b-489b-beda-b3b7455c5f2d"
   },
   "source": [
    "# A practice example"
   ]
  },
  {
   "cell_type": "code",
   "execution_count": null,
   "metadata": {
    "id": "tWC8_ptgFWXG"
   },
   "outputs": [],
   "source": [
    "ex1 = '''\n",
    "Var_Order : x1 x2 x3\n",
    "Var_Order : x4\n",
    "sub = ~x1 & x2 & (x3 | x4)\n",
    "sub_True = 1\n",
    "Main_Exp : sub -> sub_True\n",
    "'''"
   ]
  },
  {
   "cell_type": "code",
   "execution_count": null,
   "metadata": {
    "colab": {
     "base_uri": "https://localhost:8080/",
     "height": 763
    },
    "id": "9ctrGuPL3irY",
    "outputId": "23f697d4-02f4-47d9-f207-496fa19bea1a"
   },
   "outputs": [],
   "source": [
    "buildBDDmain(ex1.splitlines())\n",
    "\n",
    "import graphviz\n",
    "from IPython.display import Image\n",
    "import pydot\n",
    "\n",
    "graphs = pydot.graph_from_dot_file(final_dot_file+\".dot\")\n",
    "graph = graphs[0]\n",
    "graph.write_png(final_dot_file+'.png')\n",
    "from IPython.display import Image\n",
    "Image(final_dot_file+'.png', width=300)"
   ]
  },
  {
   "cell_type": "markdown",
   "metadata": {},
   "source": [
    "# Lewis Carroll's Example of \"Wise Young Pigs\""
   ]
  },
  {
   "cell_type": "code",
   "execution_count": null,
   "metadata": {},
   "outputs": [],
   "source": [
    "Carroll='''\n",
    "#Input for a Lewis Carroll problem\n",
    "#Written in the mark up language for the python BDD manager\n",
    "\n",
    "#Declare all the variables. Notice how you can use\n",
    "#more than one line.\n",
    "Var_Order : eatPennyBuns old young danceTightRopes\n",
    "Var_Order : pigs respect giddy publicLunch ridiculous\n",
    "Var_Order : umbrella fat wise balloon \n",
    "\n",
    "#These are the Premises\n",
    "P1 = (~danceTightRopes & ~eatPennyBuns) => old \n",
    "P2 = (pigs & giddy) => respect\n",
    "P3 = (ridiculous & eatPennyBuns) => ~publicLunch\n",
    "P4 = (young & balloon) => giddy\n",
    "P5 = (wise & balloon) => umbrella\n",
    "P6 = (fat & ridiculous & ~danceTightRopes) => publicLunch\n",
    "P7 = (wise & giddy) => ~danceTightRopes\n",
    "P8 = (pigs & umbrella) => ridiculous\n",
    "P9 = (~danceTightRopes & respect) => fat  \n",
    "\n",
    "#This is the extra statement needed\n",
    "Extra = old <=> ~young \n",
    "\n",
    "#This is the conclusion\n",
    "C = (wise & young & pigs) => ~balloon\n",
    "\n",
    "#This is all the premises conjoined\n",
    "P_All = P1 & P2 & P3 & P4 & P5 & P6 & P7 & P8 & P9\n",
    "\n",
    "#The main expression to be considered.\n",
    "Main_Exp : P_All & Extra & ~C\n",
    "'''"
   ]
  },
  {
   "cell_type": "code",
   "execution_count": null,
   "metadata": {},
   "outputs": [],
   "source": [
    "buildBDDmain(Carroll.splitlines())\n",
    "\n",
    "import graphviz\n",
    "from IPython.display import Image\n",
    "import pydot\n",
    "\n",
    "graphs = pydot.graph_from_dot_file(final_dot_file+\".dot\")\n",
    "graph = graphs[0]\n",
    "graph.write_png(final_dot_file+'.png')\n",
    "from IPython.display import Image\n",
    "Image(final_dot_file+'.png', width=600)"
   ]
  },
  {
   "cell_type": "markdown",
   "metadata": {
    "id": "uYxwPle_3irY"
   },
   "source": [
    "# Question 1 : uncomment and rerun as needed\n",
    "\n",
    "## Uncomment enough Var_Order declarations to provide the required variable definitions\n",
    "\n",
    "## Leave one Main_Exp for final use; its BDD will be built\n",
    "\n",
    "## Make sure Main_Exp has all the defined Var_Order variables + all supporting defns\n",
    "\n",
    "## Increase width=300 to something higher (e.g. 600) if the BDD is small\n",
    "\n",
    "## Follow the remaining instructions\n",
    "\n"
   ]
  },
  {
   "cell_type": "code",
   "execution_count": null,
   "metadata": {
    "id": "4bK_aCJzFnE5"
   },
   "outputs": [],
   "source": [
    "# Q1 as given to you is below. Again, follow the instructions as above\n",
    "\n",
    "Q1 = '''\n",
    "#\n",
    "# Var_Order : a3, a2, a1, a0, b3, b2, b1, b0    \n",
    "#\n",
    "# Var_Order : something else -- DISCOVER THAT BETTER Var_Order and write here, removing the above!!\n",
    "#\n",
    "lt1 = (~a3 & b3) | (~a2 & b2) | (~a1 & b1) | (~a0 & b0)\n",
    "gt1 = (a3 & ~b3) | (a2 & ~b2) | (a1 & ~b1) | (a0 & ~b0)\n",
    "lt2 = ~a3 & b3 | (a3<=>b3) & (~a2 & b2 | ((a2<=>b2) & (~a1 & b1 | (a1<=>b1) & ~a0 & b0)))\n",
    "gt2 = a3 & ~b3 | (a3<=>b3) & (a2 & ~b2 | ((a2<=>b2) & (a1 & ~b1 | (a1<=>b1) & a0 & ~b0)))\n",
    "eq = (a3 <=> b3) & (a2 <=> b2) & (a1 <=> b1) & (a0 <=> b0)\n",
    "# \n",
    "# Enable one of the Main_Exp below\n",
    "#\n",
    "Main_Exp  : lt1 & gt1\n",
    "#3 Main_Exp  : lt1 & gt1\n",
    "#4 Main_Exp  : lt2 & gt2\n",
    "#5 Main_Exp  : (lt1 & ~gt1) <=> lt1\n",
    "#6 Main_Exp  : (lt2 & ~gt2) <=> lt2\n",
    "'''"
   ]
  },
  {
   "cell_type": "code",
   "execution_count": null,
   "metadata": {
    "colab": {
     "base_uri": "https://localhost:8080/",
     "height": 1000
    },
    "id": "xMTtfHLfE9fM",
    "outputId": "72641dd1-a273-44b7-ad85-89a15e6495d5"
   },
   "outputs": [],
   "source": [
    "buildBDDmain(Q1.splitlines())\n",
    "\n",
    "import graphviz\n",
    "from IPython.display import Image\n",
    "import pydot\n",
    "\n",
    "graphs = pydot.graph_from_dot_file(final_dot_file+\".dot\")\n",
    "graph = graphs[0]\n",
    "graph.write_png(final_dot_file+'.png')\n",
    "from IPython.display import Image\n",
    "Image(final_dot_file+'.png', width=600)"
   ]
  },
  {
   "cell_type": "markdown",
   "metadata": {
    "id": "U3MHEfYMGJxX"
   },
   "source": [
    "# Space to enter Q2 is below"
   ]
  },
  {
   "cell_type": "code",
   "execution_count": null,
   "metadata": {
    "id": "JN3kHJ8e3irc"
   },
   "outputs": [],
   "source": [
    "Q2 = '''\n",
    "# Enter your BDD code below\n",
    "#...\n",
    "'''"
   ]
  },
  {
   "cell_type": "code",
   "execution_count": null,
   "metadata": {
    "id": "p2_Xk1_O3irc"
   },
   "outputs": [],
   "source": [
    "buildBDDmain(Q2.splitlines())\n",
    "\n",
    "import graphviz\n",
    "from IPython.display import Image\n",
    "import pydot\n",
    "\n",
    "graphs = pydot.graph_from_dot_file(final_dot_file+\".dot\")\n",
    "graph = graphs[0]\n",
    "graph.write_png(final_dot_file+'.png')\n",
    "from IPython.display import Image\n",
    "Image(final_dot_file+'.png', width=300)"
   ]
  },
  {
   "cell_type": "markdown",
   "metadata": {
    "id": "PhiYN_cX3ird"
   },
   "source": [
    "# End"
   ]
  }
 ],
 "metadata": {
  "colab": {
   "name": "BDD.ipynb",
   "provenance": []
  },
  "kernelspec": {
   "display_name": "Python 3",
   "language": "python",
   "name": "python3"
  },
  "language_info": {
   "codemirror_mode": {
    "name": "ipython",
    "version": 3
   },
   "file_extension": ".py",
   "mimetype": "text/x-python",
   "name": "python",
   "nbconvert_exporter": "python",
   "pygments_lexer": "ipython3",
   "version": "3.8.5"
  },
  "toc": {
   "colors": {
    "hover_highlight": "#DAA520",
    "running_highlight": "#FF0000",
    "selected_highlight": "#FFD700"
   },
   "moveMenuLeft": true,
   "nav_menu": {
    "height": "318px",
    "width": "252px"
   },
   "navigate_menu": true,
   "number_sections": true,
   "sideBar": true,
   "threshold": 4,
   "toc_cell": false,
   "toc_section_display": "block",
   "toc_window_display": false,
   "widenNotebook": false
  }
 },
 "nbformat": 4,
 "nbformat_minor": 1
}

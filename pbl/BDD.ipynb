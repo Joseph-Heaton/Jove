{
 "cells": [
  {
   "cell_type": "code",
   "execution_count": null,
   "metadata": {
    "colab": {
     "base_uri": "https://localhost:8080/"
    },
    "id": "g8PM6TIXtZha",
    "outputId": "7be0bb9c-f374-4459-cd6f-8f8f0792a798",
    "run_control": {
     "frozen": false,
     "read_only": false
    }
   },
   "outputs": [],
   "source": [
    "#~~~~~~~~~~~~~~~~~~~~~~~~~~~~~~~~~~~~~~~~~~~~~~~~~~~~~~~\n",
    "import sys\n",
    "\n",
    "sys.path[0:0] = ['./Jove/pbl/python',\n",
    "                   './Jove/pbl/python/BDD_V2',\n",
    "                   './Jove/pbl/python/BDD_V2/BDD_V2',\n",
    "                   './Jove/pbl/python/BDD_V2/BDD_V2/include',\n",
    "                   './Jove/pbl/python/PyBool',\n",
    "                   './Jove/pbl/python/PyBool/include',\n",
    "                   './Jove/pbl/python/PyBool/include/ply'\n",
    "                ]\n",
    "! if [ ! -d Jove ]; then git clone https://github.com/ganeshutah/Jove Jove; fi"
   ]
  },
  {
   "cell_type": "code",
   "execution_count": null,
   "metadata": {
    "id": "3_v_avMUtZhg",
    "run_control": {
     "frozen": false,
     "read_only": false
    }
   },
   "outputs": [],
   "source": [
    "from BDD import *\n",
    "from BDD_ite import *\n",
    "from BDD_ite1 import *\n",
    "from dot_bdd import *\n",
    "\n",
    "from PBL_CNF import *\n",
    "from PBL_NNE import *\n",
    "\n",
    "from PyBool_algorithms import *\n",
    "from PyBool_builder import *\n",
    "from PyBool_dimacs_parse import *\n",
    "from PyBool_public_interface import *\n",
    "from PyBool_std_parse import *\n",
    "\n",
    "from ply import *\n",
    "from cpp import *\n",
    "from ctokens import *\n",
    "from lex import *\n",
    "from yacc import *\n",
    "from buildBDD import *\n",
    "from buildBDDMin import *\n",
    "from common import *\n",
    "#~~~~~~~~~~~~~~~~~~~~~~~~~~~~~~~~~~~~~~~~~~~~~~~~~~~~~~~"
   ]
  },
  {
   "cell_type": "markdown",
   "metadata": {
    "colab": {
     "base_uri": "https://localhost:8080/",
     "height": 53
    },
    "id": "mLWaD0q6tZhh",
    "outputId": "a6b85b7b-bb8b-489b-beda-b3b7455c5f2d"
   },
   "source": [
    "# A practice example"
   ]
  },
  {
   "cell_type": "code",
   "execution_count": null,
   "metadata": {
    "id": "tWC8_ptgFWXG"
   },
   "outputs": [],
   "source": [
    "ex1 = \n",
    "'''\n",
    "Var_Order : x1 x2 x3\n",
    "Var_Order : x4\n",
    "sub = ~x1 & x2 & (x3 | x4)\n",
    "sub_True = 1\n",
    "Main_Exp : sub -> sub_True\n",
    "'''"
   ]
  },
  {
   "cell_type": "code",
   "execution_count": null,
   "metadata": {},
   "outputs": [],
   "source": [
    "buildBDDmain(ex1.splitlines())\n",
    "\n",
    "import graphviz\n",
    "from IPython.display import Image\n",
    "import pydot\n",
    "\n",
    "graphs = pydot.graph_from_dot_file(final_dot_file+\".dot\")\n",
    "graph = graphs[0]\n",
    "graph.write_png(final_dot_file+'.png')\n",
    "from IPython.display import Image\n",
    "Image(final_dot_file+'.png', width=300)"
   ]
  },
  {
   "cell_type": "markdown",
   "metadata": {},
   "source": [
    "# Question 1 : uncomment and rerun as needed"
   ]
  },
  {
   "cell_type": "code",
   "execution_count": null,
   "metadata": {
    "colab": {
     "base_uri": "https://localhost:8080/"
    },
    "id": "4bK_aCJzFnE5",
    "outputId": "969cf138-78cd-4561-c483-1909577df5f8"
   },
   "outputs": [],
   "source": [
    "Q1 =\n",
    "'''\n",
    "#1 Var_Order : a3, a2, a1, a0, b3, b2, b1, b0         \n",
    "#2 Var_Order : something else\n",
    "lt1 = (~a3 & b3) | (~a2 & b2) | (~a1 & b1) | (~a0 & b0)\n",
    "gt1 = (a3 & ~b3) | (a2 & ~b2) | (a1 & ~b1) | (a0 & ~b0)\n",
    "lt2 = ~a3 & b3 | (a3<=>b3) & (~a2 & b2 | ((a2<=>b2) & (~a1 & b1 | (a1<=>b1) & ~a0 & b0)))\n",
    "gt2 = a3 & ~b3 | (a3<=>b3) & (a2 & ~b2 | ((a2<=>b2) & (a1 & ~b1 | (a1<=>b1) & a0 & ~b0)))\n",
    "eq = (a3 <=> b3) & (a2 <=> b2) & (a1 <=> b1) & (a0 <=> b0)\n",
    "#3 Main_Exp  : lt1 & gt1\n",
    "#4 Main_Exp  : lt2 & gt2\n",
    "#5 Main_Exp  : (lt1 & ~gt1) <=> lt1\n",
    "#6 Main_Exp  : (lt2 & ~gt2) <=> lt2\n",
    "'''"
   ]
  },
  {
   "cell_type": "code",
   "execution_count": null,
   "metadata": {
    "colab": {
     "base_uri": "https://localhost:8080/",
     "height": 833
    },
    "id": "xMTtfHLfE9fM",
    "outputId": "1f20e562-71c8-4da5-f85c-d1ed3f73940b"
   },
   "outputs": [],
   "source": [
    "buildBDDmain(Q1.splitlines())\n",
    "\n",
    "import graphviz\n",
    "from IPython.display import Image\n",
    "import pydot\n",
    "\n",
    "graphs = pydot.graph_from_dot_file(final_dot_file+\".dot\")\n",
    "graph = graphs[0]\n",
    "graph.write_png(final_dot_file+'.png')\n",
    "from IPython.display import Image\n",
    "Image(final_dot_file+'.png', width=300)"
   ]
  },
  {
   "cell_type": "markdown",
   "metadata": {
    "id": "U3MHEfYMGJxX"
   },
   "source": [
    "# Space to enter Q2 is below"
   ]
  },
  {
   "cell_type": "code",
   "execution_count": null,
   "metadata": {},
   "outputs": [],
   "source": [
    "Q2 =\n",
    "'''\n",
    "# Enter your BDD code below\n",
    "#...\n",
    "'''"
   ]
  },
  {
   "cell_type": "code",
   "execution_count": null,
   "metadata": {},
   "outputs": [],
   "source": [
    "buildBDDmain(Q2.splitlines())\n",
    "\n",
    "import graphviz\n",
    "from IPython.display import Image\n",
    "import pydot\n",
    "\n",
    "graphs = pydot.graph_from_dot_file(final_dot_file+\".dot\")\n",
    "graph = graphs[0]\n",
    "graph.write_png(final_dot_file+'.png')\n",
    "from IPython.display import Image\n",
    "Image(final_dot_file+'.png', width=300)"
   ]
  },
  {
   "cell_type": "markdown",
   "metadata": {},
   "source": [
    "# End"
   ]
  }
 ],
 "metadata": {
  "colab": {
   "name": "BDD.ipynb",
   "provenance": []
  },
  "kernelspec": {
   "display_name": "Python 3",
   "language": "python",
   "name": "python3"
  },
  "language_info": {
   "codemirror_mode": {
    "name": "ipython",
    "version": 3
   },
   "file_extension": ".py",
   "mimetype": "text/x-python",
   "name": "python",
   "nbconvert_exporter": "python",
   "pygments_lexer": "ipython3",
   "version": "3.8.5"
  },
  "toc": {
   "colors": {
    "hover_highlight": "#DAA520",
    "running_highlight": "#FF0000",
    "selected_highlight": "#FFD700"
   },
   "moveMenuLeft": true,
   "nav_menu": {
    "height": "318px",
    "width": "252px"
   },
   "navigate_menu": true,
   "number_sections": true,
   "sideBar": true,
   "threshold": 4,
   "toc_cell": false,
   "toc_section_display": "block",
   "toc_window_display": false,
   "widenNotebook": false
  }
 },
 "nbformat": 4,
 "nbformat_minor": 1
}

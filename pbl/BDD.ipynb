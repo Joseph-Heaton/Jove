{
 "cells": [
  {
   "cell_type": "code",
   "execution_count": 15,
   "metadata": {
    "run_control": {
     "frozen": false,
     "read_only": false
    }
   },
   "outputs": [],
   "source": [
    "#~~~~~~~~~~~~~~~~~~~~~~~~~~~~~~~~~~~~~~~~~~~~~~~~~~~~~~~\n",
    "import sys\n",
    "\n",
    "sys.path[0:0] = ['./Jove/pbl/python',\n",
    "                   './Jove/pbl/python/BDD_V2',\n",
    "                   './Jove/pbl/python/BDD_V2/BDD_V2',\n",
    "                   './Jove/pbl/python/BDD_V2/BDD_V2/include',\n",
    "                   './Jove/pbl/python/PyBool',\n",
    "                   './Jove/pbl/python/PyBool/include',\n",
    "                   './Jove/pbl/python/PyBool/include/ply'\n",
    "                ]\n",
    "! if [ ! -d Jove ]; then git clone https://github.com/ganeshutah/Jove Jove; fi"
   ]
  },
  {
   "cell_type": "code",
   "execution_count": 16,
   "metadata": {
    "run_control": {
     "frozen": false,
     "read_only": false
    }
   },
   "outputs": [],
   "source": [
    "from BDD import *\n",
    "from BDD_ite import *\n",
    "from BDD_ite1 import *\n",
    "from dot_bdd import *\n",
    "\n",
    "from PBL_CNF import *\n",
    "from PBL_NNE import *\n",
    "\n",
    "from PyBool_algorithms import *\n",
    "from PyBool_builder import *\n",
    "from PyBool_dimacs_parse import *\n",
    "from PyBool_public_interface import *\n",
    "from PyBool_std_parse import *\n",
    "\n",
    "from ply import *\n",
    "from cpp import *\n",
    "from ctokens import *\n",
    "from lex import *\n",
    "from yacc import *\n",
    "from buildBDD import *\n",
    "from buildBDDMin import *\n",
    "from common import *\n",
    "#~~~~~~~~~~~~~~~~~~~~~~~~~~~~~~~~~~~~~~~~~~~~~~~~~~~~~~~"
   ]
  },
  {
   "cell_type": "code",
   "execution_count": 17,
   "metadata": {},
   "outputs": [
    {
     "name": "stderr",
     "output_type": "stream",
     "text": [
      "Warning: Could not load \"/usr/local/Cellar/graphviz/2.49.1/lib/graphviz/libgvplugin_pango.6.dylib\" - It was found, so perhaps one of its dependents was not.  Try ldd.\n",
      "Warning: Could not load \"/usr/local/Cellar/graphviz/2.49.1/lib/graphviz/libgvplugin_pango.6.dylib\" - It was found, so perhaps one of its dependents was not.  Try ldd.\n",
      "Warning: Could not load \"/usr/local/Cellar/graphviz/2.49.1/lib/graphviz/libgvplugin_pango.6.dylib\" - It was found, so perhaps one of its dependents was not.  Try ldd.\n"
     ]
    },
    {
     "name": "stdout",
     "output_type": "stream",
     "text": [
      "cwd =  /Users/ganesh/repos/BDD/pbl\n",
      "dot_file =  python/programoutput/bdd_17_57_42.dot\n",
      "BDD =  {'u': 1, 'n': 4, 'h_table': {}, 't_table': {0: (5, None, None), 1: (5, None, None)}, 'var_order': ['x1', 'x2', 'x3', 'x4'], 'expr': {'type': 'or', 'expr1': {'type': 'and', 'expr1': {'type': 'and', 'expr1': {'type': 'neg', 'expr': {'type': 'var', 'name': ('x1', 0)}}, 'expr2': {'type': 'var', 'name': ('x2', 0)}}, 'expr2': {'type': 'or', 'expr1': {'type': 'var', 'name': ('x3', 0)}, 'expr2': {'type': 'var', 'name': ('x4', 0)}}}, 'expr2': {'type': 'const', 'value': True}}}\n",
      "bdd in dot file {'u': 1, 'n': 4, 'h_table': {}, 't_table': {0: (5, None, None), 1: (5, None, None)}, 'var_order': ['x1', 'x2', 'x3', 'x4'], 'expr': {'type': 'or', 'expr1': {'type': 'and', 'expr1': {'type': 'and', 'expr1': {'type': 'neg', 'expr': {'type': 'var', 'name': ('x1', 0)}}, 'expr2': {'type': 'var', 'name': ('x2', 0)}}, 'expr2': {'type': 'or', 'expr1': {'type': 'var', 'name': ('x3', 0)}, 'expr2': {'type': 'var', 'name': ('x4', 0)}}}, 'expr2': {'type': 'const', 'value': True}}}\n",
      "filename in dot python/programoutput/bdd_17_57_42.dot\n",
      "dot printed\n",
      "Dot file left behind as python/programoutput/bdd_17_57_42.dot\n",
      "Satisfying string is Number of satisfying assignments: 16\n",
      "Number of Variables : 4\n",
      "Number of Nodes     : 2\n",
      "Variable Ordering\n",
      "------------------------------------\n",
      "['x1', 'x2', 'x3', 'x4']\n",
      "\n",
      "All satisfying assignts:\n",
      "------------------------------\n",
      "<map object at 0x7f810461c100>\n",
      "<map object at 0x7f810461c310>\n",
      "<map object at 0x7f810461c100>\n",
      "<map object at 0x7f810461c310>\n",
      "<map object at 0x7f810461c100>\n",
      "<map object at 0x7f810461c310>\n",
      "<map object at 0x7f810461c100>\n",
      "<map object at 0x7f810461c310>\n",
      "<map object at 0x7f810461c100>\n",
      "<map object at 0x7f810461c310>\n",
      "<map object at 0x7f810461c100>\n",
      "<map object at 0x7f810461c310>\n",
      "<map object at 0x7f810461c100>\n",
      "<map object at 0x7f810461c310>\n",
      "<map object at 0x7f810461c100>\n",
      "<map object at 0x7f810461c310>\n",
      "\n"
     ]
    },
    {
     "data": {
      "text/plain": [
       "'somegraph.pdf'"
      ]
     },
     "execution_count": 17,
     "metadata": {},
     "output_type": "execute_result"
    }
   ],
   "source": [
    "ex1= [\"Var_Order : x1 x2 x3\",\n",
    "      \"Var_Order : x4\",\n",
    "      \"sub = ~x1 & x2 & (x3 | x4)\",\n",
    "      \"sub_True = 1\",\n",
    "      \"Main_Exp : sub | sub_True\"]\n",
    "\n",
    "buildBDDmain(ex1)\n",
    "\n",
    "import graphviz\n",
    "\n",
    "with open(final_dot_file) as f:\n",
    "    dot_graph = f.read()\n",
    "\n",
    "graph = graphviz.Source(dot_graph)\n",
    "graph.view('somegraph', cleanup = True)"
   ]
  },
  {
   "cell_type": "code",
   "execution_count": null,
   "metadata": {},
   "outputs": [],
   "source": []
  }
 ],
 "metadata": {
  "kernelspec": {
   "display_name": "Python 3",
   "language": "python",
   "name": "python3"
  },
  "language_info": {
   "codemirror_mode": {
    "name": "ipython",
    "version": 3
   },
   "file_extension": ".py",
   "mimetype": "text/x-python",
   "name": "python",
   "nbconvert_exporter": "python",
   "pygments_lexer": "ipython3",
   "version": "3.8.5"
  },
  "toc": {
   "colors": {
    "hover_highlight": "#DAA520",
    "running_highlight": "#FF0000",
    "selected_highlight": "#FFD700"
   },
   "moveMenuLeft": true,
   "nav_menu": {
    "height": "318px",
    "width": "252px"
   },
   "navigate_menu": true,
   "number_sections": true,
   "sideBar": true,
   "threshold": 4,
   "toc_cell": false,
   "toc_section_display": "block",
   "toc_window_display": false,
   "widenNotebook": false
  }
 },
 "nbformat": 4,
 "nbformat_minor": 2
}

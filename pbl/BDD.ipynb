{
 "cells": [
  {
   "cell_type": "code",
   "execution_count": null,
   "metadata": {
    "colab": {
     "base_uri": "https://localhost:8080/"
    },
    "id": "g8PM6TIXtZha",
    "outputId": "c4d89ee1-3339-419a-9178-2f1f4c47b559",
    "run_control": {
     "frozen": false,
     "read_only": false
    }
   },
   "outputs": [],
   "source": [
    "#~~~~~~~~~~~~~~~~~~~~~~~~~~~~~~~~~~~~~~~~~~~~~~~~~~~~~~~\n",
    "import sys\n",
    "\n",
    "sys.path[0:0] = ['./Jove/pbl/python',\n",
    "                   './Jove/pbl/python/BDD_V2',\n",
    "                   './Jove/pbl/python/BDD_V2/BDD_V2',\n",
    "                   './Jove/pbl/python/BDD_V2/BDD_V2/include',\n",
    "                   './Jove/pbl/python/PyBool',\n",
    "                   './Jove/pbl/python/PyBool/include',\n",
    "                   './Jove/pbl/python/PyBool/include/ply'\n",
    "                ]\n",
    "! if [ ! -d Jove ]; then git clone https://github.com/ganeshutah/Jove Jove; fi"
   ]
  },
  {
   "cell_type": "code",
   "execution_count": null,
   "metadata": {
    "id": "3_v_avMUtZhg",
    "run_control": {
     "frozen": false,
     "read_only": false
    }
   },
   "outputs": [],
   "source": [
    "from BDD import *\n",
    "from BDD_ite import *\n",
    "from BDD_ite1 import *\n",
    "from dot_bdd import *\n",
    "\n",
    "from PBL_CNF import *\n",
    "from PBL_NNE import *\n",
    "\n",
    "from PyBool_algorithms import *\n",
    "from PyBool_builder import *\n",
    "from PyBool_dimacs_parse import *\n",
    "from PyBool_public_interface import *\n",
    "from PyBool_std_parse import *\n",
    "\n",
    "from ply import *\n",
    "from cpp import *\n",
    "from ctokens import *\n",
    "from lex import *\n",
    "from yacc import *\n",
    "from buildBDD import *\n",
    "from buildBDDMin import *\n",
    "from common import *\n",
    "#~~~~~~~~~~~~~~~~~~~~~~~~~~~~~~~~~~~~~~~~~~~~~~~~~~~~~~~"
   ]
  },
  {
   "cell_type": "code",
   "execution_count": null,
   "metadata": {
    "colab": {
     "base_uri": "https://localhost:8080/",
     "height": 833
    },
    "id": "mLWaD0q6tZhh",
    "outputId": "ab891165-8276-4256-cee4-4c3fe17707e7"
   },
   "outputs": [],
   "source": [
    "ex1= [\"Var_Order : x1 x2 x3\",\n",
    "      \"Var_Order : x4\",\n",
    "      \"sub = ~x1 & x2 & (x3 | x4)\",\n",
    "      \"sub_True = 1\",\n",
    "      \"Main_Exp : sub -> sub_True\"]"
   ]
  },
  {
   "cell_type": "code",
   "execution_count": null,
   "metadata": {
    "colab": {
     "base_uri": "https://localhost:8080/",
     "height": 833
    },
    "id": "mLWaD0q6tZhh",
    "outputId": "ab891165-8276-4256-cee4-4c3fe17707e7"
   },
   "outputs": [],
   "source": [
    "buildBDDmain(ex1)\n",
    "\n",
    "import graphviz\n",
    "from IPython.display import Image\n",
    "import pydot\n",
    "\n",
    "graphs = pydot.graph_from_dot_file(final_dot_file)\n",
    "graph = graphs[0]\n",
    "graph.write_png('f.png')\n",
    "from IPython.display import Image\n",
    "Image('f.png', width=300)"
   ]
  }
 ],
 "metadata": {
  "colab": {
   "name": "BDD.ipynb",
   "provenance": []
  },
  "kernelspec": {
   "display_name": "Python 3",
   "language": "python",
   "name": "python3"
  },
  "language_info": {
   "codemirror_mode": {
    "name": "ipython",
    "version": 3
   },
   "file_extension": ".py",
   "mimetype": "text/x-python",
   "name": "python",
   "nbconvert_exporter": "python",
   "pygments_lexer": "ipython3",
   "version": "3.8.5"
  },
  "toc": {
   "colors": {
    "hover_highlight": "#DAA520",
    "running_highlight": "#FF0000",
    "selected_highlight": "#FFD700"
   },
   "moveMenuLeft": true,
   "nav_menu": {
    "height": "318px",
    "width": "252px"
   },
   "navigate_menu": true,
   "number_sections": true,
   "sideBar": true,
   "threshold": 4,
   "toc_cell": false,
   "toc_section_display": "block",
   "toc_window_display": false,
   "widenNotebook": false
  }
 },
 "nbformat": 4,
 "nbformat_minor": 1
}

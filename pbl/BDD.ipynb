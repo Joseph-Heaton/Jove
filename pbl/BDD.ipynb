{
  "nbformat": 4,
  "nbformat_minor": 0,
  "metadata": {
    "colab": {
      "name": "BDD.ipynb",
      "provenance": []
    },
    "kernelspec": {
      "display_name": "Python 3",
      "language": "python",
      "name": "python3"
    },
    "language_info": {
      "codemirror_mode": {
        "name": "ipython",
        "version": 3
      },
      "file_extension": ".py",
      "mimetype": "text/x-python",
      "name": "python",
      "nbconvert_exporter": "python",
      "pygments_lexer": "ipython3",
      "version": "3.8.5"
    },
    "toc": {
      "colors": {
        "hover_highlight": "#DAA520",
        "running_highlight": "#FF0000",
        "selected_highlight": "#FFD700"
      },
      "moveMenuLeft": true,
      "nav_menu": {
        "height": "318px",
        "width": "252px"
      },
      "navigate_menu": true,
      "number_sections": true,
      "sideBar": true,
      "threshold": 4,
      "toc_cell": false,
      "toc_section_display": "block",
      "toc_window_display": false,
      "widenNotebook": false
    }
  },
  "cells": [
    {
      "cell_type": "code",
      "metadata": {
        "colab": {
          "base_uri": "https://localhost:8080/"
        },
        "id": "g8PM6TIXtZha",
        "run_control": {
          "frozen": false,
          "read_only": false
        },
        "outputId": "7be0bb9c-f374-4459-cd6f-8f8f0792a798"
      },
      "source": [
        "#~~~~~~~~~~~~~~~~~~~~~~~~~~~~~~~~~~~~~~~~~~~~~~~~~~~~~~~\n",
        "import sys\n",
        "\n",
        "sys.path[0:0] = ['./Jove/pbl/python',\n",
        "                   './Jove/pbl/python/BDD_V2',\n",
        "                   './Jove/pbl/python/BDD_V2/BDD_V2',\n",
        "                   './Jove/pbl/python/BDD_V2/BDD_V2/include',\n",
        "                   './Jove/pbl/python/PyBool',\n",
        "                   './Jove/pbl/python/PyBool/include',\n",
        "                   './Jove/pbl/python/PyBool/include/ply'\n",
        "                ]\n",
        "! if [ ! -d Jove ]; then git clone https://github.com/ganeshutah/Jove Jove; fi"
      ],
      "execution_count": 76,
      "outputs": [
        {
          "output_type": "stream",
          "name": "stdout",
          "text": [
            "Cloning into 'Jove'...\n",
            "remote: Enumerating objects: 5315, done.\u001b[K\n",
            "remote: Counting objects: 100% (681/681), done.\u001b[K\n",
            "remote: Compressing objects: 100% (497/497), done.\u001b[K\n",
            "remote: Total 5315 (delta 335), reused 493 (delta 162), pack-reused 4634\u001b[K\n",
            "Receiving objects: 100% (5315/5315), 8.11 MiB | 17.38 MiB/s, done.\n",
            "Resolving deltas: 100% (3340/3340), done.\n"
          ]
        }
      ]
    },
    {
      "cell_type": "code",
      "metadata": {
        "id": "3_v_avMUtZhg",
        "run_control": {
          "frozen": false,
          "read_only": false
        }
      },
      "source": [
        "from BDD import *\n",
        "from BDD_ite import *\n",
        "from BDD_ite1 import *\n",
        "from dot_bdd import *\n",
        "\n",
        "from PBL_CNF import *\n",
        "from PBL_NNE import *\n",
        "\n",
        "from PyBool_algorithms import *\n",
        "from PyBool_builder import *\n",
        "from PyBool_dimacs_parse import *\n",
        "from PyBool_public_interface import *\n",
        "from PyBool_std_parse import *\n",
        "\n",
        "from ply import *\n",
        "from cpp import *\n",
        "from ctokens import *\n",
        "from lex import *\n",
        "from yacc import *\n",
        "from buildBDD import *\n",
        "from buildBDDMin import *\n",
        "from common import *\n",
        "#~~~~~~~~~~~~~~~~~~~~~~~~~~~~~~~~~~~~~~~~~~~~~~~~~~~~~~~"
      ],
      "execution_count": 77,
      "outputs": []
    },
    {
      "cell_type": "code",
      "metadata": {
        "colab": {
          "base_uri": "https://localhost:8080/",
          "height": 53
        },
        "id": "mLWaD0q6tZhh",
        "outputId": "a6b85b7b-bb8b-489b-beda-b3b7455c5f2d"
      },
      "source": [
        ""
      ],
      "execution_count": 80,
      "outputs": [
        {
          "output_type": "execute_result",
          "data": {
            "application/vnd.google.colaboratory.intrinsic+json": {
              "type": "string"
            },
            "text/plain": [
              "'\\nex1= [\"Var_Order : x1 x2 x3\",\\n      \"Var_Order : x4\",\\n      \"sub = ~x1 & x2 & (x3 | x4)\",\\n      \"sub_True = 1\",\\n      \"Main_Exp : sub -> sub_True\"]\\n'"
            ]
          },
          "metadata": {},
          "execution_count": 80
        }
      ]
    },
    {
      "cell_type": "code",
      "metadata": {
        "id": "tWC8_ptgFWXG"
      },
      "source": [
        "ex1 = '''\n",
        "Var_Order : x1 x2 x3\n",
        "Var_Order : x4\n",
        "sub = ~x1 & x2 & (x3 | x4)\n",
        "sub_True = 1\n",
        "Main_Exp : sub -> sub_True\n",
        "'''"
      ],
      "execution_count": 84,
      "outputs": []
    },
    {
      "cell_type": "code",
      "metadata": {
        "id": "4bK_aCJzFnE5",
        "outputId": "969cf138-78cd-4561-c483-1909577df5f8",
        "colab": {
          "base_uri": "https://localhost:8080/"
        }
      },
      "source": [
        ""
      ],
      "execution_count": 83,
      "outputs": [
        {
          "output_type": "execute_result",
          "data": {
            "text/plain": [
              "['',\n",
              " 'Var_Order : x1 x2 x3',\n",
              " 'Var_Order : x4',\n",
              " 'sub = ~x1 & x2 & (x3 | x4)',\n",
              " 'sub_True = 1',\n",
              " 'Main_Exp : sub -> sub_True']"
            ]
          },
          "metadata": {},
          "execution_count": 83
        }
      ]
    },
    {
      "cell_type": "code",
      "metadata": {
        "colab": {
          "base_uri": "https://localhost:8080/",
          "height": 833
        },
        "id": "xMTtfHLfE9fM",
        "outputId": "1f20e562-71c8-4da5-f85c-d1ed3f73940b"
      },
      "source": [
        "buildBDDmain(ex1.splitlines())\n",
        "\n",
        "import graphviz\n",
        "from IPython.display import Image\n",
        "import pydot\n",
        "\n",
        "graphs = pydot.graph_from_dot_file(final_dot_file)\n",
        "graph = graphs[0]\n",
        "graph.write_png('f.png')\n",
        "from IPython.display import Image\n",
        "Image('f.png', width=300)"
      ],
      "execution_count": 85,
      "outputs": [
        {
          "output_type": "stream",
          "name": "stdout",
          "text": [
            "cwd =  /content\n",
            "dot_file =  bdd_04_45_01.dot\n",
            "BDD =  {'u': 1, 'n': 4, 'h_table': {}, 't_table': {0: (5, None, None), 1: (5, None, None)}, 'var_order': ['x1', 'x2', 'x3', 'x4'], 'expr': {'type': 'impl', 'expr1': {'type': 'and', 'expr1': {'type': 'and', 'expr1': {'type': 'neg', 'expr': {'type': 'var', 'name': ('x1', 0)}}, 'expr2': {'type': 'var', 'name': ('x2', 0)}}, 'expr2': {'type': 'or', 'expr1': {'type': 'var', 'name': ('x3', 0)}, 'expr2': {'type': 'var', 'name': ('x4', 0)}}}, 'expr2': {'type': 'const', 'value': True}}}\n",
            "bdd in dot file {'u': 1, 'n': 4, 'h_table': {}, 't_table': {0: (5, None, None), 1: (5, None, None)}, 'var_order': ['x1', 'x2', 'x3', 'x4'], 'expr': {'type': 'impl', 'expr1': {'type': 'and', 'expr1': {'type': 'and', 'expr1': {'type': 'neg', 'expr': {'type': 'var', 'name': ('x1', 0)}}, 'expr2': {'type': 'var', 'name': ('x2', 0)}}, 'expr2': {'type': 'or', 'expr1': {'type': 'var', 'name': ('x3', 0)}, 'expr2': {'type': 'var', 'name': ('x4', 0)}}}, 'expr2': {'type': 'const', 'value': True}}}\n",
            "filename in dot bdd_04_45_01.dot\n",
            "dot printed\n",
            "Dot file left behind as bdd_04_45_01.dot\n",
            "Satisfying string is Number of satisfying assignments: 16\n",
            "Number of Variables : 4\n",
            "Number of Nodes     : 2\n",
            "Variable Ordering\n",
            "------------------------------------\n",
            "['x1', 'x2', 'x3', 'x4']\n",
            "\n",
            "All satisfying assignts:\n",
            "------------------------------\n",
            "<map object at 0x7f2966585550>\n",
            "<map object at 0x7f2966585690>\n",
            "<map object at 0x7f2966585550>\n",
            "<map object at 0x7f2966585690>\n",
            "<map object at 0x7f2966585550>\n",
            "<map object at 0x7f2966585690>\n",
            "<map object at 0x7f2966585550>\n",
            "<map object at 0x7f2966585690>\n",
            "<map object at 0x7f2966585550>\n",
            "<map object at 0x7f2966585690>\n",
            "<map object at 0x7f2966585550>\n",
            "<map object at 0x7f2966585690>\n",
            "<map object at 0x7f2966585550>\n",
            "<map object at 0x7f2966585690>\n",
            "<map object at 0x7f2966585550>\n",
            "<map object at 0x7f2966585690>\n",
            "\n"
          ]
        },
        {
          "output_type": "execute_result",
          "data": {
            "image/png": "[encoded data removed]",
            "text/plain": [
              "<IPython.core.display.Image object>"
            ]
          },
          "metadata": {
            "image/png": {
              "width": 300
            }
          },
          "execution_count": 85
        }
      ]
    },
    {
      "cell_type": "code",
      "metadata": {
        "id": "U3MHEfYMGJxX"
      },
      "source": [
        ""
      ],
      "execution_count": null,
      "outputs": []
    }
  ]
}